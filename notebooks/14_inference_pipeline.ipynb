{
 "cells": [
  {
   "cell_type": "code",
   "execution_count": 1,
   "metadata": {},
   "outputs": [],
   "source": [
    "%load_ext autoreload\n",
    "%autoreload 2"
   ]
  },
  {
   "cell_type": "code",
   "execution_count": 2,
   "metadata": {},
   "outputs": [
    {
     "name": "stdout",
     "output_type": "stream",
     "text": [
      "current_date=Timestamp('2024-01-04 02:00:00')\n"
     ]
    }
   ],
   "source": [
    "from datetime import datetime, timedelta\n",
    "import pandas as pd\n",
    "\n",
    "current_date = pd.to_datetime(datetime.utcnow()).floor('H') # - timedelta(hours=1)\n",
    "print(f'{current_date=}')\n",
    "# current_date = pd.Timestamp('2023-02-28 09:00:00')"
   ]
  },
  {
   "cell_type": "code",
   "execution_count": 3,
   "metadata": {},
   "outputs": [
    {
     "name": "stdout",
     "output_type": "stream",
     "text": [
      "Connected. Call `.close()` to terminate connection gracefully.\n",
      "\n",
      "Logged in to project, explore it here https://c.app.hopsworks.ai:443/p/305300\n",
      "Connected. Call `.close()` to terminate connection gracefully.\n",
      "2024-01-03 18:05:00,768 INFO: Feature view already exists, skipping creation.\n",
      "Connection closed.\n",
      "Connected. Call `.close()` to terminate connection gracefully.\n",
      "\n",
      "Logged in to project, explore it here https://c.app.hopsworks.ai:443/p/305300\n",
      "Connected. Call `.close()` to terminate connection gracefully.\n"
     ]
    }
   ],
   "source": [
    "import hopsworks\n",
    "import src.config as config\n",
    "from src.config import FEATURE_VIEW_METADATA\n",
    "from src.feature_store_api import get_feature_store, get_or_create_feature_view\n",
    "feature_view = get_or_create_feature_view(FEATURE_VIEW_METADATA)"
   ]
  },
  {
   "cell_type": "code",
   "execution_count": 18,
   "metadata": {},
   "outputs": [
    {
     "name": "stdout",
     "output_type": "stream",
     "text": [
      "fetch_data_from=Timestamp('2023-12-07 02:00:00')\n",
      "fetch_data_to=Timestamp('2024-01-04 01:00:00')\n"
     ]
    }
   ],
   "source": [
    "fetch_data_from = current_date - timedelta(days=28)\n",
    "fetch_data_to = current_date - timedelta(hours=1)\n",
    "print(f'{fetch_data_from=}')\n",
    "print(f'{fetch_data_to=}')"
   ]
  },
  {
   "cell_type": "code",
   "execution_count": 19,
   "metadata": {},
   "outputs": [],
   "source": [
    "fetch_data_to = pd.to_datetime(fetch_data_to, utc=True).floor('H')\n",
    "fetch_data_from = pd.to_datetime(fetch_data_from, utc=True).floor('H')"
   ]
  },
  {
   "cell_type": "code",
   "execution_count": 20,
   "metadata": {},
   "outputs": [
    {
     "name": "stdout",
     "output_type": "stream",
     "text": [
      "Finished: Reading data from Hopsworks, using ArrowFlight (82.21s) \n",
      "ts_data.pickup_hour.min()=Timestamp('2023-12-07 02:00:00+0000', tz='UTC')\n",
      "ts_data.pickup_hour.max()=Timestamp('2024-01-04 01:00:00+0000', tz='UTC')\n",
      "(ts_data.pickup_hour.max() - ts_data.pickup_hour.min()).days=27\n"
     ]
    }
   ],
   "source": [
    "ts_data = feature_view.get_batch_data(\n",
    "        start_time=pd.to_datetime((fetch_data_from - timedelta(days=1)), utc=True).floor('H'),\n",
    "        end_time=pd.to_datetime((fetch_data_to + timedelta(days=1)), utc=True).floor('H')\n",
    "    )\n",
    "\n",
    "ts_data= ts_data[ts_data.pickup_hour.between(fetch_data_from, fetch_data_to)]\n",
    "ts_data.sort_values(by=['pickup_location_id', 'pickup_hour'], inplace=True)\n",
    "location_ids = ts_data['pickup_location_id'].unique()\n",
    "print(f'{ts_data.pickup_hour.min()=}')\n",
    "print(f'{ts_data.pickup_hour.max()=}')\n",
    "print(f'{(ts_data.pickup_hour.max() - ts_data.pickup_hour.min()).days=}')"
   ]
  },
  {
   "cell_type": "code",
   "execution_count": 26,
   "metadata": {},
   "outputs": [
    {
     "name": "stdout",
     "output_type": "stream",
     "text": [
      "len(ts_data.reset_index())=175914\n",
      "len(location_ids)=262\n"
     ]
    }
   ],
   "source": [
    "print(f'{len(ts_data.reset_index())=}')\n",
    "print(f'{len(location_ids)=}')"
   ]
  },
  {
   "cell_type": "code",
   "execution_count": 22,
   "metadata": {},
   "outputs": [
    {
     "name": "stdout",
     "output_type": "stream",
     "text": [
      "(ts_data.pickup_hour.max() - ts_data.pickup_hour.min()).total_seconds() / 3600 =671.0\n"
     ]
    }
   ],
   "source": [
    "print(f'{(ts_data.pickup_hour.max() - ts_data.pickup_hour.min()).total_seconds() / 3600 =}')"
   ]
  },
  {
   "cell_type": "code",
   "execution_count": 34,
   "metadata": {},
   "outputs": [
    {
     "data": {
      "text/plain": [
       "pickup_hour\n",
       "2023-12-07 02:00:00+00:00    False\n",
       "2023-12-23 11:00:00+00:00    False\n",
       "2023-12-23 13:00:00+00:00    False\n",
       "2023-12-23 14:00:00+00:00    False\n",
       "2023-12-23 15:00:00+00:00    False\n",
       "                             ...  \n",
       "2024-01-01 22:00:00+00:00     True\n",
       "2024-01-01 21:00:00+00:00     True\n",
       "2024-01-01 20:00:00+00:00     True\n",
       "2024-01-01 19:00:00+00:00     True\n",
       "2024-01-04 01:00:00+00:00     True\n",
       "Name: count, Length: 672, dtype: bool"
      ]
     },
     "execution_count": 34,
     "metadata": {},
     "output_type": "execute_result"
    }
   ],
   "source": [
    "ts_data['pickup_hour'].value_counts() < 262"
   ]
  },
  {
   "cell_type": "code",
   "execution_count": 40,
   "metadata": {},
   "outputs": [],
   "source": [
    "missing_locations = ts_data.loc[ts_data['pickup_hour'] == '2024-01-01 22:00:00+00:00', :]['pickup_location_id'].unique()"
   ]
  },
  {
   "cell_type": "code",
   "execution_count": 44,
   "metadata": {},
   "outputs": [
    {
     "data": {
      "text/plain": [
       "array([176, 199])"
      ]
     },
     "execution_count": 44,
     "metadata": {},
     "output_type": "execute_result"
    }
   ],
   "source": [
    "import numpy as np\n",
    "np.setdiff1d(location_ids, missing_locations)"
   ]
  },
  {
   "cell_type": "code",
   "execution_count": 50,
   "metadata": {},
   "outputs": [
    {
     "data": {
      "text/html": [
       "<div>\n",
       "<style scoped>\n",
       "    .dataframe tbody tr th:only-of-type {\n",
       "        vertical-align: middle;\n",
       "    }\n",
       "\n",
       "    .dataframe tbody tr th {\n",
       "        vertical-align: top;\n",
       "    }\n",
       "\n",
       "    .dataframe thead th {\n",
       "        text-align: right;\n",
       "    }\n",
       "</style>\n",
       "<table border=\"1\" class=\"dataframe\">\n",
       "  <thead>\n",
       "    <tr style=\"text-align: right;\">\n",
       "      <th></th>\n",
       "      <th>pickup_hour</th>\n",
       "      <th>rides</th>\n",
       "      <th>pickup_location_id</th>\n",
       "      <th>pickup_ts</th>\n",
       "    </tr>\n",
       "  </thead>\n",
       "  <tbody>\n",
       "    <tr>\n",
       "      <th>106774</th>\n",
       "      <td>2023-12-07 02:00:00+00:00</td>\n",
       "      <td>0</td>\n",
       "      <td>176</td>\n",
       "      <td>1701914400000</td>\n",
       "    </tr>\n",
       "    <tr>\n",
       "      <th>69254</th>\n",
       "      <td>2023-12-07 03:00:00+00:00</td>\n",
       "      <td>0</td>\n",
       "      <td>176</td>\n",
       "      <td>1701918000000</td>\n",
       "    </tr>\n",
       "    <tr>\n",
       "      <th>117401</th>\n",
       "      <td>2023-12-07 04:00:00+00:00</td>\n",
       "      <td>0</td>\n",
       "      <td>176</td>\n",
       "      <td>1701921600000</td>\n",
       "    </tr>\n",
       "    <tr>\n",
       "      <th>79622</th>\n",
       "      <td>2023-12-07 05:00:00+00:00</td>\n",
       "      <td>0</td>\n",
       "      <td>176</td>\n",
       "      <td>1701925200000</td>\n",
       "    </tr>\n",
       "    <tr>\n",
       "      <th>35908</th>\n",
       "      <td>2023-12-07 06:00:00+00:00</td>\n",
       "      <td>0</td>\n",
       "      <td>176</td>\n",
       "      <td>1701928800000</td>\n",
       "    </tr>\n",
       "    <tr>\n",
       "      <th>...</th>\n",
       "      <td>...</td>\n",
       "      <td>...</td>\n",
       "      <td>...</td>\n",
       "      <td>...</td>\n",
       "    </tr>\n",
       "    <tr>\n",
       "      <th>161488</th>\n",
       "      <td>2023-12-31 18:00:00+00:00</td>\n",
       "      <td>0</td>\n",
       "      <td>176</td>\n",
       "      <td>1704045600000</td>\n",
       "    </tr>\n",
       "    <tr>\n",
       "      <th>161673</th>\n",
       "      <td>2023-12-31 19:00:00+00:00</td>\n",
       "      <td>0</td>\n",
       "      <td>176</td>\n",
       "      <td>1704049200000</td>\n",
       "    </tr>\n",
       "    <tr>\n",
       "      <th>161925</th>\n",
       "      <td>2023-12-31 20:00:00+00:00</td>\n",
       "      <td>0</td>\n",
       "      <td>176</td>\n",
       "      <td>1704052800000</td>\n",
       "    </tr>\n",
       "    <tr>\n",
       "      <th>162422</th>\n",
       "      <td>2023-12-31 21:00:00+00:00</td>\n",
       "      <td>0</td>\n",
       "      <td>176</td>\n",
       "      <td>1704056400000</td>\n",
       "    </tr>\n",
       "    <tr>\n",
       "      <th>162443</th>\n",
       "      <td>2023-12-31 22:00:00+00:00</td>\n",
       "      <td>0</td>\n",
       "      <td>176</td>\n",
       "      <td>1704060000000</td>\n",
       "    </tr>\n",
       "  </tbody>\n",
       "</table>\n",
       "<p>597 rows × 4 columns</p>\n",
       "</div>"
      ],
      "text/plain": [
       "                     pickup_hour  rides  pickup_location_id      pickup_ts\n",
       "106774 2023-12-07 02:00:00+00:00      0                 176  1701914400000\n",
       "69254  2023-12-07 03:00:00+00:00      0                 176  1701918000000\n",
       "117401 2023-12-07 04:00:00+00:00      0                 176  1701921600000\n",
       "79622  2023-12-07 05:00:00+00:00      0                 176  1701925200000\n",
       "35908  2023-12-07 06:00:00+00:00      0                 176  1701928800000\n",
       "...                          ...    ...                 ...            ...\n",
       "161488 2023-12-31 18:00:00+00:00      0                 176  1704045600000\n",
       "161673 2023-12-31 19:00:00+00:00      0                 176  1704049200000\n",
       "161925 2023-12-31 20:00:00+00:00      0                 176  1704052800000\n",
       "162422 2023-12-31 21:00:00+00:00      0                 176  1704056400000\n",
       "162443 2023-12-31 22:00:00+00:00      0                 176  1704060000000\n",
       "\n",
       "[597 rows x 4 columns]"
      ]
     },
     "execution_count": 50,
     "metadata": {},
     "output_type": "execute_result"
    }
   ],
   "source": [
    "ts_data.loc[ts_data.pickup_location_id == 176, :]"
   ]
  },
  {
   "cell_type": "code",
   "execution_count": null,
   "metadata": {},
   "outputs": [],
   "source": [
    "print(f'{config.N_FEATURES=}')\n",
    "print(f'{(config.N_FEATURES * len(location_ids)) =}'))"
   ]
  },
  {
   "cell_type": "code",
   "execution_count": 52,
   "metadata": {},
   "outputs": [
    {
     "data": {
      "text/plain": [
       "DatetimeIndex(['2023-12-07 02:00:00+00:00', '2023-12-07 03:00:00+00:00',\n",
       "               '2023-12-07 04:00:00+00:00', '2023-12-07 05:00:00+00:00',\n",
       "               '2023-12-07 06:00:00+00:00', '2023-12-07 07:00:00+00:00',\n",
       "               '2023-12-07 08:00:00+00:00', '2023-12-07 09:00:00+00:00',\n",
       "               '2023-12-07 10:00:00+00:00', '2023-12-07 11:00:00+00:00',\n",
       "               ...\n",
       "               '2024-01-03 16:00:00+00:00', '2024-01-03 17:00:00+00:00',\n",
       "               '2024-01-03 18:00:00+00:00', '2024-01-03 19:00:00+00:00',\n",
       "               '2024-01-03 20:00:00+00:00', '2024-01-03 21:00:00+00:00',\n",
       "               '2024-01-03 22:00:00+00:00', '2024-01-03 23:00:00+00:00',\n",
       "               '2024-01-04 00:00:00+00:00', '2024-01-04 01:00:00+00:00'],\n",
       "              dtype='datetime64[ns, UTC]', length=672, freq='H')"
      ]
     },
     "execution_count": 52,
     "metadata": {},
     "output_type": "execute_result"
    }
   ],
   "source": [
    "full_range = pd.date_range(ts_data['pickup_hour'].min(), ts_data['pickup_hour'].max(), freq='H')\n",
    "full_range"
   ]
  },
  {
   "cell_type": "code",
   "execution_count": 53,
   "metadata": {},
   "outputs": [],
   "source": [
    "rides_i = ts_data.loc[ts_data.pickup_location_id == 176, ['pickup_hour', 'rides']]\n",
    "            \n",
    "# quick way to add missing dates with 0 in a Series\n",
    "# taken from https://stackoverflow.com/a/19324591\n",
    "rides_i.set_index('pickup_hour', inplace=True)\n",
    "rides_i.index = pd.DatetimeIndex(rides_i.index)\n",
    "rides_i = rides_i.reindex(full_range, fill_value=0)\n",
    "\n",
    "# add back `location_id` columns\n",
    "rides_i['pickup_location_id'] = 176\n",
    "\n",
    "rides_i.reset_index(inplace=True)"
   ]
  },
  {
   "cell_type": "code",
   "execution_count": 58,
   "metadata": {},
   "outputs": [
    {
     "data": {
      "text/plain": [
       "672"
      ]
     },
     "execution_count": 58,
     "metadata": {},
     "output_type": "execute_result"
    }
   ],
   "source": [
    "len(rides_i)"
   ]
  },
  {
   "cell_type": "code",
   "execution_count": 62,
   "metadata": {},
   "outputs": [
    {
     "data": {
      "text/plain": [
       "597"
      ]
     },
     "execution_count": 62,
     "metadata": {},
     "output_type": "execute_result"
    }
   ],
   "source": [
    "len(ts_data.loc[ts_data.pickup_location_id == 176, ['pickup_hour', 'rides']])"
   ]
  },
  {
   "cell_type": "code",
   "execution_count": null,
   "metadata": {},
   "outputs": [],
   "source": [
    "x = ts_data.groupby(['pickup_location_id', 'pickup_ts']).size().reset_index(name='count')\n",
    "len(x)"
   ]
  },
  {
   "cell_type": "code",
   "execution_count": null,
   "metadata": {},
   "outputs": [],
   "source": []
  },
  {
   "cell_type": "code",
   "execution_count": null,
   "metadata": {},
   "outputs": [],
   "source": [
    "from src.inference import load_batch_of_features_from_store\n",
    "\n",
    "features = load_batch_of_features_from_store(current_date)"
   ]
  },
  {
   "cell_type": "code",
   "execution_count": null,
   "metadata": {},
   "outputs": [],
   "source": [
    "# import hopsworks\n",
    "# hopsworks.connection().close()"
   ]
  },
  {
   "cell_type": "code",
   "execution_count": null,
   "metadata": {},
   "outputs": [],
   "source": []
  }
 ],
 "metadata": {
  "kernelspec": {
   "display_name": ".venv",
   "language": "python",
   "name": "python3"
  },
  "language_info": {
   "codemirror_mode": {
    "name": "ipython",
    "version": 3
   },
   "file_extension": ".py",
   "mimetype": "text/x-python",
   "name": "python",
   "nbconvert_exporter": "python",
   "pygments_lexer": "ipython3",
   "version": "3.11.7"
  }
 },
 "nbformat": 4,
 "nbformat_minor": 2
}

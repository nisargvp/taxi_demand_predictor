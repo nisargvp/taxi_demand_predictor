{
 "cells": [
  {
   "cell_type": "markdown",
   "metadata": {
    "collapsed": false
   },
   "source": [
    "# Motivation\n",
    "\n",
    "This notebook aims to show how to use Sklearn Pipelines at their full capacity by implementing a yearly wheat yield forecasting model.\n",
    "\n",
    "We have used the **dataset** provided by [Pangaea](https://doi.pangaea.de/10.1594/PANGAEA.909132), which tracks global yearly yields for various plants from 1981 to 2016."
   ]
  },
  {
   "cell_type": "markdown",
   "metadata": {
    "collapsed": false
   },
   "source": [
    "In this notebook, we showed how to use the following classes/functions from Sklearn to build a professional machine learning pipeline:\n",
    "* [TransformerMixin](https://scikit-learn.org/stable/modules/generated/sklearn.base.TransformerMixin.html)\n",
    "* [BaseEstimator](https://scikit-learn.org/stable/modules/generated/sklearn.base.BaseEstimator.html)\n",
    "* [FunctionTransformer](https://scikit-learn.org/stable/modules/generated/sklearn.preprocessing.FunctionTransformer.html)\n",
    "* [ColumnTransformer](https://scikit-learn.org/stable/modules/generated/sklearn.compose.ColumnTransformer.html)\n",
    "* [FeatureUnion](https://scikit-learn.org/stable/modules/generated/sklearn.pipeline.FeatureUnion.html)\n",
    "* [TransformedTargetRegressor](https://scikit-learn.org/stable/modules/generated/sklearn.compose.TransformedTargetRegressor.html)\n",
    "---\n",
    "We will only go into the details of some items stated above and just show how to use them in an actual application. If you want to read the basics, here are a few articles I recommend:\n",
    "* https://towardsdatascience.com/getting-the-most-out-of-scikit-learn-pipelines-c2afc4410f1a\n",
    "* https://medium.com/towards-data-science/10-sklearn-gems-buried-in-the-docs-waiting-to-be-found-ad95a8fabdfd"
   ]
  },
  {
   "cell_type": "markdown",
   "metadata": {
    "collapsed": false
   },
   "source": [
    "## Summary of Basic Concepts\n",
    "\n",
    "Everything is revolved around the `Pipeline` object.\n",
    "\n",
    "A `Pipeline` contains multiple `Estimators`.\n",
    "\n",
    "An `Estimator` can have the following properties:\n",
    "* can learn from the data -> using the `fit()` method\n",
    "* can transform the data -> using the `transform()` method. This is known as a `Transformer` (no, not the robots, just a `Class`).\n",
    "* can predict from new data -> using the `predict()` method. This is known as a `Predictor`.\n",
    "\n",
    "**NOTE 1:** We can have `Transformers` that do not have a `fit()` method. Therefore, those classes are not parameterized and follow the principles of a pure function. Usually, those types of transformers are helpful when doing feature engineering (e.g., we can multiply two different columns without learning anything before using the `fit()` method).\n",
    "\n",
    "**NOTE 2:** The `Pipeline` object inherits the methods from the last `Estimator` within the `Pipeline`.\n",
    "\n",
    "**NOTE 3:** If you want to add a model to your pipeline, it must be your `Pipeline` last element. I will show you a trick on how to perform postprocessing operations on the model's predictions using [TransformedTargetRegressor](https://scikit-learn.org/stable/modules/generated/sklearn.compose.TransformedTargetRegressor.html)."
   ]
  },
  {
   "cell_type": "markdown",
   "metadata": {
    "collapsed": false
   },
   "source": [
    "# Load Packages"
   ]
  },
  {
   "cell_type": "code",
   "execution_count": 1,
   "metadata": {
    "collapsed": false
   },
   "outputs": [],
   "source": [
    "from sklearn import set_config\n",
    "\n",
    "# By setting the display of Sklearn to \"diagram,\" we can quickly visualize the pipeline diagram.\n",
    "set_config(display=\"diagram\")"
   ]
  },
  {
   "cell_type": "code",
   "execution_count": 2,
   "metadata": {
    "collapsed": false
   },
   "outputs": [],
   "source": [
    "import glob\n",
    "import re\n",
    "import os\n",
    "import logging\n",
    "\n",
    "import pandas as pd\n",
    "import numpy as np\n",
    "import xarray as xr\n",
    "\n",
    "from sklearn.base import BaseEstimator, TransformerMixin\n",
    "from sklearn.compose import make_column_transformer, TransformedTargetRegressor\n",
    "from sklearn.ensemble import RandomForestRegressor\n",
    "from sklearn.metrics import mean_squared_error, mean_absolute_percentage_error\n",
    "from sklearn.pipeline import make_pipeline, make_union, Pipeline\n",
    "from sklearn.preprocessing import FunctionTransformer, MinMaxScaler\n",
    "\n",
    "from functools import partial\n",
    "from typing import Optional, Union, Tuple"
   ]
  },
  {
   "cell_type": "markdown",
   "metadata": {
    "collapsed": false
   },
   "source": [
    "We will use the logger instead of the print function. If you want to turn off the pipeline's verbose messages, just set the level to `logging.INFO`."
   ]
  },
  {
   "cell_type": "code",
   "execution_count": 3,
   "metadata": {
    "collapsed": false
   },
   "outputs": [
    {
     "name": "stderr",
     "output_type": "stream",
     "text": [
      "INFO:sklearn-pipelines:Logger configured\n"
     ]
    }
   ],
   "source": [
    "logging.basicConfig(level=logging.DEBUG)\n",
    "\n",
    "logger = logging.getLogger(\"sklearn-pipelines\")\n",
    "logger.info(\"Logger configured\")"
   ]
  },
  {
   "cell_type": "markdown",
   "metadata": {
    "collapsed": false
   },
   "source": [
    "# Constants"
   ]
  },
  {
   "cell_type": "code",
   "execution_count": 4,
   "metadata": {
    "collapsed": false
   },
   "outputs": [],
   "source": [
    "# It is the number of wheat yields from the past we will use to predict the yield for the following year.\n",
    "NUM_OBSERVED_POINTS: int = 5\n",
    "# It is the number of years used within the test split.\n",
    "SIZE_TEST_SPLIT: int = 4"
   ]
  },
  {
   "cell_type": "markdown",
   "metadata": {
    "collapsed": false
   },
   "source": [
    "# Extract Data"
   ]
  },
  {
   "cell_type": "code",
   "execution_count": 5,
   "metadata": {
    "collapsed": false
   },
   "outputs": [],
   "source": [
    "def extract(root_dir: str) -> pd.DataFrame:\n",
    "    \"\"\"Function that takes the root dir of a plant (e.g., wheat, maize, etc.) and extracts everything into a DataFrame.\"\"\"\n",
    "\n",
    "    year_yields = {}\n",
    "    for file_path in glob.glob(os.path.join(root_dir, \"*.nc4\")):\n",
    "        file_name = os.path.split(file_path)[1]\n",
    "        year_match = re.match(r\"^yield_(\\d+?)\\.nc4$\", file_name)\n",
    "        year = year_match.group(1)\n",
    "        year = int(year)\n",
    "\n",
    "        ds = xr.open_dataset(file_path)\n",
    "        df = ds.to_dataframe()\n",
    "        mean_year_value = df.mean().iloc[0]\n",
    "\n",
    "        year_yields[year] = {\n",
    "            \"mean_yield\": mean_year_value,\n",
    "            \"locations\": len(df.dropna())\n",
    "        }\n",
    "\n",
    "    year_yields = pd.DataFrame.from_dict(data=year_yields, orient='index')\n",
    "    year_yields = year_yields.sort_index()\n",
    "\n",
    "    return year_yields"
   ]
  },
  {
   "cell_type": "code",
   "execution_count": 6,
   "metadata": {
    "collapsed": false
   },
   "outputs": [
    {
     "data": {
      "text/html": [
       "<div>\n",
       "<style scoped>\n",
       "    .dataframe tbody tr th:only-of-type {\n",
       "        vertical-align: middle;\n",
       "    }\n",
       "\n",
       "    .dataframe tbody tr th {\n",
       "        vertical-align: top;\n",
       "    }\n",
       "\n",
       "    .dataframe thead th {\n",
       "        text-align: right;\n",
       "    }\n",
       "</style>\n",
       "<table border=\"1\" class=\"dataframe\">\n",
       "  <thead>\n",
       "    <tr style=\"text-align: right;\">\n",
       "      <th></th>\n",
       "      <th>mean_yield</th>\n",
       "      <th>locations</th>\n",
       "    </tr>\n",
       "  </thead>\n",
       "  <tbody>\n",
       "    <tr>\n",
       "      <th>1981</th>\n",
       "      <td>1.678322</td>\n",
       "      <td>2346</td>\n",
       "    </tr>\n",
       "    <tr>\n",
       "      <th>1982</th>\n",
       "      <td>3.048540</td>\n",
       "      <td>12628</td>\n",
       "    </tr>\n",
       "    <tr>\n",
       "      <th>1983</th>\n",
       "      <td>3.226099</td>\n",
       "      <td>12641</td>\n",
       "    </tr>\n",
       "    <tr>\n",
       "      <th>1984</th>\n",
       "      <td>3.340139</td>\n",
       "      <td>12627</td>\n",
       "    </tr>\n",
       "    <tr>\n",
       "      <th>1985</th>\n",
       "      <td>3.297000</td>\n",
       "      <td>12624</td>\n",
       "    </tr>\n",
       "  </tbody>\n",
       "</table>\n",
       "</div>"
      ],
      "text/plain": [
       "      mean_yield  locations\n",
       "1981    1.678322       2346\n",
       "1982    3.048540      12628\n",
       "1983    3.226099      12641\n",
       "1984    3.340139      12627\n",
       "1985    3.297000      12624"
      ]
     },
     "execution_count": 6,
     "metadata": {},
     "output_type": "execute_result"
    }
   ],
   "source": [
    "yields = extract(\"/mnt/c/Users/nisar/taxi_demand_predictor/yields/wheat\")\n",
    "yields.head()"
   ]
  },
  {
   "cell_type": "code",
   "execution_count": 7,
   "metadata": {
    "collapsed": false
   },
   "outputs": [
    {
     "data": {
      "text/html": [
       "<div>\n",
       "<style scoped>\n",
       "    .dataframe tbody tr th:only-of-type {\n",
       "        vertical-align: middle;\n",
       "    }\n",
       "\n",
       "    .dataframe tbody tr th {\n",
       "        vertical-align: top;\n",
       "    }\n",
       "\n",
       "    .dataframe thead th {\n",
       "        text-align: right;\n",
       "    }\n",
       "</style>\n",
       "<table border=\"1\" class=\"dataframe\">\n",
       "  <thead>\n",
       "    <tr style=\"text-align: right;\">\n",
       "      <th></th>\n",
       "      <th>mean_yield</th>\n",
       "      <th>locations</th>\n",
       "    </tr>\n",
       "  </thead>\n",
       "  <tbody>\n",
       "    <tr>\n",
       "      <th>2012</th>\n",
       "      <td>4.026584</td>\n",
       "      <td>10667</td>\n",
       "    </tr>\n",
       "    <tr>\n",
       "      <th>2013</th>\n",
       "      <td>4.190502</td>\n",
       "      <td>10598</td>\n",
       "    </tr>\n",
       "    <tr>\n",
       "      <th>2014</th>\n",
       "      <td>4.151844</td>\n",
       "      <td>10598</td>\n",
       "    </tr>\n",
       "    <tr>\n",
       "      <th>2015</th>\n",
       "      <td>3.911601</td>\n",
       "      <td>9593</td>\n",
       "    </tr>\n",
       "    <tr>\n",
       "      <th>2016</th>\n",
       "      <td>4.293674</td>\n",
       "      <td>10598</td>\n",
       "    </tr>\n",
       "  </tbody>\n",
       "</table>\n",
       "</div>"
      ],
      "text/plain": [
       "      mean_yield  locations\n",
       "2012    4.026584      10667\n",
       "2013    4.190502      10598\n",
       "2014    4.151844      10598\n",
       "2015    3.911601       9593\n",
       "2016    4.293674      10598"
      ]
     },
     "execution_count": 7,
     "metadata": {},
     "output_type": "execute_result"
    }
   ],
   "source": [
    "yields.tail()"
   ]
  },
  {
   "cell_type": "code",
   "execution_count": 8,
   "metadata": {
    "collapsed": false
   },
   "outputs": [
    {
     "name": "stderr",
     "output_type": "stream",
     "text": [
      "DEBUG:matplotlib.font_manager:findfont: Matching sans\\-serif:style=normal:variant=normal:weight=normal:stretch=normal:size=10.0.\n",
      "DEBUG:matplotlib.font_manager:findfont: score(FontEntry(fname='/mnt/c/Users/nisar/taxi_demand_predictor/.venv/lib/python3.11/site-packages/matplotlib/mpl-data/fonts/ttf/STIXSizOneSymReg.ttf', name='STIXSizeOneSym', style='normal', variant='normal', weight=400, stretch='normal', size='scalable')) = 10.05\n",
      "DEBUG:matplotlib.font_manager:findfont: score(FontEntry(fname='/mnt/c/Users/nisar/taxi_demand_predictor/.venv/lib/python3.11/site-packages/matplotlib/mpl-data/fonts/ttf/STIXGeneralBol.ttf', name='STIXGeneral', style='normal', variant='normal', weight=700, stretch='normal', size='scalable')) = 10.335\n",
      "DEBUG:matplotlib.font_manager:findfont: score(FontEntry(fname='/mnt/c/Users/nisar/taxi_demand_predictor/.venv/lib/python3.11/site-packages/matplotlib/mpl-data/fonts/ttf/STIXSizThreeSymBol.ttf', name='STIXSizeThreeSym', style='normal', variant='normal', weight=700, stretch='normal', size='scalable')) = 10.335\n",
      "DEBUG:matplotlib.font_manager:findfont: score(FontEntry(fname='/mnt/c/Users/nisar/taxi_demand_predictor/.venv/lib/python3.11/site-packages/matplotlib/mpl-data/fonts/ttf/DejaVuSans-Oblique.ttf', name='DejaVu Sans', style='oblique', variant='normal', weight=400, stretch='normal', size='scalable')) = 1.05\n",
      "DEBUG:matplotlib.font_manager:findfont: score(FontEntry(fname='/mnt/c/Users/nisar/taxi_demand_predictor/.venv/lib/python3.11/site-packages/matplotlib/mpl-data/fonts/ttf/STIXNonUni.ttf', name='STIXNonUnicode', style='normal', variant='normal', weight=400, stretch='normal', size='scalable')) = 10.05\n",
      "DEBUG:matplotlib.font_manager:findfont: score(FontEntry(fname='/mnt/c/Users/nisar/taxi_demand_predictor/.venv/lib/python3.11/site-packages/matplotlib/mpl-data/fonts/ttf/cmss10.ttf', name='cmss10', style='normal', variant='normal', weight=400, stretch='normal', size='scalable')) = 10.05\n",
      "DEBUG:matplotlib.font_manager:findfont: score(FontEntry(fname='/mnt/c/Users/nisar/taxi_demand_predictor/.venv/lib/python3.11/site-packages/matplotlib/mpl-data/fonts/ttf/STIXSizFourSymReg.ttf', name='STIXSizeFourSym', style='normal', variant='normal', weight=400, stretch='normal', size='scalable')) = 10.05\n",
      "DEBUG:matplotlib.font_manager:findfont: score(FontEntry(fname='/mnt/c/Users/nisar/taxi_demand_predictor/.venv/lib/python3.11/site-packages/matplotlib/mpl-data/fonts/ttf/STIXSizTwoSymBol.ttf', name='STIXSizeTwoSym', style='normal', variant='normal', weight=700, stretch='normal', size='scalable')) = 10.335\n",
      "DEBUG:matplotlib.font_manager:findfont: score(FontEntry(fname='/mnt/c/Users/nisar/taxi_demand_predictor/.venv/lib/python3.11/site-packages/matplotlib/mpl-data/fonts/ttf/STIXNonUniBol.ttf', name='STIXNonUnicode', style='normal', variant='normal', weight=700, stretch='normal', size='scalable')) = 10.335\n",
      "DEBUG:matplotlib.font_manager:findfont: score(FontEntry(fname='/mnt/c/Users/nisar/taxi_demand_predictor/.venv/lib/python3.11/site-packages/matplotlib/mpl-data/fonts/ttf/STIXGeneral.ttf', name='STIXGeneral', style='normal', variant='normal', weight=400, stretch='normal', size='scalable')) = 10.05\n",
      "DEBUG:matplotlib.font_manager:findfont: score(FontEntry(fname='/mnt/c/Users/nisar/taxi_demand_predictor/.venv/lib/python3.11/site-packages/matplotlib/mpl-data/fonts/ttf/STIXSizOneSymBol.ttf', name='STIXSizeOneSym', style='normal', variant='normal', weight=700, stretch='normal', size='scalable')) = 10.335\n",
      "DEBUG:matplotlib.font_manager:findfont: score(FontEntry(fname='/mnt/c/Users/nisar/taxi_demand_predictor/.venv/lib/python3.11/site-packages/matplotlib/mpl-data/fonts/ttf/cmtt10.ttf', name='cmtt10', style='normal', variant='normal', weight=400, stretch='normal', size='scalable')) = 10.05\n",
      "DEBUG:matplotlib.font_manager:findfont: score(FontEntry(fname='/mnt/c/Users/nisar/taxi_demand_predictor/.venv/lib/python3.11/site-packages/matplotlib/mpl-data/fonts/ttf/STIXGeneralBolIta.ttf', name='STIXGeneral', style='italic', variant='normal', weight=700, stretch='normal', size='scalable')) = 11.335\n",
      "DEBUG:matplotlib.font_manager:findfont: score(FontEntry(fname='/mnt/c/Users/nisar/taxi_demand_predictor/.venv/lib/python3.11/site-packages/matplotlib/mpl-data/fonts/ttf/cmmi10.ttf', name='cmmi10', style='normal', variant='normal', weight=400, stretch='normal', size='scalable')) = 10.05\n",
      "DEBUG:matplotlib.font_manager:findfont: score(FontEntry(fname='/mnt/c/Users/nisar/taxi_demand_predictor/.venv/lib/python3.11/site-packages/matplotlib/mpl-data/fonts/ttf/DejaVuSansMono.ttf', name='DejaVu Sans Mono', style='normal', variant='normal', weight=400, stretch='normal', size='scalable')) = 10.05\n",
      "DEBUG:matplotlib.font_manager:findfont: score(FontEntry(fname='/mnt/c/Users/nisar/taxi_demand_predictor/.venv/lib/python3.11/site-packages/matplotlib/mpl-data/fonts/ttf/DejaVuSerifDisplay.ttf', name='DejaVu Serif Display', style='normal', variant='normal', weight=400, stretch='normal', size='scalable')) = 10.05\n",
      "DEBUG:matplotlib.font_manager:findfont: score(FontEntry(fname='/mnt/c/Users/nisar/taxi_demand_predictor/.venv/lib/python3.11/site-packages/matplotlib/mpl-data/fonts/ttf/DejaVuSans.ttf', name='DejaVu Sans', style='normal', variant='normal', weight=400, stretch='normal', size='scalable')) = 0.05\n",
      "DEBUG:matplotlib.font_manager:findfont: score(FontEntry(fname='/mnt/c/Users/nisar/taxi_demand_predictor/.venv/lib/python3.11/site-packages/matplotlib/mpl-data/fonts/ttf/STIXSizTwoSymReg.ttf', name='STIXSizeTwoSym', style='normal', variant='normal', weight=400, stretch='normal', size='scalable')) = 10.05\n",
      "DEBUG:matplotlib.font_manager:findfont: score(FontEntry(fname='/mnt/c/Users/nisar/taxi_demand_predictor/.venv/lib/python3.11/site-packages/matplotlib/mpl-data/fonts/ttf/DejaVuSerif-Bold.ttf', name='DejaVu Serif', style='normal', variant='normal', weight=700, stretch='normal', size='scalable')) = 10.335\n",
      "DEBUG:matplotlib.font_manager:findfont: score(FontEntry(fname='/mnt/c/Users/nisar/taxi_demand_predictor/.venv/lib/python3.11/site-packages/matplotlib/mpl-data/fonts/ttf/DejaVuSerif.ttf', name='DejaVu Serif', style='normal', variant='normal', weight=400, stretch='normal', size='scalable')) = 10.05\n",
      "DEBUG:matplotlib.font_manager:findfont: score(FontEntry(fname='/mnt/c/Users/nisar/taxi_demand_predictor/.venv/lib/python3.11/site-packages/matplotlib/mpl-data/fonts/ttf/DejaVuSans-Bold.ttf', name='DejaVu Sans', style='normal', variant='normal', weight=700, stretch='normal', size='scalable')) = 0.33499999999999996\n",
      "DEBUG:matplotlib.font_manager:findfont: score(FontEntry(fname='/mnt/c/Users/nisar/taxi_demand_predictor/.venv/lib/python3.11/site-packages/matplotlib/mpl-data/fonts/ttf/DejaVuSerif-Italic.ttf', name='DejaVu Serif', style='italic', variant='normal', weight=400, stretch='normal', size='scalable')) = 11.05\n",
      "DEBUG:matplotlib.font_manager:findfont: score(FontEntry(fname='/mnt/c/Users/nisar/taxi_demand_predictor/.venv/lib/python3.11/site-packages/matplotlib/mpl-data/fonts/ttf/DejaVuSansMono-Bold.ttf', name='DejaVu Sans Mono', style='normal', variant='normal', weight=700, stretch='normal', size='scalable')) = 10.335\n",
      "DEBUG:matplotlib.font_manager:findfont: score(FontEntry(fname='/mnt/c/Users/nisar/taxi_demand_predictor/.venv/lib/python3.11/site-packages/matplotlib/mpl-data/fonts/ttf/STIXNonUniIta.ttf', name='STIXNonUnicode', style='italic', variant='normal', weight=400, stretch='normal', size='scalable')) = 11.05\n",
      "DEBUG:matplotlib.font_manager:findfont: score(FontEntry(fname='/mnt/c/Users/nisar/taxi_demand_predictor/.venv/lib/python3.11/site-packages/matplotlib/mpl-data/fonts/ttf/DejaVuSansMono-Oblique.ttf', name='DejaVu Sans Mono', style='oblique', variant='normal', weight=400, stretch='normal', size='scalable')) = 11.05\n",
      "DEBUG:matplotlib.font_manager:findfont: score(FontEntry(fname='/mnt/c/Users/nisar/taxi_demand_predictor/.venv/lib/python3.11/site-packages/matplotlib/mpl-data/fonts/ttf/cmb10.ttf', name='cmb10', style='normal', variant='normal', weight=400, stretch='normal', size='scalable')) = 10.05\n",
      "DEBUG:matplotlib.font_manager:findfont: score(FontEntry(fname='/mnt/c/Users/nisar/taxi_demand_predictor/.venv/lib/python3.11/site-packages/matplotlib/mpl-data/fonts/ttf/STIXSizFiveSymReg.ttf', name='STIXSizeFiveSym', style='normal', variant='normal', weight=400, stretch='normal', size='scalable')) = 10.05\n",
      "DEBUG:matplotlib.font_manager:findfont: score(FontEntry(fname='/mnt/c/Users/nisar/taxi_demand_predictor/.venv/lib/python3.11/site-packages/matplotlib/mpl-data/fonts/ttf/cmr10.ttf', name='cmr10', style='normal', variant='normal', weight=400, stretch='normal', size='scalable')) = 10.05\n",
      "DEBUG:matplotlib.font_manager:findfont: score(FontEntry(fname='/mnt/c/Users/nisar/taxi_demand_predictor/.venv/lib/python3.11/site-packages/matplotlib/mpl-data/fonts/ttf/DejaVuSans-BoldOblique.ttf', name='DejaVu Sans', style='oblique', variant='normal', weight=700, stretch='normal', size='scalable')) = 1.335\n",
      "DEBUG:matplotlib.font_manager:findfont: score(FontEntry(fname='/mnt/c/Users/nisar/taxi_demand_predictor/.venv/lib/python3.11/site-packages/matplotlib/mpl-data/fonts/ttf/cmsy10.ttf', name='cmsy10', style='normal', variant='normal', weight=400, stretch='normal', size='scalable')) = 10.05\n",
      "DEBUG:matplotlib.font_manager:findfont: score(FontEntry(fname='/mnt/c/Users/nisar/taxi_demand_predictor/.venv/lib/python3.11/site-packages/matplotlib/mpl-data/fonts/ttf/DejaVuSansMono-BoldOblique.ttf', name='DejaVu Sans Mono', style='oblique', variant='normal', weight=700, stretch='normal', size='scalable')) = 11.335\n",
      "DEBUG:matplotlib.font_manager:findfont: score(FontEntry(fname='/mnt/c/Users/nisar/taxi_demand_predictor/.venv/lib/python3.11/site-packages/matplotlib/mpl-data/fonts/ttf/cmex10.ttf', name='cmex10', style='normal', variant='normal', weight=400, stretch='normal', size='scalable')) = 10.05\n",
      "DEBUG:matplotlib.font_manager:findfont: score(FontEntry(fname='/mnt/c/Users/nisar/taxi_demand_predictor/.venv/lib/python3.11/site-packages/matplotlib/mpl-data/fonts/ttf/STIXNonUniBolIta.ttf', name='STIXNonUnicode', style='italic', variant='normal', weight=700, stretch='normal', size='scalable')) = 11.335\n",
      "DEBUG:matplotlib.font_manager:findfont: score(FontEntry(fname='/mnt/c/Users/nisar/taxi_demand_predictor/.venv/lib/python3.11/site-packages/matplotlib/mpl-data/fonts/ttf/STIXSizFourSymBol.ttf', name='STIXSizeFourSym', style='normal', variant='normal', weight=700, stretch='normal', size='scalable')) = 10.335\n",
      "DEBUG:matplotlib.font_manager:findfont: score(FontEntry(fname='/mnt/c/Users/nisar/taxi_demand_predictor/.venv/lib/python3.11/site-packages/matplotlib/mpl-data/fonts/ttf/DejaVuSerif-BoldItalic.ttf', name='DejaVu Serif', style='italic', variant='normal', weight=700, stretch='normal', size='scalable')) = 11.335\n",
      "DEBUG:matplotlib.font_manager:findfont: score(FontEntry(fname='/mnt/c/Users/nisar/taxi_demand_predictor/.venv/lib/python3.11/site-packages/matplotlib/mpl-data/fonts/ttf/STIXSizThreeSymReg.ttf', name='STIXSizeThreeSym', style='normal', variant='normal', weight=400, stretch='normal', size='scalable')) = 10.05\n",
      "DEBUG:matplotlib.font_manager:findfont: score(FontEntry(fname='/mnt/c/Users/nisar/taxi_demand_predictor/.venv/lib/python3.11/site-packages/matplotlib/mpl-data/fonts/ttf/STIXGeneralItalic.ttf', name='STIXGeneral', style='italic', variant='normal', weight=400, stretch='normal', size='scalable')) = 11.05\n",
      "DEBUG:matplotlib.font_manager:findfont: score(FontEntry(fname='/mnt/c/Users/nisar/taxi_demand_predictor/.venv/lib/python3.11/site-packages/matplotlib/mpl-data/fonts/ttf/DejaVuSansDisplay.ttf', name='DejaVu Sans Display', style='normal', variant='normal', weight=400, stretch='normal', size='scalable')) = 10.05\n",
      "DEBUG:matplotlib.font_manager:findfont: score(FontEntry(fname='/usr/share/fonts/truetype/dejavu/DejaVuSansCondensed-Oblique.ttf', name='DejaVu Sans', style='oblique', variant='normal', weight=400, stretch='condensed', size='scalable')) = 1.25\n",
      "DEBUG:matplotlib.font_manager:findfont: score(FontEntry(fname='/usr/share/fonts/truetype/dejavu/DejaVuSerifCondensed-Italic.ttf', name='DejaVu Serif', style='italic', variant='normal', weight=400, stretch='condensed', size='scalable')) = 11.25\n",
      "DEBUG:matplotlib.font_manager:findfont: score(FontEntry(fname='/usr/share/fonts/truetype/dejavu/DejaVuSans-BoldOblique.ttf', name='DejaVu Sans', style='oblique', variant='normal', weight=700, stretch='normal', size='scalable')) = 1.335\n",
      "DEBUG:matplotlib.font_manager:findfont: score(FontEntry(fname='/usr/share/fonts/truetype/dejavu/DejaVuSansCondensed-BoldOblique.ttf', name='DejaVu Sans', style='oblique', variant='normal', weight=700, stretch='condensed', size='scalable')) = 1.535\n",
      "DEBUG:matplotlib.font_manager:findfont: score(FontEntry(fname='/usr/share/fonts/truetype/dejavu/DejaVuSerif-BoldItalic.ttf', name='DejaVu Serif', style='italic', variant='normal', weight=700, stretch='normal', size='scalable')) = 11.335\n",
      "DEBUG:matplotlib.font_manager:findfont: score(FontEntry(fname='/usr/share/fonts/truetype/dejavu/DejaVuMathTeXGyre.ttf', name='DejaVu Math TeX Gyre', style='normal', variant='normal', weight=400, stretch='normal', size='scalable')) = 10.05\n",
      "DEBUG:matplotlib.font_manager:findfont: score(FontEntry(fname='/usr/share/fonts/truetype/dejavu/DejaVuSansMono.ttf', name='DejaVu Sans Mono', style='normal', variant='normal', weight=400, stretch='normal', size='scalable')) = 10.05\n",
      "DEBUG:matplotlib.font_manager:findfont: score(FontEntry(fname='/usr/share/fonts/truetype/dejavu/DejaVuSans-ExtraLight.ttf', name='DejaVu Sans', style='normal', variant='normal', weight=200, stretch='normal', size='scalable')) = 0.24\n",
      "DEBUG:matplotlib.font_manager:findfont: score(FontEntry(fname='/usr/share/fonts/truetype/dejavu/DejaVuSansCondensed-Bold.ttf', name='DejaVu Sans', style='normal', variant='normal', weight=700, stretch='condensed', size='scalable')) = 0.5349999999999999\n",
      "DEBUG:matplotlib.font_manager:findfont: score(FontEntry(fname='/usr/share/fonts/truetype/dejavu/DejaVuSans.ttf', name='DejaVu Sans', style='normal', variant='normal', weight=400, stretch='normal', size='scalable')) = 0.05\n",
      "DEBUG:matplotlib.font_manager:findfont: score(FontEntry(fname='/usr/share/fonts/truetype/dejavu/DejaVuSans-Oblique.ttf', name='DejaVu Sans', style='oblique', variant='normal', weight=400, stretch='normal', size='scalable')) = 1.05\n",
      "DEBUG:matplotlib.font_manager:findfont: score(FontEntry(fname='/usr/share/fonts/truetype/dejavu/DejaVuSerifCondensed.ttf', name='DejaVu Serif', style='normal', variant='normal', weight=400, stretch='condensed', size='scalable')) = 10.25\n",
      "DEBUG:matplotlib.font_manager:findfont: score(FontEntry(fname='/usr/share/fonts/truetype/dejavu/DejaVuSansMono-Oblique.ttf', name='DejaVu Sans Mono', style='oblique', variant='normal', weight=400, stretch='normal', size='scalable')) = 11.05\n",
      "DEBUG:matplotlib.font_manager:findfont: score(FontEntry(fname='/usr/share/fonts/truetype/dejavu/DejaVuSerifCondensed-BoldItalic.ttf', name='DejaVu Serif', style='italic', variant='normal', weight=700, stretch='condensed', size='scalable')) = 11.535\n",
      "DEBUG:matplotlib.font_manager:findfont: score(FontEntry(fname='/usr/share/fonts/truetype/dejavu/DejaVuSansMono-Bold.ttf', name='DejaVu Sans Mono', style='normal', variant='normal', weight=700, stretch='normal', size='scalable')) = 10.335\n",
      "DEBUG:matplotlib.font_manager:findfont: score(FontEntry(fname='/usr/share/fonts/truetype/dejavu/DejaVuSerifCondensed-Bold.ttf', name='DejaVu Serif', style='normal', variant='normal', weight=700, stretch='condensed', size='scalable')) = 10.535\n",
      "DEBUG:matplotlib.font_manager:findfont: score(FontEntry(fname='/usr/share/fonts/truetype/dejavu/DejaVuSans-Bold.ttf', name='DejaVu Sans', style='normal', variant='normal', weight=700, stretch='normal', size='scalable')) = 0.33499999999999996\n",
      "DEBUG:matplotlib.font_manager:findfont: score(FontEntry(fname='/usr/share/fonts/truetype/dejavu/DejaVuSansMono-BoldOblique.ttf', name='DejaVu Sans Mono', style='oblique', variant='normal', weight=700, stretch='normal', size='scalable')) = 11.335\n",
      "DEBUG:matplotlib.font_manager:findfont: score(FontEntry(fname='/usr/share/fonts/truetype/dejavu/DejaVuSerif.ttf', name='DejaVu Serif', style='normal', variant='normal', weight=400, stretch='normal', size='scalable')) = 10.05\n",
      "DEBUG:matplotlib.font_manager:findfont: score(FontEntry(fname='/usr/share/fonts/truetype/dejavu/DejaVuSansCondensed.ttf', name='DejaVu Sans', style='normal', variant='normal', weight=400, stretch='condensed', size='scalable')) = 0.25\n",
      "DEBUG:matplotlib.font_manager:findfont: score(FontEntry(fname='/usr/share/fonts/truetype/dejavu/DejaVuSerif-Italic.ttf', name='DejaVu Serif', style='italic', variant='normal', weight=400, stretch='normal', size='scalable')) = 11.05\n",
      "DEBUG:matplotlib.font_manager:findfont: score(FontEntry(fname='/usr/share/fonts/truetype/dejavu/DejaVuSerif-Bold.ttf', name='DejaVu Serif', style='normal', variant='normal', weight=700, stretch='normal', size='scalable')) = 10.335\n",
      "DEBUG:matplotlib.font_manager:findfont: Matching sans\\-serif:style=normal:variant=normal:weight=normal:stretch=normal:size=10.0 to DejaVu Sans ('/mnt/c/Users/nisar/taxi_demand_predictor/.venv/lib/python3.11/site-packages/matplotlib/mpl-data/fonts/ttf/DejaVuSans.ttf') with score of 0.050000.\n"
     ]
    },
    {
     "data": {
      "image/png": "[encoded data removed]",
      "text/plain": [
       "<Figure size 640x480 with 2 Axes>"
      ]
     },
     "metadata": {},
     "output_type": "display_data"
    }
   ],
   "source": [
    "yields.plot(subplots=True);"
   ]
  },
  {
   "cell_type": "markdown",
   "metadata": {
    "collapsed": false
   },
   "source": [
    "# Data Preprocessing"
   ]
  },
  {
   "cell_type": "markdown",
   "metadata": {
    "collapsed": false
   },
   "source": [
    "## Pick Ground Truth\n",
    "Because time series forecasting is a form of unsupervised learning, we have to predict a datapoint at $T_{n}$ using information starting from $T_{n-1}$ until $T_{0}$. Therefore, in the beginning, we will consider the same features and labels. But during the preprocessing steps, we will change the features to forecast the next point in time."
   ]
  },
  {
   "cell_type": "code",
   "execution_count": 9,
   "metadata": {
    "collapsed": false
   },
   "outputs": [],
   "source": [
    "X, y = yields.copy(), yields.copy()"
   ]
  },
  {
   "cell_type": "markdown",
   "metadata": {
    "collapsed": false
   },
   "source": [
    "## Split Data: Train & Test"
   ]
  },
  {
   "cell_type": "code",
   "execution_count": 10,
   "metadata": {
    "collapsed": false
   },
   "outputs": [],
   "source": [
    "class TimeSeriesSplitter:\n",
    "    \"\"\"The class is used to split the time series between train and test and stores the indices for future reconstruction.\"\"\"\n",
    "\n",
    "    def __init__(self, num_observed_points: int):\n",
    "        \"\"\"\n",
    "\n",
    "        Args:\n",
    "            num_observed_points: The number of observed points from the past that are used to forecast the future.\n",
    "        \"\"\"\n",
    "\n",
    "        self.num_observed_points = num_observed_points\n",
    "\n",
    "        self.X_train: Optional[pd.DataFrame] = None\n",
    "        self.y_train: Optional[pd.DataFrame] = None\n",
    "        self.X_test: Optional[pd.DataFrame] = None\n",
    "        self.y_test: Optional[pd.DataFrame] = None\n",
    "\n",
    "\n",
    "    def split(self, X: pd.DataFrame, y: pd.DataFrame, test_num_years: int = 5) -> Tuple[pd.DataFrame, pd.Series, pd.DataFrame, pd.Series]:\n",
    "        \"\"\"Split the data between train and test.\"\"\"\n",
    "\n",
    "        start_train_num_years = X.index.min()\n",
    "        end_train_num_years = X.index.max() - test_num_years\n",
    "        assert end_train_num_years > 0, \"The number of training months is 0.\"\n",
    "\n",
    "\n",
    "        X_train_mask = X.index <= end_train_num_years\n",
    "        y_train_mask = (y.index >= start_train_num_years + self.num_observed_points) & (y.index <= end_train_num_years) # Remove self.num_observed_points from the target, because we cannot predict those items due to lack of data. We need at least self.num_observed_points to forecast.\n",
    "        X_test_mask = X.index > end_train_num_years - (self.num_observed_points + 1)  # Add self.num_observed items to the features so we can forecast the first element from the future based on what we know. Also add another +1 element for the differentiation operation.\n",
    "        y_test_mask = y.index > end_train_num_years - 1 # Subtract -1 for the differentiation operation. (meaning differencing)\n",
    "\n",
    "        self.X_train = X.loc[X_train_mask]\n",
    "        self.y_train = y.loc[y_train_mask][\"mean_yield\"]\n",
    "\n",
    "        self.X_test = X.loc[X_test_mask]\n",
    "        self.y_test = y.loc[y_test_mask][\"mean_yield\"]\n",
    "\n",
    "        return self.X_train, self.y_train, self.X_test, self.y_test\n",
    "\n",
    "    def attach_indices(self, y: Union[pd.Series, np.ndarray], split: str = \"test\") -> pd.Series:\n",
    "        \"\"\"Take the predictions of the model and attach the initial indices.\"\"\"\n",
    "\n",
    "        assert split in (\"train\", \"test\")\n",
    "        assert self.y_train is not None and self.y_test is not None\n",
    "\n",
    "        if isinstance(y, np.ndarray):\n",
    "            y = pd.Series(y)\n",
    "\n",
    "        if split == \"train\":\n",
    "            y = y.set_axis(self.y_train.index)\n",
    "        else:\n",
    "            y = y.set_axis(self.y_test.index)\n",
    "\n",
    "        y = y.rename(self.y_train.name)\n",
    "\n",
    "        return y"
   ]
  },
  {
   "cell_type": "code",
   "execution_count": 11,
   "metadata": {
    "collapsed": false
   },
   "outputs": [],
   "source": [
    "time_series_splitter = TimeSeriesSplitter(num_observed_points=NUM_OBSERVED_POINTS)\n",
    "X_train, y_train, X_test, y_test = time_series_splitter.split(X, y, test_num_years=SIZE_TEST_SPLIT)"
   ]
  },
  {
   "cell_type": "code",
   "execution_count": 12,
   "metadata": {
    "collapsed": false
   },
   "outputs": [
    {
     "data": {
      "text/plain": [
       "(1981, 2012, 32)"
      ]
     },
     "execution_count": 12,
     "metadata": {},
     "output_type": "execute_result"
    }
   ],
   "source": [
    "X_train.index.min(), X_train.index.max(), X_train.index.max() - X_train.index.min() + 1"
   ]
  },
  {
   "cell_type": "code",
   "execution_count": 14,
   "metadata": {
    "collapsed": false
   },
   "outputs": [
    {
     "data": {
      "text/plain": [
       "(1986, 2012, 27)"
      ]
     },
     "execution_count": 14,
     "metadata": {},
     "output_type": "execute_result"
    }
   ],
   "source": [
    "y_train.index.min(), y_train.index.max(), y_train.index.max() - y_train.index.min() + 1"
   ]
  },
  {
   "cell_type": "code",
   "execution_count": 15,
   "metadata": {
    "collapsed": false
   },
   "outputs": [
    {
     "data": {
      "text/plain": [
       "(2007, 2016, 10)"
      ]
     },
     "execution_count": 15,
     "metadata": {},
     "output_type": "execute_result"
    }
   ],
   "source": [
    "X_test.index.min(), X_test.index.max(), X_test.index.max() - X_test.index.min() + 1"
   ]
  },
  {
   "cell_type": "code",
   "execution_count": 16,
   "metadata": {
    "collapsed": false
   },
   "outputs": [
    {
     "data": {
      "text/plain": [
       "(2012, 2016, 5)"
      ]
     },
     "execution_count": 16,
     "metadata": {},
     "output_type": "execute_result"
    }
   ],
   "source": [
    "y_test.index.min(), y_test.index.max(), y_test.index.max() - y_test.index.min() + 1"
   ]
  },
  {
   "cell_type": "markdown",
   "metadata": {
    "collapsed": false
   },
   "source": [
    "## Stationarity Pipeline\n",
    "\n",
    "Pipeline used on a time series to make it stationary. More concrete it will remove periodicity and standardize the mean and variance across time. [Here](https://stats.stackexchange.com/questions/407062/log-transformation-of-ts-stationary-time-series) you can read more about this.\n",
    "\n",
    "In this step we will show how to use:\n",
    "* [TransformerMixin](https://scikit-learn.org/stable/modules/generated/sklearn.base.TransformerMixin.html)\n",
    "* [BaseEstimator](https://scikit-learn.org/stable/modules/generated/sklearn.base.BaseEstimator.html)\n",
    "* [FunctionTransformer](https://scikit-learn.org/stable/modules/generated/sklearn.preprocessing.FunctionTransformer.html)\n",
    "\n",
    "Check out the pydocs for more information about the implementation."
   ]
  },
  {
   "cell_type": "code",
   "execution_count": 100,
   "metadata": {},
   "outputs": [
    {
     "data": {
      "text/html": [
       "<div>\n",
       "<style scoped>\n",
       "    .dataframe tbody tr th:only-of-type {\n",
       "        vertical-align: middle;\n",
       "    }\n",
       "\n",
       "    .dataframe tbody tr th {\n",
       "        vertical-align: top;\n",
       "    }\n",
       "\n",
       "    .dataframe thead th {\n",
       "        text-align: right;\n",
       "    }\n",
       "</style>\n",
       "<table border=\"1\" class=\"dataframe\">\n",
       "  <thead>\n",
       "    <tr style=\"text-align: right;\">\n",
       "      <th></th>\n",
       "      <th>mean_yield</th>\n",
       "      <th>locations</th>\n",
       "    </tr>\n",
       "  </thead>\n",
       "  <tbody>\n",
       "    <tr>\n",
       "      <th>1981</th>\n",
       "      <td>1.678322</td>\n",
       "      <td>2346</td>\n",
       "    </tr>\n",
       "    <tr>\n",
       "      <th>1982</th>\n",
       "      <td>3.048540</td>\n",
       "      <td>12628</td>\n",
       "    </tr>\n",
       "    <tr>\n",
       "      <th>1983</th>\n",
       "      <td>3.226099</td>\n",
       "      <td>12641</td>\n",
       "    </tr>\n",
       "    <tr>\n",
       "      <th>1984</th>\n",
       "      <td>3.340139</td>\n",
       "      <td>12627</td>\n",
       "    </tr>\n",
       "    <tr>\n",
       "      <th>1985</th>\n",
       "      <td>3.297000</td>\n",
       "      <td>12624</td>\n",
       "    </tr>\n",
       "  </tbody>\n",
       "</table>\n",
       "</div>"
      ],
      "text/plain": [
       "      mean_yield  locations\n",
       "1981    1.678322       2346\n",
       "1982    3.048540      12628\n",
       "1983    3.226099      12641\n",
       "1984    3.340139      12627\n",
       "1985    3.297000      12624"
      ]
     },
     "execution_count": 100,
     "metadata": {},
     "output_type": "execute_result"
    }
   ],
   "source": [
    "X_train.head()"
   ]
  },
  {
   "cell_type": "code",
   "execution_count": 17,
   "metadata": {
    "collapsed": false
   },
   "outputs": [],
   "source": [
    "class LogTransformer(BaseEstimator, TransformerMixin):\n",
    "    \"\"\"\n",
    "    Custom log transformation that follows the Sklearn interface to be used in a Pipeline.\n",
    "\n",
    "    Here is a short summary of the supported interface and of what every function is doing:\n",
    "    * fit - used to learn from the data\n",
    "    * transform - used to transform the data\n",
    "    * fit_transform - learn and transform the data. This function is inherited from TransformerMixin\n",
    "    * inverse_transform - used to reverse the transformation\n",
    "\n",
    "    NOTE 1: This statement is always true: x == inverse_transform(transform(x)) - with a small tolerance accepted.\n",
    "\n",
    "    NOTE 2: The targets (e.g., y) are passed only in the fit() method. At the transform() and inverse_transform(), only the features (e.g., X) are given as input.\n",
    "\n",
    "    \"\"\"\n",
    "\n",
    "    def fit(self, X: pd.DataFrame, y: Optional[Union[pd.DataFrame, pd.Series]] = None) -> \"LogTransformer\":\n",
    "        \"\"\"In this scenario, the fit method isn't doing anything. But it must be implemented. This is a scenario of an estimator without parameters.\"\"\"\n",
    "\n",
    "        logger.debug(f\"LogTransformer X (fit): {X.shape}\")\n",
    "        if y is not None:\n",
    "            logger.debug(f\"LogTransformer y (fit): {y.shape}\")\n",
    "\n",
    "        return self\n",
    "\n",
    "    def transform(self, X: pd.DataFrame) -> pd.DataFrame:\n",
    "        \"\"\"Apply log on all the cells of the DataFrame.\"\"\"\n",
    "\n",
    "        X_log = np.log(X + 1e-27)\n",
    "\n",
    "        logger.debug(f\"LogTransformer (transform): {X_log.shape}\")\n",
    "\n",
    "        return X_log\n",
    "\n",
    "    def inverse_transform(self, X: pd.DataFrame) -> pd.DataFrame:\n",
    "        \"\"\"Inverse the log of every cell of the DataFrame.\"\"\"\n",
    "\n",
    "        X_exp = np.exp(X) - 1e-27\n",
    "\n",
    "        logger.debug(f\"LogTransformer (inverse_transform): {X_exp.shape}\")\n",
    "\n",
    "        return X_exp\n",
    "\n",
    "\n",
    "class DifferenceTransformer(BaseEstimator, TransformerMixin):\n",
    "    \"\"\"Custom differentiation transformation that follows the Sklearn interface to be used in a Pipeline.\"\"\"\n",
    "\n",
    "    def __init__(self, num_observed_points: int):\n",
    "        \"\"\"\n",
    "\n",
    "        Args:\n",
    "            num_observed_points: The number of observed points from the past that are used to forecast the future.\n",
    "        \"\"\"\n",
    "\n",
    "        self.num_observed_points = num_observed_points\n",
    "        self.X_train = None\n",
    "\n",
    "    def fit(self, X: Optional[Union[pd.DataFrame, pd.Series]], y: Optional[Union[pd.DataFrame, pd.Series]] = None) -> \"DifferenceTransformer\":\n",
    "        \"\"\"In this case by fitting we just keep a copy of the train data to reconstruct the time series on the inverse_transform() operation.\"\"\"\n",
    "\n",
    "        logger.debug(f\"DifferenceTransformer X (fit): {X.shape}\")\n",
    "        if y is not None:\n",
    "            logger.debug(f\"DifferenceTransformer y (fit): {y.shape}\")\n",
    "\n",
    "        self.X_train = X.copy()\n",
    "\n",
    "        return self\n",
    "\n",
    "    def transform(self, X: Optional[Union[pd.DataFrame, pd.Series]]) -> pd.DataFrame:\n",
    "        \"\"\"Apply the differentiation operation.\"\"\"\n",
    "\n",
    "        X_diff = X.diff(periods=1)\n",
    "        X_diff = X_diff.iloc[1:]\n",
    "\n",
    "        logger.debug(f\"DifferenceTransformer (transform): {X_diff.shape}\")\n",
    "\n",
    "        return X_diff\n",
    "\n",
    "    def inverse_transform(self, X: Optional[Union[np.ndarray, pd.DataFrame, pd.Series]]) -> pd.DataFrame:\n",
    "        \"\"\"Inverse the differentiation operation.\"\"\"\n",
    "\n",
    "        if isinstance(X, np.ndarray):\n",
    "            if len(X.shape) == 1:\n",
    "                X = pd.Series(X)\n",
    "            elif len(X.shape) == 2:\n",
    "                X = pd.DataFrame(X)\n",
    "            else:\n",
    "                raise RuntimeError(f\"Shape of X not supported: {X.shape}\")\n",
    "\n",
    "        if len(X) == len(self.X_train) - 1:\n",
    "            first_values = self.X_train.iloc[[0]]\n",
    "        else:\n",
    "            first_values = self.X_train.iloc[[-(self.num_observed_points + 1)]]\n",
    "\n",
    "        X_reversed = pd.concat([first_values, X])\n",
    "        X_reversed = X_reversed.cumsum(axis=0)\n",
    "\n",
    "        logger.debug(f\"DifferenceTransformer (inverse_transform): {X_reversed.shape}\")\n",
    "\n",
    "        return X_reversed\n",
    "\n",
    "\n",
    "def time_series_imputer(X: Union[np.ndarray, pd.DataFrame], method: str = \"bfill\"):\n",
    "    \"\"\"\n",
    "    Impute missing values of the time series.\n",
    "\n",
    "    This time we will build a Sklearn Transformation using a plain function.\n",
    "    This function must take a DataFrame/Series/NumPy array as input and return a single structure.\n",
    "    To avoid unexpected behavior, this should be a pure function.\n",
    "\n",
    "    It is helpful to use a plain function when your transformation doesn't need an implementation for fit() and inverse_transform().\n",
    "\n",
    "    Afterward, we will wrap this function with `FunctionTransformer`, letting us use it in a Sklearn Pipeline object.\n",
    "\n",
    "    NOTE: Because this function is equal to the transform() method from the approach that uses Classes, only the features (e.g., X) are given as input.\n",
    "    \"\"\"\n",
    "\n",
    "    if isinstance(X, np.ndarray):\n",
    "        X = pd.DataFrame(X)\n",
    "\n",
    "    logger.debug(f\"time_series_imputer (transform): {X.shape}\")\n",
    "\n",
    "    return X.fillna(method=method, axis=0)\n",
    "\n",
    "\n",
    "BackFillImputer = FunctionTransformer(partial(time_series_imputer, method=\"bfill\"), validate=False)\n",
    "ForwardFillImputer = FunctionTransformer(partial(time_series_imputer, method=\"ffill\"), validate=False)"
   ]
  },
  {
   "cell_type": "markdown",
   "metadata": {
    "collapsed": false
   },
   "source": [
    "We leveraged the `partial` function to configure the transformations.\n",
    "\n",
    "As stated earlier, the function given to `FunctionTransformer` should have input and, as output, only one structure. Therefore, within the pipeline, other attributes are not accessible anymore.\n",
    "\n",
    "Using `partial` we can set only a subset of the parameters of a function. It will wrap up our initial function and return another function that will need as input only the parameters not specified in `partial` at the next call."
   ]
  },
  {
   "cell_type": "code",
   "execution_count": 43,
   "metadata": {
    "collapsed": false
   },
   "outputs": [],
   "source": [
    "def build_stationarity_pipeline(source: str) -> Pipeline:\n",
    "    \"\"\"Factory method for the stationarity pipeline. The 'source' parameter is used to choose on what it will be used: the features (X) and target (y).\"\"\"\n",
    "\n",
    "    assert source in (\"features\", \"target\")\n",
    "    if source == \"features\":\n",
    "        num_observed_points = NUM_OBSERVED_POINTS\n",
    "    else:\n",
    "        num_observed_points = 0\n",
    "\n",
    "    return make_pipeline(\n",
    "        BackFillImputer,\n",
    "        ForwardFillImputer,\n",
    "        LogTransformer(),\n",
    "        DifferenceTransformer(num_observed_points=num_observed_points),\n",
    "        memory=\"cache\",\n",
    "        verbose=True\n",
    "    )\n",
    "\n",
    "features_stationarity_pipeline = build_stationarity_pipeline(source=\"features\")"
   ]
  },
  {
   "cell_type": "markdown",
   "metadata": {
    "collapsed": false
   },
   "source": [
    "By calling `set_config(display=\"diagram\")`, we can nicely visualize the pipeline into a cool diagram."
   ]
  },
  {
   "cell_type": "code",
   "execution_count": 44,
   "metadata": {
    "collapsed": false
   },
   "outputs": [
    {
     "data": {
      "text/html": [
       "<style>#sk-container-id-1 {color: black;}#sk-container-id-1 pre{padding: 0;}#sk-container-id-1 div.sk-toggleable {background-color: white;}#sk-container-id-1 label.sk-toggleable__label {cursor: pointer;display: block;width: 100%;margin-bottom: 0;padding: 0.3em;box-sizing: border-box;text-align: center;}#sk-container-id-1 label.sk-toggleable__label-arrow:before {content: \"▸\";float: left;margin-right: 0.25em;color: #696969;}#sk-container-id-1 label.sk-toggleable__label-arrow:hover:before {color: black;}#sk-container-id-1 div.sk-estimator:hover label.sk-toggleable__label-arrow:before {color: black;}#sk-container-id-1 div.sk-toggleable__content {max-height: 0;max-width: 0;overflow: hidden;text-align: left;background-color: #f0f8ff;}#sk-container-id-1 div.sk-toggleable__content pre {margin: 0.2em;color: black;border-radius: 0.25em;background-color: #f0f8ff;}#sk-container-id-1 input.sk-toggleable__control:checked~div.sk-toggleable__content {max-height: 200px;max-width: 100%;overflow: auto;}#sk-container-id-1 input.sk-toggleable__control:checked~label.sk-toggleable__label-arrow:before {content: \"▾\";}#sk-container-id-1 div.sk-estimator input.sk-toggleable__control:checked~label.sk-toggleable__label {background-color: #d4ebff;}#sk-container-id-1 div.sk-label input.sk-toggleable__control:checked~label.sk-toggleable__label {background-color: #d4ebff;}#sk-container-id-1 input.sk-hidden--visually {border: 0;clip: rect(1px 1px 1px 1px);clip: rect(1px, 1px, 1px, 1px);height: 1px;margin: -1px;overflow: hidden;padding: 0;position: absolute;width: 1px;}#sk-container-id-1 div.sk-estimator {font-family: monospace;background-color: #f0f8ff;border: 1px dotted black;border-radius: 0.25em;box-sizing: border-box;margin-bottom: 0.5em;}#sk-container-id-1 div.sk-estimator:hover {background-color: #d4ebff;}#sk-container-id-1 div.sk-parallel-item::after {content: \"\";width: 100%;border-bottom: 1px solid gray;flex-grow: 1;}#sk-container-id-1 div.sk-label:hover label.sk-toggleable__label {background-color: #d4ebff;}#sk-container-id-1 div.sk-serial::before {content: \"\";position: absolute;border-left: 1px solid gray;box-sizing: border-box;top: 0;bottom: 0;left: 50%;z-index: 0;}#sk-container-id-1 div.sk-serial {display: flex;flex-direction: column;align-items: center;background-color: white;padding-right: 0.2em;padding-left: 0.2em;position: relative;}#sk-container-id-1 div.sk-item {position: relative;z-index: 1;}#sk-container-id-1 div.sk-parallel {display: flex;align-items: stretch;justify-content: center;background-color: white;position: relative;}#sk-container-id-1 div.sk-item::before, #sk-container-id-1 div.sk-parallel-item::before {content: \"\";position: absolute;border-left: 1px solid gray;box-sizing: border-box;top: 0;bottom: 0;left: 50%;z-index: -1;}#sk-container-id-1 div.sk-parallel-item {display: flex;flex-direction: column;z-index: 1;position: relative;background-color: white;}#sk-container-id-1 div.sk-parallel-item:first-child::after {align-self: flex-end;width: 50%;}#sk-container-id-1 div.sk-parallel-item:last-child::after {align-self: flex-start;width: 50%;}#sk-container-id-1 div.sk-parallel-item:only-child::after {width: 0;}#sk-container-id-1 div.sk-dashed-wrapped {border: 1px dashed gray;margin: 0 0.4em 0.5em 0.4em;box-sizing: border-box;padding-bottom: 0.4em;background-color: white;}#sk-container-id-1 div.sk-label label {font-family: monospace;font-weight: bold;display: inline-block;line-height: 1.2em;}#sk-container-id-1 div.sk-label-container {text-align: center;}#sk-container-id-1 div.sk-container {/* jupyter's `normalize.less` sets `[hidden] { display: none; }` but bootstrap.min.css set `[hidden] { display: none !important; }` so we also need the `!important` here to be able to override the default hidden behavior on the sphinx rendered scikit-learn.org. See: https://github.com/scikit-learn/scikit-learn/issues/21755 */display: inline-block !important;position: relative;}#sk-container-id-1 div.sk-text-repr-fallback {display: none;}</style><div id=\"sk-container-id-1\" class=\"sk-top-container\"><div class=\"sk-text-repr-fallback\"><pre>Pipeline(memory=&#x27;cache&#x27;,\n",
       "         steps=[(&#x27;functiontransformer-1&#x27;,\n",
       "                 FunctionTransformer(func=functools.partial(&lt;function time_series_imputer at 0x7fa2fb7c8220&gt;, method=&#x27;bfill&#x27;))),\n",
       "                (&#x27;functiontransformer-2&#x27;,\n",
       "                 FunctionTransformer(func=functools.partial(&lt;function time_series_imputer at 0x7fa2fb7c8220&gt;, method=&#x27;ffill&#x27;))),\n",
       "                (&#x27;logtransformer&#x27;, LogTransformer()),\n",
       "                (&#x27;differencetransformer&#x27;,\n",
       "                 DifferenceTransformer(num_observed_points=5))],\n",
       "         verbose=True)</pre><b>In a Jupyter environment, please rerun this cell to show the HTML representation or trust the notebook. <br />On GitHub, the HTML representation is unable to render, please try loading this page with nbviewer.org.</b></div><div class=\"sk-container\" hidden><div class=\"sk-item sk-dashed-wrapped\"><div class=\"sk-label-container\"><div class=\"sk-label sk-toggleable\"><input class=\"sk-toggleable__control sk-hidden--visually\" id=\"sk-estimator-id-1\" type=\"checkbox\" ><label for=\"sk-estimator-id-1\" class=\"sk-toggleable__label sk-toggleable__label-arrow\">Pipeline</label><div class=\"sk-toggleable__content\"><pre>Pipeline(memory=&#x27;cache&#x27;,\n",
       "         steps=[(&#x27;functiontransformer-1&#x27;,\n",
       "                 FunctionTransformer(func=functools.partial(&lt;function time_series_imputer at 0x7fa2fb7c8220&gt;, method=&#x27;bfill&#x27;))),\n",
       "                (&#x27;functiontransformer-2&#x27;,\n",
       "                 FunctionTransformer(func=functools.partial(&lt;function time_series_imputer at 0x7fa2fb7c8220&gt;, method=&#x27;ffill&#x27;))),\n",
       "                (&#x27;logtransformer&#x27;, LogTransformer()),\n",
       "                (&#x27;differencetransformer&#x27;,\n",
       "                 DifferenceTransformer(num_observed_points=5))],\n",
       "         verbose=True)</pre></div></div></div><div class=\"sk-serial\"><div class=\"sk-item\"><div class=\"sk-estimator sk-toggleable\"><input class=\"sk-toggleable__control sk-hidden--visually\" id=\"sk-estimator-id-2\" type=\"checkbox\" ><label for=\"sk-estimator-id-2\" class=\"sk-toggleable__label sk-toggleable__label-arrow\">FunctionTransformer</label><div class=\"sk-toggleable__content\"><pre>FunctionTransformer(func=functools.partial(&lt;function time_series_imputer at 0x7fa2fb7c8220&gt;, method=&#x27;bfill&#x27;))</pre></div></div></div><div class=\"sk-item\"><div class=\"sk-estimator sk-toggleable\"><input class=\"sk-toggleable__control sk-hidden--visually\" id=\"sk-estimator-id-3\" type=\"checkbox\" ><label for=\"sk-estimator-id-3\" class=\"sk-toggleable__label sk-toggleable__label-arrow\">FunctionTransformer</label><div class=\"sk-toggleable__content\"><pre>FunctionTransformer(func=functools.partial(&lt;function time_series_imputer at 0x7fa2fb7c8220&gt;, method=&#x27;ffill&#x27;))</pre></div></div></div><div class=\"sk-item\"><div class=\"sk-estimator sk-toggleable\"><input class=\"sk-toggleable__control sk-hidden--visually\" id=\"sk-estimator-id-4\" type=\"checkbox\" ><label for=\"sk-estimator-id-4\" class=\"sk-toggleable__label sk-toggleable__label-arrow\">LogTransformer</label><div class=\"sk-toggleable__content\"><pre>LogTransformer()</pre></div></div></div><div class=\"sk-item\"><div class=\"sk-estimator sk-toggleable\"><input class=\"sk-toggleable__control sk-hidden--visually\" id=\"sk-estimator-id-5\" type=\"checkbox\" ><label for=\"sk-estimator-id-5\" class=\"sk-toggleable__label sk-toggleable__label-arrow\">DifferenceTransformer</label><div class=\"sk-toggleable__content\"><pre>DifferenceTransformer(num_observed_points=5)</pre></div></div></div></div></div></div></div>"
      ],
      "text/plain": [
       "Pipeline(memory='cache',\n",
       "         steps=[('functiontransformer-1',\n",
       "                 FunctionTransformer(func=functools.partial(<function time_series_imputer at 0x7fa2fb7c8220>, method='bfill'))),\n",
       "                ('functiontransformer-2',\n",
       "                 FunctionTransformer(func=functools.partial(<function time_series_imputer at 0x7fa2fb7c8220>, method='ffill'))),\n",
       "                ('logtransformer', LogTransformer()),\n",
       "                ('differencetransformer',\n",
       "                 DifferenceTransformer(num_observed_points=5))],\n",
       "         verbose=True)"
      ]
     },
     "execution_count": 44,
     "metadata": {},
     "output_type": "execute_result"
    }
   ],
   "source": [
    "features_stationarity_pipeline"
   ]
  },
  {
   "cell_type": "code",
   "execution_count": 45,
   "metadata": {
    "collapsed": false
   },
   "outputs": [
    {
     "name": "stderr",
     "output_type": "stream",
     "text": [
      "DEBUG:sklearn-pipelines:LogTransformer X (fit): (32, 2)\n",
      "DEBUG:sklearn-pipelines:LogTransformer (transform): (32, 2)\n",
      "DEBUG:sklearn-pipelines:DifferenceTransformer X (fit): (32, 2)\n",
      "DEBUG:sklearn-pipelines:DifferenceTransformer (transform): (31, 2)\n",
      "DEBUG:sklearn-pipelines:DifferenceTransformer (inverse_transform): (32, 2)\n",
      "DEBUG:sklearn-pipelines:LogTransformer (inverse_transform): (32, 2)\n"
     ]
    },
    {
     "name": "stdout",
     "output_type": "stream",
     "text": [
      "[Pipeline] .... (step 3 of 4) Processing logtransformer, total=   0.0s\n",
      "[Pipeline]  (step 4 of 4) Processing differencetransformer, total=   0.0s\n"
     ]
    },
    {
     "data": {
      "text/plain": [
       "True"
      ]
     },
     "execution_count": 45,
     "metadata": {},
     "output_type": "execute_result"
    }
   ],
   "source": [
    "# Check that inverse_transform is reversing the operation correctly.\n",
    "np.allclose(\n",
    "    features_stationarity_pipeline.inverse_transform(features_stationarity_pipeline.fit_transform(X_train.copy())),\n",
    "    X_train\n",
    ")"
   ]
  },
  {
   "cell_type": "code",
   "execution_count": 46,
   "metadata": {
    "collapsed": false
   },
   "outputs": [
    {
     "name": "stderr",
     "output_type": "stream",
     "text": [
      "DEBUG:sklearn-pipelines:time_series_imputer (transform): (10, 2)\n",
      "/tmp/ipykernel_15604/3468867238.py:123: FutureWarning: DataFrame.fillna with 'method' is deprecated and will raise in a future version. Use obj.ffill() or obj.bfill() instead.\n",
      "  return X.fillna(method=method, axis=0)\n",
      "DEBUG:sklearn-pipelines:time_series_imputer (transform): (10, 2)\n",
      "DEBUG:sklearn-pipelines:LogTransformer (transform): (10, 2)\n",
      "DEBUG:sklearn-pipelines:DifferenceTransformer (transform): (9, 2)\n",
      "DEBUG:sklearn-pipelines:DifferenceTransformer (inverse_transform): (10, 2)\n",
      "DEBUG:sklearn-pipelines:LogTransformer (inverse_transform): (10, 2)\n"
     ]
    },
    {
     "data": {
      "text/plain": [
       "True"
      ]
     },
     "execution_count": 46,
     "metadata": {},
     "output_type": "execute_result"
    }
   ],
   "source": [
    "np.allclose(\n",
    "    features_stationarity_pipeline.inverse_transform(features_stationarity_pipeline.transform(X_test.copy())),\n",
    "    X_test\n",
    ")"
   ]
  },
  {
   "cell_type": "code",
   "execution_count": 47,
   "metadata": {
    "collapsed": false
   },
   "outputs": [
    {
     "name": "stderr",
     "output_type": "stream",
     "text": [
      "DEBUG:sklearn-pipelines:DifferenceTransformer X (fit): (27,)\n",
      "DEBUG:sklearn-pipelines:DifferenceTransformer (transform): (26,)\n",
      "DEBUG:sklearn-pipelines:DifferenceTransformer (inverse_transform): (27,)\n",
      "DEBUG:sklearn-pipelines:LogTransformer (inverse_transform): (27,)\n"
     ]
    },
    {
     "name": "stdout",
     "output_type": "stream",
     "text": [
      "[Pipeline]  (step 4 of 4) Processing differencetransformer, total=   0.0s\n"
     ]
    },
    {
     "data": {
      "text/plain": [
       "True"
      ]
     },
     "execution_count": 47,
     "metadata": {},
     "output_type": "execute_result"
    }
   ],
   "source": [
    "target_stationarity_pipeline = build_stationarity_pipeline(source=\"target\")\n",
    "\n",
    "np.allclose(\n",
    "    target_stationarity_pipeline.inverse_transform(target_stationarity_pipeline.fit_transform(y_train.copy())),\n",
    "    y_train\n",
    ")"
   ]
  },
  {
   "cell_type": "code",
   "execution_count": 48,
   "metadata": {
    "collapsed": false
   },
   "outputs": [
    {
     "name": "stderr",
     "output_type": "stream",
     "text": [
      "DEBUG:sklearn-pipelines:time_series_imputer (transform): (5,)\n",
      "/tmp/ipykernel_15604/3468867238.py:123: FutureWarning: Series.fillna with 'method' is deprecated and will raise in a future version. Use obj.ffill() or obj.bfill() instead.\n",
      "  return X.fillna(method=method, axis=0)\n",
      "DEBUG:sklearn-pipelines:time_series_imputer (transform): (5,)\n",
      "DEBUG:sklearn-pipelines:LogTransformer (transform): (5,)\n",
      "DEBUG:sklearn-pipelines:DifferenceTransformer (transform): (4,)\n",
      "DEBUG:sklearn-pipelines:DifferenceTransformer (inverse_transform): (5,)\n",
      "DEBUG:sklearn-pipelines:LogTransformer (inverse_transform): (5,)\n"
     ]
    },
    {
     "data": {
      "text/plain": [
       "True"
      ]
     },
     "execution_count": 48,
     "metadata": {},
     "output_type": "execute_result"
    }
   ],
   "source": [
    "np.allclose(\n",
    "    target_stationarity_pipeline.inverse_transform(target_stationarity_pipeline.transform(y_test.copy())),\n",
    "    y_test\n",
    ")"
   ]
  },
  {
   "cell_type": "markdown",
   "metadata": {
    "collapsed": false
   },
   "source": [
    "This is how the time series will look after the stationarity transformation."
   ]
  },
  {
   "cell_type": "code",
   "execution_count": 49,
   "metadata": {
    "collapsed": false
   },
   "outputs": [
    {
     "name": "stderr",
     "output_type": "stream",
     "text": [
      "DEBUG:sklearn-pipelines:time_series_imputer (transform): (36, 2)\n",
      "/tmp/ipykernel_15604/3468867238.py:123: FutureWarning: DataFrame.fillna with 'method' is deprecated and will raise in a future version. Use obj.ffill() or obj.bfill() instead.\n",
      "  return X.fillna(method=method, axis=0)\n",
      "DEBUG:sklearn-pipelines:DifferenceTransformer X (fit): (36, 2)\n",
      "DEBUG:sklearn-pipelines:DifferenceTransformer (transform): (35, 2)\n"
     ]
    },
    {
     "name": "stdout",
     "output_type": "stream",
     "text": [
      "[Pipeline]  (step 2 of 4) Processing functiontransformer-2, total=   0.0s\n",
      "[Pipeline]  (step 4 of 4) Processing differencetransformer, total=   0.0s\n"
     ]
    },
    {
     "data": {
      "image/png": "[encoded data removed]",
      "text/plain": [
       "<Figure size 640x480 with 2 Axes>"
      ]
     },
     "metadata": {},
     "output_type": "display_data"
    }
   ],
   "source": [
    "features_stationarity_pipeline.fit_transform(yields.copy()).plot(subplots=True);"
   ]
  },
  {
   "cell_type": "markdown",
   "metadata": {
    "collapsed": false
   },
   "source": [
    "## Feature Engineering Pipeline\n",
    "\n",
    "Now let's create some features. We won't go too much into the details of time series forecasting. We will mainly focus on leveraging all the methods from Sklearn to build professional pipelines."
   ]
  },
  {
   "cell_type": "code",
   "execution_count": 57,
   "metadata": {
    "collapsed": false
   },
   "outputs": [],
   "source": [
    "def rolling_average_transformer(X: Union[pd.Series, pd.DataFrame], window: int = 5):\n",
    "    \"\"\"Compute the moving average with a length of 'window'.\"\"\"\n",
    "\n",
    "    if isinstance(X, pd.Series):\n",
    "        X = X.to_frame()\n",
    "\n",
    "    X_average = X.rolling(window=window).mean()\n",
    "    X_average.columns = [f\"{col}_rolling_average_{window}\" for col in X.columns]\n",
    "\n",
    "    logger.debug(f\"rolling_average_transformer (transform): {X_average.shape}\")\n",
    "\n",
    "    return X_average\n",
    "\n",
    "\n",
    "def rolling_std_transformer(X: Union[pd.Series, pd.DataFrame], window: int = 5):\n",
    "    \"\"\"Compute the moving standard deviation with a length of 'window'.\"\"\"\n",
    "\n",
    "    if isinstance(X, pd.Series):\n",
    "        X = X.to_frame()\n",
    "\n",
    "    X_std = X.rolling(window=window).std()\n",
    "    X_std.columns = [f\"{col}_rolling_std_{window}\" for col in X.columns]\n",
    "\n",
    "    logger.debug(f\"rolling_std_transformer (transform): {X_std.shape}\")\n",
    "\n",
    "    return X_std\n",
    "\n",
    "\n",
    "def rolling_median_transformer(X: Union[pd.Series, pd.DataFrame], window: int = 5):\n",
    "    \"\"\"Compute the moving median with a length of 'window'.\"\"\"\n",
    "\n",
    "    if isinstance(X, pd.Series):\n",
    "        X = X.to_frame()\n",
    "\n",
    "    X_median = X.rolling(window=window).median()\n",
    "    X_median.columns = [f\"{col}_rolling_median_{window}\" for col in X.columns]\n",
    "\n",
    "    logger.debug(f\"rolling_median_transformer (transform): {X_median.shape}\")\n",
    "\n",
    "    return X_median\n",
    "\n",
    "\n",
    "def time_series_shift(X: Union[pd.Series, pd.DataFrame], n_past: int = 5):\n",
    "    \"\"\"Function that gathers 'n_past' points to predict the point at time T_n.\"\"\"\n",
    "\n",
    "    if isinstance(X, np.ndarray):\n",
    "        X = pd.DataFrame(X)\n",
    "    if isinstance(X, pd.Series):\n",
    "        X = X.to_frame()\n",
    "\n",
    "    encoded_X = X.copy()\n",
    "    for column in X.columns:\n",
    "        for past_delta in range(1, n_past + 1):\n",
    "            column_name = f\"{column}_{past_delta}\"\n",
    "            X_delta = X[column].shift(past_delta)\n",
    "            X_delta = X_delta.rename(column_name)\n",
    "\n",
    "            encoded_X = pd.concat([encoded_X, X_delta], axis=1)\n",
    "\n",
    "    # Now drop all the columns from time T_n. We want to keep at the feature level T_n-1, T_n-2, ... T_0 and predict the value at time T_n.\n",
    "    encoded_X = encoded_X.drop(columns=X.columns)\n",
    "\n",
    "    logger.debug(f\"time_series_shift (transform): {encoded_X.shape}\")\n",
    "\n",
    "    return encoded_X\n",
    "\n",
    "\n",
    "class DropRowsTransformer(BaseEstimator, TransformerMixin):\n",
    "    \"\"\"Transformer used to drop a given number of rows from the beginning of the DataFrame.\"\"\"\n",
    "\n",
    "    def __init__(self, num_rows: int):\n",
    "        \"\"\"\n",
    "\n",
    "        Args:\n",
    "            num_rows: The number of rows to drop at the beginning of the structure.\n",
    "        \"\"\"\n",
    "\n",
    "        self.num_rows = num_rows\n",
    "        self.start_X = None\n",
    "\n",
    "    def fit(self, X: pd.DataFrame, y: Optional[Union[pd.DataFrame, pd.Series]] = None) -> \"DropRowsTransformer\":\n",
    "        self.start_X = X.iloc[:self.num_rows]\n",
    "\n",
    "        logger.debug(f\"DropRowsTransformer X (fit): {X.shape}\")\n",
    "        if y is not None:\n",
    "            logger.debug(f\"DropRowsTransformer y (fit): {y.shape}\")\n",
    "\n",
    "        return self\n",
    "\n",
    "    def transform(self, X: Union[np.ndarray, pd.Series, pd.DataFrame]) -> pd.DataFrame:\n",
    "        if isinstance(X, np.ndarray):\n",
    "            X = X[self.num_rows: ]\n",
    "        else:\n",
    "            X = X.iloc[self.num_rows: ]\n",
    "\n",
    "        logger.debug(f\"DropRowsTransformer (transform): {X.shape}\")\n",
    "\n",
    "        return X\n",
    "\n",
    "    def inverse_transform(self, X: Union[np.ndarray, pd.Series, pd.DataFrame]) -> pd.DataFrame:\n",
    "        if isinstance(X, np.ndarray):\n",
    "            X = pd.DataFrame(X)\n",
    "\n",
    "        X = pd.concat([self.start_X, X], axis=0)\n",
    "\n",
    "        logger.debug(f\"DropRowsTransformer (inverse_transform): {X.shape}\")\n",
    "\n",
    "        return X\n",
    "\n",
    "\n",
    "RollingAverageTransformer = FunctionTransformer(partial(rolling_average_transformer, window=NUM_OBSERVED_POINTS))\n",
    "RollingStdTransformer = FunctionTransformer(partial(rolling_std_transformer, window=NUM_OBSERVED_POINTS))\n",
    "RollingMedianTransformer = FunctionTransformer(partial(rolling_median_transformer, window=NUM_OBSERVED_POINTS))\n",
    "ShiftNumObservedPointsTransformer = FunctionTransformer(partial(time_series_shift, n_past=NUM_OBSERVED_POINTS))\n",
    "ShiftOnePointTransformer = FunctionTransformer(partial(time_series_shift, n_past=1))"
   ]
  },
  {
   "cell_type": "markdown",
   "metadata": {
    "collapsed": false
   },
   "source": [
    "For most of the transformation we used plain functions + `FunctionTransformer`. We used this approach because we are not interested in implementing `fit` or `inverse_transform`. Therefore, using this method, our code is slimmer and cleaner.\n",
    "\n",
    "Only `DropRowsTransformer` is implemented with a class because it needs both `fit` and `inverse_transform`."
   ]
  },
  {
   "cell_type": "markdown",
   "metadata": {
    "collapsed": false
   },
   "source": [
    "Now let's get to the sweet part where we will use:\n",
    "* [make_column_transformer](https://scikit-learn.org/stable/modules/generated/sklearn.compose.make_column_transformer.html) (a shortcut for [ColumnTransfomer](https://scikit-learn.org/stable/modules/generated/sklearn.compose.ColumnTransformer.html))\n",
    "* [make_union](https://scikit-learn.org/stable/modules/generated/sklearn.pipeline.make_union.html) (a shortcut for [FeatureUnion](https://scikit-learn.org/stable/modules/generated/sklearn.pipeline.FeatureUnion.html))\n",
    "\n",
    "Using `make_column_transformer` we can run different operations/pipelines on subsets of the features. In this concrete example, we ran various transformations on the `mean_yield` and the `locations` fields. Another sweet thing about this is that it runs in `parallel`. The features for `mean_yield` and `locations` are computed in `parallel`.\n",
    "\n",
    "Using `make_union` we can compute multiple features in parallel. In this example, for `mean_yield` we are calculating in `parallel` for four different features:\n",
    "* past observations\n",
    "* moving average\n",
    "* moving standard deviation\n",
    "* moving median\n",
    "The same principle applies to the `locations` feature.\n",
    "\n",
    "All the features are computed in `parallel`. `make_column_transformer` runs the operations for `mean_yield` and `locations` in parallel. Afterward, `make_pipeline` calculates all the features in parallel. This is how powerful Sklearn pipelines are if used correctly.\n",
    "\n",
    "As the cherry on top, by setting `memory=cache` the outputs from intermediary steps are saved on disk. It knows when to invalidate the check if one pipeline unit changes.\n",
    "\n",
    "Also, by following the Sklearn interface and good practices, look at how easy is to compose those transformation for various features."
   ]
  },
  {
   "cell_type": "code",
   "execution_count": 58,
   "metadata": {
    "collapsed": false
   },
   "outputs": [
    {
     "data": {
      "text/html": [
       "<style>#sk-container-id-2 {color: black;}#sk-container-id-2 pre{padding: 0;}#sk-container-id-2 div.sk-toggleable {background-color: white;}#sk-container-id-2 label.sk-toggleable__label {cursor: pointer;display: block;width: 100%;margin-bottom: 0;padding: 0.3em;box-sizing: border-box;text-align: center;}#sk-container-id-2 label.sk-toggleable__label-arrow:before {content: \"▸\";float: left;margin-right: 0.25em;color: #696969;}#sk-container-id-2 label.sk-toggleable__label-arrow:hover:before {color: black;}#sk-container-id-2 div.sk-estimator:hover label.sk-toggleable__label-arrow:before {color: black;}#sk-container-id-2 div.sk-toggleable__content {max-height: 0;max-width: 0;overflow: hidden;text-align: left;background-color: #f0f8ff;}#sk-container-id-2 div.sk-toggleable__content pre {margin: 0.2em;color: black;border-radius: 0.25em;background-color: #f0f8ff;}#sk-container-id-2 input.sk-toggleable__control:checked~div.sk-toggleable__content {max-height: 200px;max-width: 100%;overflow: auto;}#sk-container-id-2 input.sk-toggleable__control:checked~label.sk-toggleable__label-arrow:before {content: \"▾\";}#sk-container-id-2 div.sk-estimator input.sk-toggleable__control:checked~label.sk-toggleable__label {background-color: #d4ebff;}#sk-container-id-2 div.sk-label input.sk-toggleable__control:checked~label.sk-toggleable__label {background-color: #d4ebff;}#sk-container-id-2 input.sk-hidden--visually {border: 0;clip: rect(1px 1px 1px 1px);clip: rect(1px, 1px, 1px, 1px);height: 1px;margin: -1px;overflow: hidden;padding: 0;position: absolute;width: 1px;}#sk-container-id-2 div.sk-estimator {font-family: monospace;background-color: #f0f8ff;border: 1px dotted black;border-radius: 0.25em;box-sizing: border-box;margin-bottom: 0.5em;}#sk-container-id-2 div.sk-estimator:hover {background-color: #d4ebff;}#sk-container-id-2 div.sk-parallel-item::after {content: \"\";width: 100%;border-bottom: 1px solid gray;flex-grow: 1;}#sk-container-id-2 div.sk-label:hover label.sk-toggleable__label {background-color: #d4ebff;}#sk-container-id-2 div.sk-serial::before {content: \"\";position: absolute;border-left: 1px solid gray;box-sizing: border-box;top: 0;bottom: 0;left: 50%;z-index: 0;}#sk-container-id-2 div.sk-serial {display: flex;flex-direction: column;align-items: center;background-color: white;padding-right: 0.2em;padding-left: 0.2em;position: relative;}#sk-container-id-2 div.sk-item {position: relative;z-index: 1;}#sk-container-id-2 div.sk-parallel {display: flex;align-items: stretch;justify-content: center;background-color: white;position: relative;}#sk-container-id-2 div.sk-item::before, #sk-container-id-2 div.sk-parallel-item::before {content: \"\";position: absolute;border-left: 1px solid gray;box-sizing: border-box;top: 0;bottom: 0;left: 50%;z-index: -1;}#sk-container-id-2 div.sk-parallel-item {display: flex;flex-direction: column;z-index: 1;position: relative;background-color: white;}#sk-container-id-2 div.sk-parallel-item:first-child::after {align-self: flex-end;width: 50%;}#sk-container-id-2 div.sk-parallel-item:last-child::after {align-self: flex-start;width: 50%;}#sk-container-id-2 div.sk-parallel-item:only-child::after {width: 0;}#sk-container-id-2 div.sk-dashed-wrapped {border: 1px dashed gray;margin: 0 0.4em 0.5em 0.4em;box-sizing: border-box;padding-bottom: 0.4em;background-color: white;}#sk-container-id-2 div.sk-label label {font-family: monospace;font-weight: bold;display: inline-block;line-height: 1.2em;}#sk-container-id-2 div.sk-label-container {text-align: center;}#sk-container-id-2 div.sk-container {/* jupyter's `normalize.less` sets `[hidden] { display: none; }` but bootstrap.min.css set `[hidden] { display: none !important; }` so we also need the `!important` here to be able to override the default hidden behavior on the sphinx rendered scikit-learn.org. See: https://github.com/scikit-learn/scikit-learn/issues/21755 */display: inline-block !important;position: relative;}#sk-container-id-2 div.sk-text-repr-fallback {display: none;}</style><div id=\"sk-container-id-2\" class=\"sk-top-container\"><div class=\"sk-text-repr-fallback\"><pre>Pipeline(memory=&#x27;cache&#x27;,\n",
       "         steps=[(&#x27;pipeline&#x27;,\n",
       "                 Pipeline(memory=&#x27;cache&#x27;,\n",
       "                          steps=[(&#x27;functiontransformer-1&#x27;,\n",
       "                                  FunctionTransformer(func=functools.partial(&lt;function time_series_imputer at 0x7fa2fb7c8220&gt;, method=&#x27;bfill&#x27;))),\n",
       "                                 (&#x27;functiontransformer-2&#x27;,\n",
       "                                  FunctionTransformer(func=functools.partial(&lt;function time_series_imputer at 0x7fa2fb7c8220&gt;, method=&#x27;ffill&#x27;))),\n",
       "                                 (&#x27;logtransfo...\n",
       "                                                  [&#x27;locations&#x27;])])),\n",
       "                (&#x27;functiontransformer-1&#x27;,\n",
       "                 FunctionTransformer(func=functools.partial(&lt;function time_series_imputer at 0x7fa2fb7c8220&gt;, method=&#x27;bfill&#x27;))),\n",
       "                (&#x27;functiontransformer-2&#x27;,\n",
       "                 FunctionTransformer(func=functools.partial(&lt;function time_series_imputer at 0x7fa2fb7c8220&gt;, method=&#x27;ffill&#x27;))),\n",
       "                (&#x27;droprowstransformer&#x27;, DropRowsTransformer(num_rows=5))],\n",
       "         verbose=True)</pre><b>In a Jupyter environment, please rerun this cell to show the HTML representation or trust the notebook. <br />On GitHub, the HTML representation is unable to render, please try loading this page with nbviewer.org.</b></div><div class=\"sk-container\" hidden><div class=\"sk-item sk-dashed-wrapped\"><div class=\"sk-label-container\"><div class=\"sk-label sk-toggleable\"><input class=\"sk-toggleable__control sk-hidden--visually\" id=\"sk-estimator-id-6\" type=\"checkbox\" ><label for=\"sk-estimator-id-6\" class=\"sk-toggleable__label sk-toggleable__label-arrow\">Pipeline</label><div class=\"sk-toggleable__content\"><pre>Pipeline(memory=&#x27;cache&#x27;,\n",
       "         steps=[(&#x27;pipeline&#x27;,\n",
       "                 Pipeline(memory=&#x27;cache&#x27;,\n",
       "                          steps=[(&#x27;functiontransformer-1&#x27;,\n",
       "                                  FunctionTransformer(func=functools.partial(&lt;function time_series_imputer at 0x7fa2fb7c8220&gt;, method=&#x27;bfill&#x27;))),\n",
       "                                 (&#x27;functiontransformer-2&#x27;,\n",
       "                                  FunctionTransformer(func=functools.partial(&lt;function time_series_imputer at 0x7fa2fb7c8220&gt;, method=&#x27;ffill&#x27;))),\n",
       "                                 (&#x27;logtransfo...\n",
       "                                                  [&#x27;locations&#x27;])])),\n",
       "                (&#x27;functiontransformer-1&#x27;,\n",
       "                 FunctionTransformer(func=functools.partial(&lt;function time_series_imputer at 0x7fa2fb7c8220&gt;, method=&#x27;bfill&#x27;))),\n",
       "                (&#x27;functiontransformer-2&#x27;,\n",
       "                 FunctionTransformer(func=functools.partial(&lt;function time_series_imputer at 0x7fa2fb7c8220&gt;, method=&#x27;ffill&#x27;))),\n",
       "                (&#x27;droprowstransformer&#x27;, DropRowsTransformer(num_rows=5))],\n",
       "         verbose=True)</pre></div></div></div><div class=\"sk-serial\"><div class=\"sk-item\"><div class=\"sk-label-container\"><div class=\"sk-label sk-toggleable\"><input class=\"sk-toggleable__control sk-hidden--visually\" id=\"sk-estimator-id-7\" type=\"checkbox\" ><label for=\"sk-estimator-id-7\" class=\"sk-toggleable__label sk-toggleable__label-arrow\">pipeline: Pipeline</label><div class=\"sk-toggleable__content\"><pre>Pipeline(memory=&#x27;cache&#x27;,\n",
       "         steps=[(&#x27;functiontransformer-1&#x27;,\n",
       "                 FunctionTransformer(func=functools.partial(&lt;function time_series_imputer at 0x7fa2fb7c8220&gt;, method=&#x27;bfill&#x27;))),\n",
       "                (&#x27;functiontransformer-2&#x27;,\n",
       "                 FunctionTransformer(func=functools.partial(&lt;function time_series_imputer at 0x7fa2fb7c8220&gt;, method=&#x27;ffill&#x27;))),\n",
       "                (&#x27;logtransformer&#x27;, LogTransformer()),\n",
       "                (&#x27;differencetransformer&#x27;,\n",
       "                 DifferenceTransformer(num_observed_points=5))],\n",
       "         verbose=True)</pre></div></div></div><div class=\"sk-serial\"><div class=\"sk-item\"><div class=\"sk-estimator sk-toggleable\"><input class=\"sk-toggleable__control sk-hidden--visually\" id=\"sk-estimator-id-8\" type=\"checkbox\" ><label for=\"sk-estimator-id-8\" class=\"sk-toggleable__label sk-toggleable__label-arrow\">FunctionTransformer</label><div class=\"sk-toggleable__content\"><pre>FunctionTransformer(func=functools.partial(&lt;function time_series_imputer at 0x7fa2fb7c8220&gt;, method=&#x27;bfill&#x27;))</pre></div></div></div><div class=\"sk-item\"><div class=\"sk-estimator sk-toggleable\"><input class=\"sk-toggleable__control sk-hidden--visually\" id=\"sk-estimator-id-9\" type=\"checkbox\" ><label for=\"sk-estimator-id-9\" class=\"sk-toggleable__label sk-toggleable__label-arrow\">FunctionTransformer</label><div class=\"sk-toggleable__content\"><pre>FunctionTransformer(func=functools.partial(&lt;function time_series_imputer at 0x7fa2fb7c8220&gt;, method=&#x27;ffill&#x27;))</pre></div></div></div><div class=\"sk-item\"><div class=\"sk-estimator sk-toggleable\"><input class=\"sk-toggleable__control sk-hidden--visually\" id=\"sk-estimator-id-10\" type=\"checkbox\" ><label for=\"sk-estimator-id-10\" class=\"sk-toggleable__label sk-toggleable__label-arrow\">LogTransformer</label><div class=\"sk-toggleable__content\"><pre>LogTransformer()</pre></div></div></div><div class=\"sk-item\"><div class=\"sk-estimator sk-toggleable\"><input class=\"sk-toggleable__control sk-hidden--visually\" id=\"sk-estimator-id-11\" type=\"checkbox\" ><label for=\"sk-estimator-id-11\" class=\"sk-toggleable__label sk-toggleable__label-arrow\">DifferenceTransformer</label><div class=\"sk-toggleable__content\"><pre>DifferenceTransformer(num_observed_points=5)</pre></div></div></div></div></div><div class=\"sk-item sk-dashed-wrapped\"><div class=\"sk-label-container\"><div class=\"sk-label sk-toggleable\"><input class=\"sk-toggleable__control sk-hidden--visually\" id=\"sk-estimator-id-12\" type=\"checkbox\" ><label for=\"sk-estimator-id-12\" class=\"sk-toggleable__label sk-toggleable__label-arrow\">columntransformer: ColumnTransformer</label><div class=\"sk-toggleable__content\"><pre>ColumnTransformer(transformers=[(&#x27;featureunion-1&#x27;,\n",
       "                                 FeatureUnion(transformer_list=[(&#x27;functiontransformer&#x27;,\n",
       "                                                                 FunctionTransformer(func=functools.partial(&lt;function time_series_shift at 0x7fa271ed56c0&gt;, n_past=5))),\n",
       "                                                                (&#x27;pipeline-1&#x27;,\n",
       "                                                                 Pipeline(steps=[(&#x27;functiontransformer-1&#x27;,\n",
       "                                                                                  FunctionTransformer(func=functools.partial(&lt;function rolling_average_transformer at 0x7fa271ed5...\n",
       "                                                                 FunctionTransformer(func=functools.partial(&lt;function time_series_shift at 0x7fa271ed56c0&gt;, n_past=5))),\n",
       "                                                                (&#x27;pipeline&#x27;,\n",
       "                                                                 Pipeline(steps=[(&#x27;functiontransformer-1&#x27;,\n",
       "                                                                                  FunctionTransformer(func=functools.partial(&lt;function rolling_average_transformer at 0x7fa271ed54e0&gt;, window=5))),\n",
       "                                                                                 (&#x27;functiontransformer-2&#x27;,\n",
       "                                                                                  FunctionTransformer(func=functools.partial(&lt;function time_series_shift at 0x7fa271ed56c0&gt;, n_past=1)))]))]),\n",
       "                                 [&#x27;locations&#x27;])])</pre></div></div></div><div class=\"sk-parallel\"><div class=\"sk-parallel-item\"><div class=\"sk-item\"><div class=\"sk-label-container\"><div class=\"sk-label sk-toggleable\"><input class=\"sk-toggleable__control sk-hidden--visually\" id=\"sk-estimator-id-13\" type=\"checkbox\" ><label for=\"sk-estimator-id-13\" class=\"sk-toggleable__label sk-toggleable__label-arrow\">featureunion-1</label><div class=\"sk-toggleable__content\"><pre>[&#x27;mean_yield&#x27;]</pre></div></div></div><div class=\"sk-serial\"><div class=\"sk-item sk-dashed-wrapped\"><div class=\"sk-parallel\"><div class=\"sk-parallel-item\"><div class=\"sk-item\"><div class=\"sk-label-container\"><div class=\"sk-label sk-toggleable\"><label>functiontransformer</label></div></div><div class=\"sk-serial\"><div class=\"sk-item\"><div class=\"sk-estimator sk-toggleable\"><input class=\"sk-toggleable__control sk-hidden--visually\" id=\"sk-estimator-id-14\" type=\"checkbox\" ><label for=\"sk-estimator-id-14\" class=\"sk-toggleable__label sk-toggleable__label-arrow\">FunctionTransformer</label><div class=\"sk-toggleable__content\"><pre>FunctionTransformer(func=functools.partial(&lt;function time_series_shift at 0x7fa271ed56c0&gt;, n_past=5))</pre></div></div></div></div></div></div><div class=\"sk-parallel-item\"><div class=\"sk-item\"><div class=\"sk-label-container\"><div class=\"sk-label sk-toggleable\"><label>pipeline-1</label></div></div><div class=\"sk-serial\"><div class=\"sk-item\"><div class=\"sk-serial\"><div class=\"sk-item\"><div class=\"sk-estimator sk-toggleable\"><input class=\"sk-toggleable__control sk-hidden--visually\" id=\"sk-estimator-id-15\" type=\"checkbox\" ><label for=\"sk-estimator-id-15\" class=\"sk-toggleable__label sk-toggleable__label-arrow\">FunctionTransformer</label><div class=\"sk-toggleable__content\"><pre>FunctionTransformer(func=functools.partial(&lt;function rolling_average_transformer at 0x7fa271ed54e0&gt;, window=5))</pre></div></div></div><div class=\"sk-item\"><div class=\"sk-estimator sk-toggleable\"><input class=\"sk-toggleable__control sk-hidden--visually\" id=\"sk-estimator-id-16\" type=\"checkbox\" ><label for=\"sk-estimator-id-16\" class=\"sk-toggleable__label sk-toggleable__label-arrow\">FunctionTransformer</label><div class=\"sk-toggleable__content\"><pre>FunctionTransformer(func=functools.partial(&lt;function time_series_shift at 0x7fa271ed56c0&gt;, n_past=1))</pre></div></div></div></div></div></div></div></div><div class=\"sk-parallel-item\"><div class=\"sk-item\"><div class=\"sk-label-container\"><div class=\"sk-label sk-toggleable\"><label>pipeline-2</label></div></div><div class=\"sk-serial\"><div class=\"sk-item\"><div class=\"sk-serial\"><div class=\"sk-item\"><div class=\"sk-estimator sk-toggleable\"><input class=\"sk-toggleable__control sk-hidden--visually\" id=\"sk-estimator-id-17\" type=\"checkbox\" ><label for=\"sk-estimator-id-17\" class=\"sk-toggleable__label sk-toggleable__label-arrow\">FunctionTransformer</label><div class=\"sk-toggleable__content\"><pre>FunctionTransformer(func=functools.partial(&lt;function rolling_std_transformer at 0x7fa271ed5940&gt;, window=5))</pre></div></div></div><div class=\"sk-item\"><div class=\"sk-estimator sk-toggleable\"><input class=\"sk-toggleable__control sk-hidden--visually\" id=\"sk-estimator-id-18\" type=\"checkbox\" ><label for=\"sk-estimator-id-18\" class=\"sk-toggleable__label sk-toggleable__label-arrow\">FunctionTransformer</label><div class=\"sk-toggleable__content\"><pre>FunctionTransformer(func=functools.partial(&lt;function time_series_shift at 0x7fa271ed56c0&gt;, n_past=1))</pre></div></div></div></div></div></div></div></div><div class=\"sk-parallel-item\"><div class=\"sk-item\"><div class=\"sk-label-container\"><div class=\"sk-label sk-toggleable\"><label>pipeline-3</label></div></div><div class=\"sk-serial\"><div class=\"sk-item\"><div class=\"sk-serial\"><div class=\"sk-item\"><div class=\"sk-estimator sk-toggleable\"><input class=\"sk-toggleable__control sk-hidden--visually\" id=\"sk-estimator-id-19\" type=\"checkbox\" ><label for=\"sk-estimator-id-19\" class=\"sk-toggleable__label sk-toggleable__label-arrow\">FunctionTransformer</label><div class=\"sk-toggleable__content\"><pre>FunctionTransformer(func=functools.partial(&lt;function rolling_median_transformer at 0x7fa271ed5800&gt;, window=5))</pre></div></div></div><div class=\"sk-item\"><div class=\"sk-estimator sk-toggleable\"><input class=\"sk-toggleable__control sk-hidden--visually\" id=\"sk-estimator-id-20\" type=\"checkbox\" ><label for=\"sk-estimator-id-20\" class=\"sk-toggleable__label sk-toggleable__label-arrow\">FunctionTransformer</label><div class=\"sk-toggleable__content\"><pre>FunctionTransformer(func=functools.partial(&lt;function time_series_shift at 0x7fa271ed56c0&gt;, n_past=1))</pre></div></div></div></div></div></div></div></div></div></div></div></div></div><div class=\"sk-parallel-item\"><div class=\"sk-item\"><div class=\"sk-label-container\"><div class=\"sk-label sk-toggleable\"><input class=\"sk-toggleable__control sk-hidden--visually\" id=\"sk-estimator-id-21\" type=\"checkbox\" ><label for=\"sk-estimator-id-21\" class=\"sk-toggleable__label sk-toggleable__label-arrow\">featureunion-2</label><div class=\"sk-toggleable__content\"><pre>[&#x27;locations&#x27;]</pre></div></div></div><div class=\"sk-serial\"><div class=\"sk-item sk-dashed-wrapped\"><div class=\"sk-parallel\"><div class=\"sk-parallel-item\"><div class=\"sk-item\"><div class=\"sk-label-container\"><div class=\"sk-label sk-toggleable\"><label>functiontransformer</label></div></div><div class=\"sk-serial\"><div class=\"sk-item\"><div class=\"sk-estimator sk-toggleable\"><input class=\"sk-toggleable__control sk-hidden--visually\" id=\"sk-estimator-id-22\" type=\"checkbox\" ><label for=\"sk-estimator-id-22\" class=\"sk-toggleable__label sk-toggleable__label-arrow\">FunctionTransformer</label><div class=\"sk-toggleable__content\"><pre>FunctionTransformer(func=functools.partial(&lt;function time_series_shift at 0x7fa271ed56c0&gt;, n_past=5))</pre></div></div></div></div></div></div><div class=\"sk-parallel-item\"><div class=\"sk-item\"><div class=\"sk-label-container\"><div class=\"sk-label sk-toggleable\"><label>pipeline</label></div></div><div class=\"sk-serial\"><div class=\"sk-item\"><div class=\"sk-serial\"><div class=\"sk-item\"><div class=\"sk-estimator sk-toggleable\"><input class=\"sk-toggleable__control sk-hidden--visually\" id=\"sk-estimator-id-23\" type=\"checkbox\" ><label for=\"sk-estimator-id-23\" class=\"sk-toggleable__label sk-toggleable__label-arrow\">FunctionTransformer</label><div class=\"sk-toggleable__content\"><pre>FunctionTransformer(func=functools.partial(&lt;function rolling_average_transformer at 0x7fa271ed54e0&gt;, window=5))</pre></div></div></div><div class=\"sk-item\"><div class=\"sk-estimator sk-toggleable\"><input class=\"sk-toggleable__control sk-hidden--visually\" id=\"sk-estimator-id-24\" type=\"checkbox\" ><label for=\"sk-estimator-id-24\" class=\"sk-toggleable__label sk-toggleable__label-arrow\">FunctionTransformer</label><div class=\"sk-toggleable__content\"><pre>FunctionTransformer(func=functools.partial(&lt;function time_series_shift at 0x7fa271ed56c0&gt;, n_past=1))</pre></div></div></div></div></div></div></div></div></div></div></div></div></div></div></div><div class=\"sk-item\"><div class=\"sk-estimator sk-toggleable\"><input class=\"sk-toggleable__control sk-hidden--visually\" id=\"sk-estimator-id-25\" type=\"checkbox\" ><label for=\"sk-estimator-id-25\" class=\"sk-toggleable__label sk-toggleable__label-arrow\">FunctionTransformer</label><div class=\"sk-toggleable__content\"><pre>FunctionTransformer(func=functools.partial(&lt;function time_series_imputer at 0x7fa2fb7c8220&gt;, method=&#x27;bfill&#x27;))</pre></div></div></div><div class=\"sk-item\"><div class=\"sk-estimator sk-toggleable\"><input class=\"sk-toggleable__control sk-hidden--visually\" id=\"sk-estimator-id-26\" type=\"checkbox\" ><label for=\"sk-estimator-id-26\" class=\"sk-toggleable__label sk-toggleable__label-arrow\">FunctionTransformer</label><div class=\"sk-toggleable__content\"><pre>FunctionTransformer(func=functools.partial(&lt;function time_series_imputer at 0x7fa2fb7c8220&gt;, method=&#x27;ffill&#x27;))</pre></div></div></div><div class=\"sk-item\"><div class=\"sk-estimator sk-toggleable\"><input class=\"sk-toggleable__control sk-hidden--visually\" id=\"sk-estimator-id-27\" type=\"checkbox\" ><label for=\"sk-estimator-id-27\" class=\"sk-toggleable__label sk-toggleable__label-arrow\">DropRowsTransformer</label><div class=\"sk-toggleable__content\"><pre>DropRowsTransformer(num_rows=5)</pre></div></div></div></div></div></div></div>"
      ],
      "text/plain": [
       "Pipeline(memory='cache',\n",
       "         steps=[('pipeline',\n",
       "                 Pipeline(memory='cache',\n",
       "                          steps=[('functiontransformer-1',\n",
       "                                  FunctionTransformer(func=functools.partial(<function time_series_imputer at 0x7fa2fb7c8220>, method='bfill'))),\n",
       "                                 ('functiontransformer-2',\n",
       "                                  FunctionTransformer(func=functools.partial(<function time_series_imputer at 0x7fa2fb7c8220>, method='ffill'))),\n",
       "                                 ('logtransfo...\n",
       "                                                  ['locations'])])),\n",
       "                ('functiontransformer-1',\n",
       "                 FunctionTransformer(func=functools.partial(<function time_series_imputer at 0x7fa2fb7c8220>, method='bfill'))),\n",
       "                ('functiontransformer-2',\n",
       "                 FunctionTransformer(func=functools.partial(<function time_series_imputer at 0x7fa2fb7c8220>, method='ffill'))),\n",
       "                ('droprowstransformer', DropRowsTransformer(num_rows=5))],\n",
       "         verbose=True)"
      ]
     },
     "execution_count": 58,
     "metadata": {},
     "output_type": "execute_result"
    }
   ],
   "source": [
    "def build_feature_engineering_pipeline() -> Pipeline:\n",
    "    \"\"\"Factory function used to build the feature engineering pipeline.\"\"\"\n",
    "\n",
    "    return make_pipeline(\n",
    "        build_stationarity_pipeline(source=\"features\"),\n",
    "        make_column_transformer(\n",
    "            (\n",
    "                make_union(\n",
    "                    ShiftNumObservedPointsTransformer,\n",
    "                    make_pipeline(RollingAverageTransformer, ShiftOnePointTransformer),\n",
    "                    make_pipeline(RollingStdTransformer, ShiftOnePointTransformer),\n",
    "                    make_pipeline(RollingMedianTransformer, ShiftOnePointTransformer)\n",
    "                ),\n",
    "                [\"mean_yield\"]\n",
    "            ),\n",
    "            (\n",
    "                make_union(\n",
    "                    ShiftNumObservedPointsTransformer,\n",
    "                    make_pipeline(RollingAverageTransformer, ShiftOnePointTransformer)\n",
    "                ),\n",
    "                [\"locations\"]\n",
    "            ),\n",
    "\n",
    "        ),\n",
    "        BackFillImputer,\n",
    "        ForwardFillImputer,\n",
    "        DropRowsTransformer(num_rows=NUM_OBSERVED_POINTS),\n",
    "        memory=\"cache\",\n",
    "        verbose=True\n",
    "    )\n",
    "\n",
    "feature_engineering_pipeline = build_feature_engineering_pipeline()\n",
    "feature_engineering_pipeline"
   ]
  },
  {
   "cell_type": "code",
   "execution_count": 59,
   "metadata": {
    "collapsed": false
   },
   "outputs": [
    {
     "name": "stderr",
     "output_type": "stream",
     "text": [
      "DEBUG:sklearn-pipelines:time_series_shift (transform): (31, 5)\n",
      "DEBUG:sklearn-pipelines:rolling_average_transformer (transform): (31, 1)\n",
      "DEBUG:sklearn-pipelines:time_series_shift (transform): (31, 1)\n",
      "DEBUG:sklearn-pipelines:rolling_std_transformer (transform): (31, 1)\n",
      "DEBUG:sklearn-pipelines:time_series_shift (transform): (31, 1)\n",
      "DEBUG:sklearn-pipelines:rolling_median_transformer (transform): (31, 1)\n",
      "DEBUG:sklearn-pipelines:time_series_shift (transform): (31, 1)\n",
      "DEBUG:sklearn-pipelines:time_series_shift (transform): (31, 5)\n",
      "DEBUG:sklearn-pipelines:rolling_average_transformer (transform): (31, 1)\n",
      "DEBUG:sklearn-pipelines:time_series_shift (transform): (31, 1)\n",
      "DEBUG:sklearn-pipelines:DropRowsTransformer X (fit): (31, 14)\n",
      "DEBUG:sklearn-pipelines:DropRowsTransformer (transform): (26, 14)\n"
     ]
    },
    {
     "name": "stdout",
     "output_type": "stream",
     "text": [
      "[Pipeline] . (step 2 of 5) Processing columntransformer, total=   0.1s\n",
      "[Pipeline]  (step 5 of 5) Processing droprowstransformer, total=   0.0s\n"
     ]
    },
    {
     "data": {
      "text/html": [
       "<div>\n",
       "<style scoped>\n",
       "    .dataframe tbody tr th:only-of-type {\n",
       "        vertical-align: middle;\n",
       "    }\n",
       "\n",
       "    .dataframe tbody tr th {\n",
       "        vertical-align: top;\n",
       "    }\n",
       "\n",
       "    .dataframe thead th {\n",
       "        text-align: right;\n",
       "    }\n",
       "</style>\n",
       "<table border=\"1\" class=\"dataframe\">\n",
       "  <thead>\n",
       "    <tr style=\"text-align: right;\">\n",
       "      <th></th>\n",
       "      <th>0</th>\n",
       "      <th>1</th>\n",
       "      <th>2</th>\n",
       "      <th>3</th>\n",
       "      <th>4</th>\n",
       "      <th>5</th>\n",
       "      <th>6</th>\n",
       "      <th>7</th>\n",
       "      <th>8</th>\n",
       "      <th>9</th>\n",
       "      <th>10</th>\n",
       "      <th>11</th>\n",
       "      <th>12</th>\n",
       "      <th>13</th>\n",
       "    </tr>\n",
       "  </thead>\n",
       "  <tbody>\n",
       "    <tr>\n",
       "      <th>5</th>\n",
       "      <td>-0.013690</td>\n",
       "      <td>-0.013000</td>\n",
       "      <td>0.034739</td>\n",
       "      <td>0.056611</td>\n",
       "      <td>0.596868</td>\n",
       "      <td>0.132306</td>\n",
       "      <td>0.261484</td>\n",
       "      <td>0.034739</td>\n",
       "      <td>0.002453</td>\n",
       "      <td>-0.000238</td>\n",
       "      <td>-0.001108</td>\n",
       "      <td>0.001029</td>\n",
       "      <td>1.683205</td>\n",
       "      <td>0.337068</td>\n",
       "    </tr>\n",
       "    <tr>\n",
       "      <th>6</th>\n",
       "      <td>0.010093</td>\n",
       "      <td>-0.013690</td>\n",
       "      <td>-0.013000</td>\n",
       "      <td>0.034739</td>\n",
       "      <td>0.056611</td>\n",
       "      <td>0.014951</td>\n",
       "      <td>0.030628</td>\n",
       "      <td>0.010093</td>\n",
       "      <td>0.002683</td>\n",
       "      <td>0.002453</td>\n",
       "      <td>-0.000238</td>\n",
       "      <td>-0.001108</td>\n",
       "      <td>0.001029</td>\n",
       "      <td>0.000964</td>\n",
       "    </tr>\n",
       "    <tr>\n",
       "      <th>7</th>\n",
       "      <td>-0.018987</td>\n",
       "      <td>0.010093</td>\n",
       "      <td>-0.013690</td>\n",
       "      <td>-0.013000</td>\n",
       "      <td>0.034739</td>\n",
       "      <td>-0.000169</td>\n",
       "      <td>0.022502</td>\n",
       "      <td>-0.013000</td>\n",
       "      <td>0.001811</td>\n",
       "      <td>0.002683</td>\n",
       "      <td>0.002453</td>\n",
       "      <td>-0.000238</td>\n",
       "      <td>-0.001108</td>\n",
       "      <td>0.001120</td>\n",
       "    </tr>\n",
       "    <tr>\n",
       "      <th>8</th>\n",
       "      <td>0.005931</td>\n",
       "      <td>-0.018987</td>\n",
       "      <td>0.010093</td>\n",
       "      <td>-0.013690</td>\n",
       "      <td>-0.013000</td>\n",
       "      <td>-0.005931</td>\n",
       "      <td>0.013020</td>\n",
       "      <td>-0.013000</td>\n",
       "      <td>-0.001496</td>\n",
       "      <td>0.001811</td>\n",
       "      <td>0.002683</td>\n",
       "      <td>0.002453</td>\n",
       "      <td>-0.000238</td>\n",
       "      <td>0.001043</td>\n",
       "    </tr>\n",
       "    <tr>\n",
       "      <th>9</th>\n",
       "      <td>0.019365</td>\n",
       "      <td>0.005931</td>\n",
       "      <td>-0.018987</td>\n",
       "      <td>0.010093</td>\n",
       "      <td>-0.013690</td>\n",
       "      <td>0.000542</td>\n",
       "      <td>0.016267</td>\n",
       "      <td>0.005931</td>\n",
       "      <td>0.000551</td>\n",
       "      <td>-0.001496</td>\n",
       "      <td>0.001811</td>\n",
       "      <td>0.002683</td>\n",
       "      <td>0.002453</td>\n",
       "      <td>0.001200</td>\n",
       "    </tr>\n",
       "    <tr>\n",
       "      <th>10</th>\n",
       "      <td>-0.050680</td>\n",
       "      <td>0.019365</td>\n",
       "      <td>0.005931</td>\n",
       "      <td>-0.018987</td>\n",
       "      <td>0.010093</td>\n",
       "      <td>-0.006856</td>\n",
       "      <td>0.028311</td>\n",
       "      <td>0.005931</td>\n",
       "      <td>0.000394</td>\n",
       "      <td>0.000551</td>\n",
       "      <td>-0.001496</td>\n",
       "      <td>0.001811</td>\n",
       "      <td>0.002683</td>\n",
       "      <td>0.000789</td>\n",
       "    </tr>\n",
       "    <tr>\n",
       "      <th>11</th>\n",
       "      <td>0.076288</td>\n",
       "      <td>-0.050680</td>\n",
       "      <td>0.019365</td>\n",
       "      <td>0.005931</td>\n",
       "      <td>-0.018987</td>\n",
       "      <td>0.006383</td>\n",
       "      <td>0.047316</td>\n",
       "      <td>0.005931</td>\n",
       "      <td>0.000000</td>\n",
       "      <td>0.000394</td>\n",
       "      <td>0.000551</td>\n",
       "      <td>-0.001496</td>\n",
       "      <td>0.001811</td>\n",
       "      <td>0.000252</td>\n",
       "    </tr>\n",
       "    <tr>\n",
       "      <th>12</th>\n",
       "      <td>-0.033395</td>\n",
       "      <td>0.076288</td>\n",
       "      <td>-0.050680</td>\n",
       "      <td>0.019365</td>\n",
       "      <td>0.005931</td>\n",
       "      <td>0.003502</td>\n",
       "      <td>0.049630</td>\n",
       "      <td>0.005931</td>\n",
       "      <td>-0.019071</td>\n",
       "      <td>0.000000</td>\n",
       "      <td>0.000394</td>\n",
       "      <td>0.000551</td>\n",
       "      <td>-0.001496</td>\n",
       "      <td>-0.003924</td>\n",
       "    </tr>\n",
       "    <tr>\n",
       "      <th>13</th>\n",
       "      <td>0.044243</td>\n",
       "      <td>-0.033395</td>\n",
       "      <td>0.076288</td>\n",
       "      <td>-0.050680</td>\n",
       "      <td>0.019365</td>\n",
       "      <td>0.011164</td>\n",
       "      <td>0.052945</td>\n",
       "      <td>0.019365</td>\n",
       "      <td>0.019464</td>\n",
       "      <td>-0.019071</td>\n",
       "      <td>0.000000</td>\n",
       "      <td>0.000394</td>\n",
       "      <td>0.000551</td>\n",
       "      <td>0.000268</td>\n",
       "    </tr>\n",
       "    <tr>\n",
       "      <th>14</th>\n",
       "      <td>-0.090670</td>\n",
       "      <td>0.044243</td>\n",
       "      <td>-0.033395</td>\n",
       "      <td>0.076288</td>\n",
       "      <td>-0.050680</td>\n",
       "      <td>-0.010843</td>\n",
       "      <td>0.069091</td>\n",
       "      <td>-0.033395</td>\n",
       "      <td>-0.000079</td>\n",
       "      <td>0.019464</td>\n",
       "      <td>-0.019071</td>\n",
       "      <td>0.000000</td>\n",
       "      <td>0.000394</td>\n",
       "      <td>0.000142</td>\n",
       "    </tr>\n",
       "    <tr>\n",
       "      <th>15</th>\n",
       "      <td>0.098595</td>\n",
       "      <td>-0.090670</td>\n",
       "      <td>0.044243</td>\n",
       "      <td>-0.033395</td>\n",
       "      <td>0.076288</td>\n",
       "      <td>0.019012</td>\n",
       "      <td>0.079100</td>\n",
       "      <td>0.044243</td>\n",
       "      <td>-0.000630</td>\n",
       "      <td>-0.000079</td>\n",
       "      <td>0.019464</td>\n",
       "      <td>-0.019071</td>\n",
       "      <td>0.000000</td>\n",
       "      <td>-0.000063</td>\n",
       "    </tr>\n",
       "    <tr>\n",
       "      <th>16</th>\n",
       "      <td>-0.014266</td>\n",
       "      <td>0.098595</td>\n",
       "      <td>-0.090670</td>\n",
       "      <td>0.044243</td>\n",
       "      <td>-0.033395</td>\n",
       "      <td>0.000902</td>\n",
       "      <td>0.072826</td>\n",
       "      <td>-0.014266</td>\n",
       "      <td>0.000630</td>\n",
       "      <td>-0.000630</td>\n",
       "      <td>-0.000079</td>\n",
       "      <td>0.019464</td>\n",
       "      <td>-0.019071</td>\n",
       "      <td>0.000063</td>\n",
       "    </tr>\n",
       "    <tr>\n",
       "      <th>17</th>\n",
       "      <td>0.016929</td>\n",
       "      <td>-0.014266</td>\n",
       "      <td>0.098595</td>\n",
       "      <td>-0.090670</td>\n",
       "      <td>0.044243</td>\n",
       "      <td>0.010966</td>\n",
       "      <td>0.070336</td>\n",
       "      <td>0.016929</td>\n",
       "      <td>0.001730</td>\n",
       "      <td>0.000630</td>\n",
       "      <td>-0.000630</td>\n",
       "      <td>-0.000079</td>\n",
       "      <td>0.019464</td>\n",
       "      <td>0.004223</td>\n",
       "    </tr>\n",
       "    <tr>\n",
       "      <th>18</th>\n",
       "      <td>0.032946</td>\n",
       "      <td>0.016929</td>\n",
       "      <td>-0.014266</td>\n",
       "      <td>0.098595</td>\n",
       "      <td>-0.090670</td>\n",
       "      <td>0.008707</td>\n",
       "      <td>0.069171</td>\n",
       "      <td>0.016929</td>\n",
       "      <td>-0.001730</td>\n",
       "      <td>0.001730</td>\n",
       "      <td>0.000630</td>\n",
       "      <td>-0.000630</td>\n",
       "      <td>-0.000079</td>\n",
       "      <td>-0.000016</td>\n",
       "    </tr>\n",
       "    <tr>\n",
       "      <th>19</th>\n",
       "      <td>-0.050756</td>\n",
       "      <td>0.032946</td>\n",
       "      <td>0.016929</td>\n",
       "      <td>-0.014266</td>\n",
       "      <td>0.098595</td>\n",
       "      <td>0.016690</td>\n",
       "      <td>0.055857</td>\n",
       "      <td>0.016929</td>\n",
       "      <td>-0.000393</td>\n",
       "      <td>-0.001730</td>\n",
       "      <td>0.001730</td>\n",
       "      <td>0.000630</td>\n",
       "      <td>-0.000630</td>\n",
       "      <td>-0.000079</td>\n",
       "    </tr>\n",
       "    <tr>\n",
       "      <th>20</th>\n",
       "      <td>0.039590</td>\n",
       "      <td>-0.050756</td>\n",
       "      <td>0.032946</td>\n",
       "      <td>0.016929</td>\n",
       "      <td>-0.014266</td>\n",
       "      <td>0.004889</td>\n",
       "      <td>0.037415</td>\n",
       "      <td>0.016929</td>\n",
       "      <td>0.000000</td>\n",
       "      <td>-0.000393</td>\n",
       "      <td>-0.001730</td>\n",
       "      <td>0.001730</td>\n",
       "      <td>0.000630</td>\n",
       "      <td>0.000047</td>\n",
       "    </tr>\n",
       "    <tr>\n",
       "      <th>21</th>\n",
       "      <td>-0.049102</td>\n",
       "      <td>0.039590</td>\n",
       "      <td>-0.050756</td>\n",
       "      <td>0.032946</td>\n",
       "      <td>0.016929</td>\n",
       "      <td>-0.002079</td>\n",
       "      <td>0.044455</td>\n",
       "      <td>0.016929</td>\n",
       "      <td>-0.000157</td>\n",
       "      <td>0.000000</td>\n",
       "      <td>-0.000393</td>\n",
       "      <td>-0.001730</td>\n",
       "      <td>0.001730</td>\n",
       "      <td>-0.000110</td>\n",
       "    </tr>\n",
       "    <tr>\n",
       "      <th>22</th>\n",
       "      <td>0.048470</td>\n",
       "      <td>-0.049102</td>\n",
       "      <td>0.039590</td>\n",
       "      <td>-0.050756</td>\n",
       "      <td>0.032946</td>\n",
       "      <td>0.004230</td>\n",
       "      <td>0.049749</td>\n",
       "      <td>0.032946</td>\n",
       "      <td>-0.000472</td>\n",
       "      <td>-0.000157</td>\n",
       "      <td>0.000000</td>\n",
       "      <td>-0.000393</td>\n",
       "      <td>-0.001730</td>\n",
       "      <td>-0.000551</td>\n",
       "    </tr>\n",
       "    <tr>\n",
       "      <th>23</th>\n",
       "      <td>0.057991</td>\n",
       "      <td>0.048470</td>\n",
       "      <td>-0.049102</td>\n",
       "      <td>0.039590</td>\n",
       "      <td>-0.050756</td>\n",
       "      <td>0.009238</td>\n",
       "      <td>0.054406</td>\n",
       "      <td>0.039590</td>\n",
       "      <td>-0.000079</td>\n",
       "      <td>-0.000472</td>\n",
       "      <td>-0.000157</td>\n",
       "      <td>0.000000</td>\n",
       "      <td>-0.000393</td>\n",
       "      <td>-0.000220</td>\n",
       "    </tr>\n",
       "    <tr>\n",
       "      <th>24</th>\n",
       "      <td>-0.029404</td>\n",
       "      <td>0.057991</td>\n",
       "      <td>0.048470</td>\n",
       "      <td>-0.049102</td>\n",
       "      <td>0.039590</td>\n",
       "      <td>0.013509</td>\n",
       "      <td>0.049099</td>\n",
       "      <td>0.039590</td>\n",
       "      <td>0.001181</td>\n",
       "      <td>-0.000079</td>\n",
       "      <td>-0.000472</td>\n",
       "      <td>-0.000157</td>\n",
       "      <td>0.000000</td>\n",
       "      <td>0.000094</td>\n",
       "    </tr>\n",
       "    <tr>\n",
       "      <th>25</th>\n",
       "      <td>0.026502</td>\n",
       "      <td>-0.029404</td>\n",
       "      <td>0.057991</td>\n",
       "      <td>0.048470</td>\n",
       "      <td>-0.049102</td>\n",
       "      <td>0.010891</td>\n",
       "      <td>0.047689</td>\n",
       "      <td>0.026502</td>\n",
       "      <td>-0.000079</td>\n",
       "      <td>0.001181</td>\n",
       "      <td>-0.000079</td>\n",
       "      <td>-0.000472</td>\n",
       "      <td>-0.000157</td>\n",
       "      <td>0.000079</td>\n",
       "    </tr>\n",
       "    <tr>\n",
       "      <th>26</th>\n",
       "      <td>-0.047855</td>\n",
       "      <td>0.026502</td>\n",
       "      <td>-0.029404</td>\n",
       "      <td>0.057991</td>\n",
       "      <td>0.048470</td>\n",
       "      <td>0.011141</td>\n",
       "      <td>0.047299</td>\n",
       "      <td>0.026502</td>\n",
       "      <td>0.000079</td>\n",
       "      <td>-0.000079</td>\n",
       "      <td>0.001181</td>\n",
       "      <td>-0.000079</td>\n",
       "      <td>-0.000472</td>\n",
       "      <td>0.000126</td>\n",
       "    </tr>\n",
       "    <tr>\n",
       "      <th>27</th>\n",
       "      <td>0.067863</td>\n",
       "      <td>-0.047855</td>\n",
       "      <td>0.026502</td>\n",
       "      <td>-0.029404</td>\n",
       "      <td>0.057991</td>\n",
       "      <td>0.015020</td>\n",
       "      <td>0.051714</td>\n",
       "      <td>0.026502</td>\n",
       "      <td>0.000157</td>\n",
       "      <td>0.000079</td>\n",
       "      <td>-0.000079</td>\n",
       "      <td>0.001181</td>\n",
       "      <td>-0.000079</td>\n",
       "      <td>0.000252</td>\n",
       "    </tr>\n",
       "    <tr>\n",
       "      <th>28</th>\n",
       "      <td>-0.009181</td>\n",
       "      <td>0.067863</td>\n",
       "      <td>-0.047855</td>\n",
       "      <td>0.026502</td>\n",
       "      <td>-0.029404</td>\n",
       "      <td>0.001585</td>\n",
       "      <td>0.046190</td>\n",
       "      <td>-0.009181</td>\n",
       "      <td>-0.000393</td>\n",
       "      <td>0.000157</td>\n",
       "      <td>0.000079</td>\n",
       "      <td>-0.000079</td>\n",
       "      <td>0.001181</td>\n",
       "      <td>0.000189</td>\n",
       "    </tr>\n",
       "    <tr>\n",
       "      <th>29</th>\n",
       "      <td>0.029618</td>\n",
       "      <td>-0.009181</td>\n",
       "      <td>0.067863</td>\n",
       "      <td>-0.047855</td>\n",
       "      <td>0.026502</td>\n",
       "      <td>0.013389</td>\n",
       "      <td>0.043769</td>\n",
       "      <td>0.026502</td>\n",
       "      <td>-0.000157</td>\n",
       "      <td>-0.000393</td>\n",
       "      <td>0.000157</td>\n",
       "      <td>0.000079</td>\n",
       "      <td>-0.000079</td>\n",
       "      <td>-0.000079</td>\n",
       "    </tr>\n",
       "    <tr>\n",
       "      <th>30</th>\n",
       "      <td>0.047205</td>\n",
       "      <td>0.029618</td>\n",
       "      <td>-0.009181</td>\n",
       "      <td>0.067863</td>\n",
       "      <td>-0.047855</td>\n",
       "      <td>0.017530</td>\n",
       "      <td>0.046230</td>\n",
       "      <td>0.029618</td>\n",
       "      <td>-0.174841</td>\n",
       "      <td>-0.000157</td>\n",
       "      <td>-0.000393</td>\n",
       "      <td>0.000157</td>\n",
       "      <td>0.000079</td>\n",
       "      <td>-0.035031</td>\n",
       "    </tr>\n",
       "  </tbody>\n",
       "</table>\n",
       "</div>"
      ],
      "text/plain": [
       "          0         1         2         3         4         5         6   \\\n",
       "5  -0.013690 -0.013000  0.034739  0.056611  0.596868  0.132306  0.261484   \n",
       "6   0.010093 -0.013690 -0.013000  0.034739  0.056611  0.014951  0.030628   \n",
       "7  -0.018987  0.010093 -0.013690 -0.013000  0.034739 -0.000169  0.022502   \n",
       "8   0.005931 -0.018987  0.010093 -0.013690 -0.013000 -0.005931  0.013020   \n",
       "9   0.019365  0.005931 -0.018987  0.010093 -0.013690  0.000542  0.016267   \n",
       "10 -0.050680  0.019365  0.005931 -0.018987  0.010093 -0.006856  0.028311   \n",
       "11  0.076288 -0.050680  0.019365  0.005931 -0.018987  0.006383  0.047316   \n",
       "12 -0.033395  0.076288 -0.050680  0.019365  0.005931  0.003502  0.049630   \n",
       "13  0.044243 -0.033395  0.076288 -0.050680  0.019365  0.011164  0.052945   \n",
       "14 -0.090670  0.044243 -0.033395  0.076288 -0.050680 -0.010843  0.069091   \n",
       "15  0.098595 -0.090670  0.044243 -0.033395  0.076288  0.019012  0.079100   \n",
       "16 -0.014266  0.098595 -0.090670  0.044243 -0.033395  0.000902  0.072826   \n",
       "17  0.016929 -0.014266  0.098595 -0.090670  0.044243  0.010966  0.070336   \n",
       "18  0.032946  0.016929 -0.014266  0.098595 -0.090670  0.008707  0.069171   \n",
       "19 -0.050756  0.032946  0.016929 -0.014266  0.098595  0.016690  0.055857   \n",
       "20  0.039590 -0.050756  0.032946  0.016929 -0.014266  0.004889  0.037415   \n",
       "21 -0.049102  0.039590 -0.050756  0.032946  0.016929 -0.002079  0.044455   \n",
       "22  0.048470 -0.049102  0.039590 -0.050756  0.032946  0.004230  0.049749   \n",
       "23  0.057991  0.048470 -0.049102  0.039590 -0.050756  0.009238  0.054406   \n",
       "24 -0.029404  0.057991  0.048470 -0.049102  0.039590  0.013509  0.049099   \n",
       "25  0.026502 -0.029404  0.057991  0.048470 -0.049102  0.010891  0.047689   \n",
       "26 -0.047855  0.026502 -0.029404  0.057991  0.048470  0.011141  0.047299   \n",
       "27  0.067863 -0.047855  0.026502 -0.029404  0.057991  0.015020  0.051714   \n",
       "28 -0.009181  0.067863 -0.047855  0.026502 -0.029404  0.001585  0.046190   \n",
       "29  0.029618 -0.009181  0.067863 -0.047855  0.026502  0.013389  0.043769   \n",
       "30  0.047205  0.029618 -0.009181  0.067863 -0.047855  0.017530  0.046230   \n",
       "\n",
       "          7         8         9         10        11        12        13  \n",
       "5   0.034739  0.002453 -0.000238 -0.001108  0.001029  1.683205  0.337068  \n",
       "6   0.010093  0.002683  0.002453 -0.000238 -0.001108  0.001029  0.000964  \n",
       "7  -0.013000  0.001811  0.002683  0.002453 -0.000238 -0.001108  0.001120  \n",
       "8  -0.013000 -0.001496  0.001811  0.002683  0.002453 -0.000238  0.001043  \n",
       "9   0.005931  0.000551 -0.001496  0.001811  0.002683  0.002453  0.001200  \n",
       "10  0.005931  0.000394  0.000551 -0.001496  0.001811  0.002683  0.000789  \n",
       "11  0.005931  0.000000  0.000394  0.000551 -0.001496  0.001811  0.000252  \n",
       "12  0.005931 -0.019071  0.000000  0.000394  0.000551 -0.001496 -0.003924  \n",
       "13  0.019365  0.019464 -0.019071  0.000000  0.000394  0.000551  0.000268  \n",
       "14 -0.033395 -0.000079  0.019464 -0.019071  0.000000  0.000394  0.000142  \n",
       "15  0.044243 -0.000630 -0.000079  0.019464 -0.019071  0.000000 -0.000063  \n",
       "16 -0.014266  0.000630 -0.000630 -0.000079  0.019464 -0.019071  0.000063  \n",
       "17  0.016929  0.001730  0.000630 -0.000630 -0.000079  0.019464  0.004223  \n",
       "18  0.016929 -0.001730  0.001730  0.000630 -0.000630 -0.000079 -0.000016  \n",
       "19  0.016929 -0.000393 -0.001730  0.001730  0.000630 -0.000630 -0.000079  \n",
       "20  0.016929  0.000000 -0.000393 -0.001730  0.001730  0.000630  0.000047  \n",
       "21  0.016929 -0.000157  0.000000 -0.000393 -0.001730  0.001730 -0.000110  \n",
       "22  0.032946 -0.000472 -0.000157  0.000000 -0.000393 -0.001730 -0.000551  \n",
       "23  0.039590 -0.000079 -0.000472 -0.000157  0.000000 -0.000393 -0.000220  \n",
       "24  0.039590  0.001181 -0.000079 -0.000472 -0.000157  0.000000  0.000094  \n",
       "25  0.026502 -0.000079  0.001181 -0.000079 -0.000472 -0.000157  0.000079  \n",
       "26  0.026502  0.000079 -0.000079  0.001181 -0.000079 -0.000472  0.000126  \n",
       "27  0.026502  0.000157  0.000079 -0.000079  0.001181 -0.000079  0.000252  \n",
       "28 -0.009181 -0.000393  0.000157  0.000079 -0.000079  0.001181  0.000189  \n",
       "29  0.026502 -0.000157 -0.000393  0.000157  0.000079 -0.000079 -0.000079  \n",
       "30  0.029618 -0.174841 -0.000157 -0.000393  0.000157  0.000079 -0.035031  "
      ]
     },
     "execution_count": 59,
     "metadata": {},
     "output_type": "execute_result"
    }
   ],
   "source": [
    "feature_engineered_yields = feature_engineering_pipeline.fit_transform(X_train.copy())\n",
    "feature_engineered_yields"
   ]
  },
  {
   "cell_type": "code",
   "execution_count": 65,
   "metadata": {
    "collapsed": false
   },
   "outputs": [
    {
     "name": "stderr",
     "output_type": "stream",
     "text": [
      "DEBUG:sklearn-pipelines:time_series_imputer (transform): (10, 2)\n",
      "/tmp/ipykernel_15604/3468867238.py:123: FutureWarning: DataFrame.fillna with 'method' is deprecated and will raise in a future version. Use obj.ffill() or obj.bfill() instead.\n",
      "  return X.fillna(method=method, axis=0)\n",
      "DEBUG:sklearn-pipelines:time_series_imputer (transform): (10, 2)\n"
     ]
    },
    {
     "name": "stderr",
     "output_type": "stream",
     "text": [
      "DEBUG:sklearn-pipelines:LogTransformer (transform): (10, 2)\n",
      "DEBUG:sklearn-pipelines:DifferenceTransformer (transform): (9, 2)\n",
      "DEBUG:sklearn-pipelines:time_series_shift (transform): (9, 5)\n",
      "DEBUG:sklearn-pipelines:rolling_average_transformer (transform): (9, 1)\n",
      "DEBUG:sklearn-pipelines:time_series_shift (transform): (9, 1)\n",
      "DEBUG:sklearn-pipelines:rolling_std_transformer (transform): (9, 1)\n",
      "DEBUG:sklearn-pipelines:time_series_shift (transform): (9, 1)\n",
      "DEBUG:sklearn-pipelines:rolling_median_transformer (transform): (9, 1)\n",
      "DEBUG:sklearn-pipelines:time_series_shift (transform): (9, 1)\n",
      "DEBUG:sklearn-pipelines:time_series_shift (transform): (9, 5)\n",
      "DEBUG:sklearn-pipelines:rolling_average_transformer (transform): (9, 1)\n",
      "DEBUG:sklearn-pipelines:time_series_shift (transform): (9, 1)\n",
      "DEBUG:sklearn-pipelines:time_series_imputer (transform): (9, 14)\n",
      "/tmp/ipykernel_15604/3468867238.py:123: FutureWarning: DataFrame.fillna with 'method' is deprecated and will raise in a future version. Use obj.ffill() or obj.bfill() instead.\n",
      "  return X.fillna(method=method, axis=0)\n",
      "DEBUG:sklearn-pipelines:time_series_imputer (transform): (9, 14)\n",
      "DEBUG:sklearn-pipelines:DropRowsTransformer (transform): (4, 14)\n"
     ]
    },
    {
     "data": {
      "text/html": [
       "<div>\n",
       "<style scoped>\n",
       "    .dataframe tbody tr th:only-of-type {\n",
       "        vertical-align: middle;\n",
       "    }\n",
       "\n",
       "    .dataframe tbody tr th {\n",
       "        vertical-align: top;\n",
       "    }\n",
       "\n",
       "    .dataframe thead th {\n",
       "        text-align: right;\n",
       "    }\n",
       "</style>\n",
       "<table border=\"1\" class=\"dataframe\">\n",
       "  <thead>\n",
       "    <tr style=\"text-align: right;\">\n",
       "      <th></th>\n",
       "      <th>0</th>\n",
       "      <th>1</th>\n",
       "      <th>2</th>\n",
       "      <th>3</th>\n",
       "      <th>4</th>\n",
       "      <th>5</th>\n",
       "      <th>6</th>\n",
       "      <th>7</th>\n",
       "      <th>8</th>\n",
       "      <th>9</th>\n",
       "      <th>10</th>\n",
       "      <th>11</th>\n",
       "      <th>12</th>\n",
       "      <th>13</th>\n",
       "    </tr>\n",
       "  </thead>\n",
       "  <tbody>\n",
       "    <tr>\n",
       "      <th>5</th>\n",
       "      <td>-0.013739</td>\n",
       "      <td>0.047205</td>\n",
       "      <td>0.029618</td>\n",
       "      <td>-0.009181</td>\n",
       "      <td>0.067863</td>\n",
       "      <td>0.024353</td>\n",
       "      <td>0.035421</td>\n",
       "      <td>0.029618</td>\n",
       "      <td>0.000000</td>\n",
       "      <td>-0.174841</td>\n",
       "      <td>-0.000157</td>\n",
       "      <td>-0.000393</td>\n",
       "      <td>0.000157</td>\n",
       "      <td>-0.035047</td>\n",
       "    </tr>\n",
       "    <tr>\n",
       "      <th>6</th>\n",
       "      <td>0.039902</td>\n",
       "      <td>-0.013739</td>\n",
       "      <td>0.047205</td>\n",
       "      <td>0.029618</td>\n",
       "      <td>-0.009181</td>\n",
       "      <td>0.018761</td>\n",
       "      <td>0.028332</td>\n",
       "      <td>0.029618</td>\n",
       "      <td>-0.006490</td>\n",
       "      <td>0.000000</td>\n",
       "      <td>-0.174841</td>\n",
       "      <td>-0.000157</td>\n",
       "      <td>-0.000393</td>\n",
       "      <td>-0.036376</td>\n",
       "    </tr>\n",
       "    <tr>\n",
       "      <th>7</th>\n",
       "      <td>-0.009268</td>\n",
       "      <td>0.039902</td>\n",
       "      <td>-0.013739</td>\n",
       "      <td>0.047205</td>\n",
       "      <td>0.029618</td>\n",
       "      <td>0.018744</td>\n",
       "      <td>0.028354</td>\n",
       "      <td>0.029618</td>\n",
       "      <td>0.000000</td>\n",
       "      <td>-0.006490</td>\n",
       "      <td>0.000000</td>\n",
       "      <td>-0.174841</td>\n",
       "      <td>-0.000157</td>\n",
       "      <td>-0.036298</td>\n",
       "    </tr>\n",
       "    <tr>\n",
       "      <th>8</th>\n",
       "      <td>-0.059606</td>\n",
       "      <td>-0.009268</td>\n",
       "      <td>0.039902</td>\n",
       "      <td>-0.013739</td>\n",
       "      <td>0.047205</td>\n",
       "      <td>0.000899</td>\n",
       "      <td>0.043715</td>\n",
       "      <td>-0.009268</td>\n",
       "      <td>-0.099632</td>\n",
       "      <td>0.000000</td>\n",
       "      <td>-0.006490</td>\n",
       "      <td>0.000000</td>\n",
       "      <td>-0.174841</td>\n",
       "      <td>-0.056192</td>\n",
       "    </tr>\n",
       "  </tbody>\n",
       "</table>\n",
       "</div>"
      ],
      "text/plain": [
       "         0         1         2         3         4         5         6   \\\n",
       "5 -0.013739  0.047205  0.029618 -0.009181  0.067863  0.024353  0.035421   \n",
       "6  0.039902 -0.013739  0.047205  0.029618 -0.009181  0.018761  0.028332   \n",
       "7 -0.009268  0.039902 -0.013739  0.047205  0.029618  0.018744  0.028354   \n",
       "8 -0.059606 -0.009268  0.039902 -0.013739  0.047205  0.000899  0.043715   \n",
       "\n",
       "         7         8         9         10        11        12        13  \n",
       "5  0.029618  0.000000 -0.174841 -0.000157 -0.000393  0.000157 -0.035047  \n",
       "6  0.029618 -0.006490  0.000000 -0.174841 -0.000157 -0.000393 -0.036376  \n",
       "7  0.029618  0.000000 -0.006490  0.000000 -0.174841 -0.000157 -0.036298  \n",
       "8 -0.009268 -0.099632  0.000000 -0.006490  0.000000 -0.174841 -0.056192  "
      ]
     },
     "execution_count": 65,
     "metadata": {},
     "output_type": "execute_result"
    }
   ],
   "source": [
    "# Notice we are not using fit_transform() here. We want to use the same parameters as the ones used in the training set.\n",
    "feature_engineering_pipeline.transform(X_test.copy())"
   ]
  },
  {
   "cell_type": "markdown",
   "metadata": {
    "collapsed": false
   },
   "source": [
    "# Modeling"
   ]
  },
  {
   "cell_type": "markdown",
   "metadata": {
    "collapsed": false
   },
   "source": [
    "## Regressor Pipeline"
   ]
  },
  {
   "cell_type": "code",
   "execution_count": 101,
   "metadata": {
    "collapsed": false
   },
   "outputs": [
    {
     "data": {
      "text/html": [
       "<style>#sk-container-id-3 {color: black;}#sk-container-id-3 pre{padding: 0;}#sk-container-id-3 div.sk-toggleable {background-color: white;}#sk-container-id-3 label.sk-toggleable__label {cursor: pointer;display: block;width: 100%;margin-bottom: 0;padding: 0.3em;box-sizing: border-box;text-align: center;}#sk-container-id-3 label.sk-toggleable__label-arrow:before {content: \"▸\";float: left;margin-right: 0.25em;color: #696969;}#sk-container-id-3 label.sk-toggleable__label-arrow:hover:before {color: black;}#sk-container-id-3 div.sk-estimator:hover label.sk-toggleable__label-arrow:before {color: black;}#sk-container-id-3 div.sk-toggleable__content {max-height: 0;max-width: 0;overflow: hidden;text-align: left;background-color: #f0f8ff;}#sk-container-id-3 div.sk-toggleable__content pre {margin: 0.2em;color: black;border-radius: 0.25em;background-color: #f0f8ff;}#sk-container-id-3 input.sk-toggleable__control:checked~div.sk-toggleable__content {max-height: 200px;max-width: 100%;overflow: auto;}#sk-container-id-3 input.sk-toggleable__control:checked~label.sk-toggleable__label-arrow:before {content: \"▾\";}#sk-container-id-3 div.sk-estimator input.sk-toggleable__control:checked~label.sk-toggleable__label {background-color: #d4ebff;}#sk-container-id-3 div.sk-label input.sk-toggleable__control:checked~label.sk-toggleable__label {background-color: #d4ebff;}#sk-container-id-3 input.sk-hidden--visually {border: 0;clip: rect(1px 1px 1px 1px);clip: rect(1px, 1px, 1px, 1px);height: 1px;margin: -1px;overflow: hidden;padding: 0;position: absolute;width: 1px;}#sk-container-id-3 div.sk-estimator {font-family: monospace;background-color: #f0f8ff;border: 1px dotted black;border-radius: 0.25em;box-sizing: border-box;margin-bottom: 0.5em;}#sk-container-id-3 div.sk-estimator:hover {background-color: #d4ebff;}#sk-container-id-3 div.sk-parallel-item::after {content: \"\";width: 100%;border-bottom: 1px solid gray;flex-grow: 1;}#sk-container-id-3 div.sk-label:hover label.sk-toggleable__label {background-color: #d4ebff;}#sk-container-id-3 div.sk-serial::before {content: \"\";position: absolute;border-left: 1px solid gray;box-sizing: border-box;top: 0;bottom: 0;left: 50%;z-index: 0;}#sk-container-id-3 div.sk-serial {display: flex;flex-direction: column;align-items: center;background-color: white;padding-right: 0.2em;padding-left: 0.2em;position: relative;}#sk-container-id-3 div.sk-item {position: relative;z-index: 1;}#sk-container-id-3 div.sk-parallel {display: flex;align-items: stretch;justify-content: center;background-color: white;position: relative;}#sk-container-id-3 div.sk-item::before, #sk-container-id-3 div.sk-parallel-item::before {content: \"\";position: absolute;border-left: 1px solid gray;box-sizing: border-box;top: 0;bottom: 0;left: 50%;z-index: -1;}#sk-container-id-3 div.sk-parallel-item {display: flex;flex-direction: column;z-index: 1;position: relative;background-color: white;}#sk-container-id-3 div.sk-parallel-item:first-child::after {align-self: flex-end;width: 50%;}#sk-container-id-3 div.sk-parallel-item:last-child::after {align-self: flex-start;width: 50%;}#sk-container-id-3 div.sk-parallel-item:only-child::after {width: 0;}#sk-container-id-3 div.sk-dashed-wrapped {border: 1px dashed gray;margin: 0 0.4em 0.5em 0.4em;box-sizing: border-box;padding-bottom: 0.4em;background-color: white;}#sk-container-id-3 div.sk-label label {font-family: monospace;font-weight: bold;display: inline-block;line-height: 1.2em;}#sk-container-id-3 div.sk-label-container {text-align: center;}#sk-container-id-3 div.sk-container {/* jupyter's `normalize.less` sets `[hidden] { display: none; }` but bootstrap.min.css set `[hidden] { display: none !important; }` so we also need the `!important` here to be able to override the default hidden behavior on the sphinx rendered scikit-learn.org. See: https://github.com/scikit-learn/scikit-learn/issues/21755 */display: inline-block !important;position: relative;}#sk-container-id-3 div.sk-text-repr-fallback {display: none;}</style><div id=\"sk-container-id-3\" class=\"sk-top-container\"><div class=\"sk-text-repr-fallback\"><pre>Pipeline(memory=&#x27;cache&#x27;,\n",
       "         steps=[(&#x27;pipeline&#x27;,\n",
       "                 Pipeline(memory=&#x27;cache&#x27;,\n",
       "                          steps=[(&#x27;pipeline&#x27;,\n",
       "                                  Pipeline(memory=&#x27;cache&#x27;,\n",
       "                                           steps=[(&#x27;functiontransformer-1&#x27;,\n",
       "                                                   FunctionTransformer(func=functools.partial(&lt;function time_series_imputer at 0x7fa2fb7c8220&gt;, method=&#x27;bfill&#x27;))),\n",
       "                                                  (&#x27;functiontransformer-2&#x27;,\n",
       "                                                   FunctionTransformer(func=functools.partial(&lt;function time_series_imputer at 0x7...\n",
       "                                  FunctionTransformer(func=functools.partial(&lt;function time_series_imputer at 0x7fa2fb7c8220&gt;, method=&#x27;bfill&#x27;))),\n",
       "                                 (&#x27;functiontransformer-2&#x27;,\n",
       "                                  FunctionTransformer(func=functools.partial(&lt;function time_series_imputer at 0x7fa2fb7c8220&gt;, method=&#x27;ffill&#x27;))),\n",
       "                                 (&#x27;droprowstransformer&#x27;,\n",
       "                                  DropRowsTransformer(num_rows=5))],\n",
       "                          verbose=True)),\n",
       "                (&#x27;minmaxscaler&#x27;, MinMaxScaler()),\n",
       "                (&#x27;randomforestregressor&#x27;, RandomForestRegressor())],\n",
       "         verbose=True)</pre><b>In a Jupyter environment, please rerun this cell to show the HTML representation or trust the notebook. <br />On GitHub, the HTML representation is unable to render, please try loading this page with nbviewer.org.</b></div><div class=\"sk-container\" hidden><div class=\"sk-item sk-dashed-wrapped\"><div class=\"sk-label-container\"><div class=\"sk-label sk-toggleable\"><input class=\"sk-toggleable__control sk-hidden--visually\" id=\"sk-estimator-id-28\" type=\"checkbox\" ><label for=\"sk-estimator-id-28\" class=\"sk-toggleable__label sk-toggleable__label-arrow\">Pipeline</label><div class=\"sk-toggleable__content\"><pre>Pipeline(memory=&#x27;cache&#x27;,\n",
       "         steps=[(&#x27;pipeline&#x27;,\n",
       "                 Pipeline(memory=&#x27;cache&#x27;,\n",
       "                          steps=[(&#x27;pipeline&#x27;,\n",
       "                                  Pipeline(memory=&#x27;cache&#x27;,\n",
       "                                           steps=[(&#x27;functiontransformer-1&#x27;,\n",
       "                                                   FunctionTransformer(func=functools.partial(&lt;function time_series_imputer at 0x7fa2fb7c8220&gt;, method=&#x27;bfill&#x27;))),\n",
       "                                                  (&#x27;functiontransformer-2&#x27;,\n",
       "                                                   FunctionTransformer(func=functools.partial(&lt;function time_series_imputer at 0x7...\n",
       "                                  FunctionTransformer(func=functools.partial(&lt;function time_series_imputer at 0x7fa2fb7c8220&gt;, method=&#x27;bfill&#x27;))),\n",
       "                                 (&#x27;functiontransformer-2&#x27;,\n",
       "                                  FunctionTransformer(func=functools.partial(&lt;function time_series_imputer at 0x7fa2fb7c8220&gt;, method=&#x27;ffill&#x27;))),\n",
       "                                 (&#x27;droprowstransformer&#x27;,\n",
       "                                  DropRowsTransformer(num_rows=5))],\n",
       "                          verbose=True)),\n",
       "                (&#x27;minmaxscaler&#x27;, MinMaxScaler()),\n",
       "                (&#x27;randomforestregressor&#x27;, RandomForestRegressor())],\n",
       "         verbose=True)</pre></div></div></div><div class=\"sk-serial\"><div class=\"sk-item\"><div class=\"sk-label-container\"><div class=\"sk-label sk-toggleable\"><input class=\"sk-toggleable__control sk-hidden--visually\" id=\"sk-estimator-id-29\" type=\"checkbox\" ><label for=\"sk-estimator-id-29\" class=\"sk-toggleable__label sk-toggleable__label-arrow\">pipeline: Pipeline</label><div class=\"sk-toggleable__content\"><pre>Pipeline(memory=&#x27;cache&#x27;,\n",
       "         steps=[(&#x27;pipeline&#x27;,\n",
       "                 Pipeline(memory=&#x27;cache&#x27;,\n",
       "                          steps=[(&#x27;functiontransformer-1&#x27;,\n",
       "                                  FunctionTransformer(func=functools.partial(&lt;function time_series_imputer at 0x7fa2fb7c8220&gt;, method=&#x27;bfill&#x27;))),\n",
       "                                 (&#x27;functiontransformer-2&#x27;,\n",
       "                                  FunctionTransformer(func=functools.partial(&lt;function time_series_imputer at 0x7fa2fb7c8220&gt;, method=&#x27;ffill&#x27;))),\n",
       "                                 (&#x27;logtransfo...\n",
       "                                                  [&#x27;locations&#x27;])])),\n",
       "                (&#x27;functiontransformer-1&#x27;,\n",
       "                 FunctionTransformer(func=functools.partial(&lt;function time_series_imputer at 0x7fa2fb7c8220&gt;, method=&#x27;bfill&#x27;))),\n",
       "                (&#x27;functiontransformer-2&#x27;,\n",
       "                 FunctionTransformer(func=functools.partial(&lt;function time_series_imputer at 0x7fa2fb7c8220&gt;, method=&#x27;ffill&#x27;))),\n",
       "                (&#x27;droprowstransformer&#x27;, DropRowsTransformer(num_rows=5))],\n",
       "         verbose=True)</pre></div></div></div><div class=\"sk-serial\"><div class=\"sk-item\"><div class=\"sk-label-container\"><div class=\"sk-label sk-toggleable\"><input class=\"sk-toggleable__control sk-hidden--visually\" id=\"sk-estimator-id-30\" type=\"checkbox\" ><label for=\"sk-estimator-id-30\" class=\"sk-toggleable__label sk-toggleable__label-arrow\">pipeline: Pipeline</label><div class=\"sk-toggleable__content\"><pre>Pipeline(memory=&#x27;cache&#x27;,\n",
       "         steps=[(&#x27;functiontransformer-1&#x27;,\n",
       "                 FunctionTransformer(func=functools.partial(&lt;function time_series_imputer at 0x7fa2fb7c8220&gt;, method=&#x27;bfill&#x27;))),\n",
       "                (&#x27;functiontransformer-2&#x27;,\n",
       "                 FunctionTransformer(func=functools.partial(&lt;function time_series_imputer at 0x7fa2fb7c8220&gt;, method=&#x27;ffill&#x27;))),\n",
       "                (&#x27;logtransformer&#x27;, LogTransformer()),\n",
       "                (&#x27;differencetransformer&#x27;,\n",
       "                 DifferenceTransformer(num_observed_points=5))],\n",
       "         verbose=True)</pre></div></div></div><div class=\"sk-serial\"><div class=\"sk-item\"><div class=\"sk-estimator sk-toggleable\"><input class=\"sk-toggleable__control sk-hidden--visually\" id=\"sk-estimator-id-31\" type=\"checkbox\" ><label for=\"sk-estimator-id-31\" class=\"sk-toggleable__label sk-toggleable__label-arrow\">FunctionTransformer</label><div class=\"sk-toggleable__content\"><pre>FunctionTransformer(func=functools.partial(&lt;function time_series_imputer at 0x7fa2fb7c8220&gt;, method=&#x27;bfill&#x27;))</pre></div></div></div><div class=\"sk-item\"><div class=\"sk-estimator sk-toggleable\"><input class=\"sk-toggleable__control sk-hidden--visually\" id=\"sk-estimator-id-32\" type=\"checkbox\" ><label for=\"sk-estimator-id-32\" class=\"sk-toggleable__label sk-toggleable__label-arrow\">FunctionTransformer</label><div class=\"sk-toggleable__content\"><pre>FunctionTransformer(func=functools.partial(&lt;function time_series_imputer at 0x7fa2fb7c8220&gt;, method=&#x27;ffill&#x27;))</pre></div></div></div><div class=\"sk-item\"><div class=\"sk-estimator sk-toggleable\"><input class=\"sk-toggleable__control sk-hidden--visually\" id=\"sk-estimator-id-33\" type=\"checkbox\" ><label for=\"sk-estimator-id-33\" class=\"sk-toggleable__label sk-toggleable__label-arrow\">LogTransformer</label><div class=\"sk-toggleable__content\"><pre>LogTransformer()</pre></div></div></div><div class=\"sk-item\"><div class=\"sk-estimator sk-toggleable\"><input class=\"sk-toggleable__control sk-hidden--visually\" id=\"sk-estimator-id-34\" type=\"checkbox\" ><label for=\"sk-estimator-id-34\" class=\"sk-toggleable__label sk-toggleable__label-arrow\">DifferenceTransformer</label><div class=\"sk-toggleable__content\"><pre>DifferenceTransformer(num_observed_points=5)</pre></div></div></div></div></div><div class=\"sk-item sk-dashed-wrapped\"><div class=\"sk-label-container\"><div class=\"sk-label sk-toggleable\"><input class=\"sk-toggleable__control sk-hidden--visually\" id=\"sk-estimator-id-35\" type=\"checkbox\" ><label for=\"sk-estimator-id-35\" class=\"sk-toggleable__label sk-toggleable__label-arrow\">columntransformer: ColumnTransformer</label><div class=\"sk-toggleable__content\"><pre>ColumnTransformer(transformers=[(&#x27;featureunion-1&#x27;,\n",
       "                                 FeatureUnion(transformer_list=[(&#x27;functiontransformer&#x27;,\n",
       "                                                                 FunctionTransformer(func=functools.partial(&lt;function time_series_shift at 0x7fa271ed56c0&gt;, n_past=5))),\n",
       "                                                                (&#x27;pipeline-1&#x27;,\n",
       "                                                                 Pipeline(steps=[(&#x27;functiontransformer-1&#x27;,\n",
       "                                                                                  FunctionTransformer(func=functools.partial(&lt;function rolling_average_transformer at 0x7fa271ed5...\n",
       "                                                                 FunctionTransformer(func=functools.partial(&lt;function time_series_shift at 0x7fa271ed56c0&gt;, n_past=5))),\n",
       "                                                                (&#x27;pipeline&#x27;,\n",
       "                                                                 Pipeline(steps=[(&#x27;functiontransformer-1&#x27;,\n",
       "                                                                                  FunctionTransformer(func=functools.partial(&lt;function rolling_average_transformer at 0x7fa271ed54e0&gt;, window=5))),\n",
       "                                                                                 (&#x27;functiontransformer-2&#x27;,\n",
       "                                                                                  FunctionTransformer(func=functools.partial(&lt;function time_series_shift at 0x7fa271ed56c0&gt;, n_past=1)))]))]),\n",
       "                                 [&#x27;locations&#x27;])])</pre></div></div></div><div class=\"sk-parallel\"><div class=\"sk-parallel-item\"><div class=\"sk-item\"><div class=\"sk-label-container\"><div class=\"sk-label sk-toggleable\"><input class=\"sk-toggleable__control sk-hidden--visually\" id=\"sk-estimator-id-36\" type=\"checkbox\" ><label for=\"sk-estimator-id-36\" class=\"sk-toggleable__label sk-toggleable__label-arrow\">featureunion-1</label><div class=\"sk-toggleable__content\"><pre>[&#x27;mean_yield&#x27;]</pre></div></div></div><div class=\"sk-serial\"><div class=\"sk-item sk-dashed-wrapped\"><div class=\"sk-parallel\"><div class=\"sk-parallel-item\"><div class=\"sk-item\"><div class=\"sk-label-container\"><div class=\"sk-label sk-toggleable\"><label>functiontransformer</label></div></div><div class=\"sk-serial\"><div class=\"sk-item\"><div class=\"sk-estimator sk-toggleable\"><input class=\"sk-toggleable__control sk-hidden--visually\" id=\"sk-estimator-id-37\" type=\"checkbox\" ><label for=\"sk-estimator-id-37\" class=\"sk-toggleable__label sk-toggleable__label-arrow\">FunctionTransformer</label><div class=\"sk-toggleable__content\"><pre>FunctionTransformer(func=functools.partial(&lt;function time_series_shift at 0x7fa271ed56c0&gt;, n_past=5))</pre></div></div></div></div></div></div><div class=\"sk-parallel-item\"><div class=\"sk-item\"><div class=\"sk-label-container\"><div class=\"sk-label sk-toggleable\"><label>pipeline-1</label></div></div><div class=\"sk-serial\"><div class=\"sk-item\"><div class=\"sk-serial\"><div class=\"sk-item\"><div class=\"sk-estimator sk-toggleable\"><input class=\"sk-toggleable__control sk-hidden--visually\" id=\"sk-estimator-id-38\" type=\"checkbox\" ><label for=\"sk-estimator-id-38\" class=\"sk-toggleable__label sk-toggleable__label-arrow\">FunctionTransformer</label><div class=\"sk-toggleable__content\"><pre>FunctionTransformer(func=functools.partial(&lt;function rolling_average_transformer at 0x7fa271ed54e0&gt;, window=5))</pre></div></div></div><div class=\"sk-item\"><div class=\"sk-estimator sk-toggleable\"><input class=\"sk-toggleable__control sk-hidden--visually\" id=\"sk-estimator-id-39\" type=\"checkbox\" ><label for=\"sk-estimator-id-39\" class=\"sk-toggleable__label sk-toggleable__label-arrow\">FunctionTransformer</label><div class=\"sk-toggleable__content\"><pre>FunctionTransformer(func=functools.partial(&lt;function time_series_shift at 0x7fa271ed56c0&gt;, n_past=1))</pre></div></div></div></div></div></div></div></div><div class=\"sk-parallel-item\"><div class=\"sk-item\"><div class=\"sk-label-container\"><div class=\"sk-label sk-toggleable\"><label>pipeline-2</label></div></div><div class=\"sk-serial\"><div class=\"sk-item\"><div class=\"sk-serial\"><div class=\"sk-item\"><div class=\"sk-estimator sk-toggleable\"><input class=\"sk-toggleable__control sk-hidden--visually\" id=\"sk-estimator-id-40\" type=\"checkbox\" ><label for=\"sk-estimator-id-40\" class=\"sk-toggleable__label sk-toggleable__label-arrow\">FunctionTransformer</label><div class=\"sk-toggleable__content\"><pre>FunctionTransformer(func=functools.partial(&lt;function rolling_std_transformer at 0x7fa271ed5940&gt;, window=5))</pre></div></div></div><div class=\"sk-item\"><div class=\"sk-estimator sk-toggleable\"><input class=\"sk-toggleable__control sk-hidden--visually\" id=\"sk-estimator-id-41\" type=\"checkbox\" ><label for=\"sk-estimator-id-41\" class=\"sk-toggleable__label sk-toggleable__label-arrow\">FunctionTransformer</label><div class=\"sk-toggleable__content\"><pre>FunctionTransformer(func=functools.partial(&lt;function time_series_shift at 0x7fa271ed56c0&gt;, n_past=1))</pre></div></div></div></div></div></div></div></div><div class=\"sk-parallel-item\"><div class=\"sk-item\"><div class=\"sk-label-container\"><div class=\"sk-label sk-toggleable\"><label>pipeline-3</label></div></div><div class=\"sk-serial\"><div class=\"sk-item\"><div class=\"sk-serial\"><div class=\"sk-item\"><div class=\"sk-estimator sk-toggleable\"><input class=\"sk-toggleable__control sk-hidden--visually\" id=\"sk-estimator-id-42\" type=\"checkbox\" ><label for=\"sk-estimator-id-42\" class=\"sk-toggleable__label sk-toggleable__label-arrow\">FunctionTransformer</label><div class=\"sk-toggleable__content\"><pre>FunctionTransformer(func=functools.partial(&lt;function rolling_median_transformer at 0x7fa271ed5800&gt;, window=5))</pre></div></div></div><div class=\"sk-item\"><div class=\"sk-estimator sk-toggleable\"><input class=\"sk-toggleable__control sk-hidden--visually\" id=\"sk-estimator-id-43\" type=\"checkbox\" ><label for=\"sk-estimator-id-43\" class=\"sk-toggleable__label sk-toggleable__label-arrow\">FunctionTransformer</label><div class=\"sk-toggleable__content\"><pre>FunctionTransformer(func=functools.partial(&lt;function time_series_shift at 0x7fa271ed56c0&gt;, n_past=1))</pre></div></div></div></div></div></div></div></div></div></div></div></div></div><div class=\"sk-parallel-item\"><div class=\"sk-item\"><div class=\"sk-label-container\"><div class=\"sk-label sk-toggleable\"><input class=\"sk-toggleable__control sk-hidden--visually\" id=\"sk-estimator-id-44\" type=\"checkbox\" ><label for=\"sk-estimator-id-44\" class=\"sk-toggleable__label sk-toggleable__label-arrow\">featureunion-2</label><div class=\"sk-toggleable__content\"><pre>[&#x27;locations&#x27;]</pre></div></div></div><div class=\"sk-serial\"><div class=\"sk-item sk-dashed-wrapped\"><div class=\"sk-parallel\"><div class=\"sk-parallel-item\"><div class=\"sk-item\"><div class=\"sk-label-container\"><div class=\"sk-label sk-toggleable\"><label>functiontransformer</label></div></div><div class=\"sk-serial\"><div class=\"sk-item\"><div class=\"sk-estimator sk-toggleable\"><input class=\"sk-toggleable__control sk-hidden--visually\" id=\"sk-estimator-id-45\" type=\"checkbox\" ><label for=\"sk-estimator-id-45\" class=\"sk-toggleable__label sk-toggleable__label-arrow\">FunctionTransformer</label><div class=\"sk-toggleable__content\"><pre>FunctionTransformer(func=functools.partial(&lt;function time_series_shift at 0x7fa271ed56c0&gt;, n_past=5))</pre></div></div></div></div></div></div><div class=\"sk-parallel-item\"><div class=\"sk-item\"><div class=\"sk-label-container\"><div class=\"sk-label sk-toggleable\"><label>pipeline</label></div></div><div class=\"sk-serial\"><div class=\"sk-item\"><div class=\"sk-serial\"><div class=\"sk-item\"><div class=\"sk-estimator sk-toggleable\"><input class=\"sk-toggleable__control sk-hidden--visually\" id=\"sk-estimator-id-46\" type=\"checkbox\" ><label for=\"sk-estimator-id-46\" class=\"sk-toggleable__label sk-toggleable__label-arrow\">FunctionTransformer</label><div class=\"sk-toggleable__content\"><pre>FunctionTransformer(func=functools.partial(&lt;function rolling_average_transformer at 0x7fa271ed54e0&gt;, window=5))</pre></div></div></div><div class=\"sk-item\"><div class=\"sk-estimator sk-toggleable\"><input class=\"sk-toggleable__control sk-hidden--visually\" id=\"sk-estimator-id-47\" type=\"checkbox\" ><label for=\"sk-estimator-id-47\" class=\"sk-toggleable__label sk-toggleable__label-arrow\">FunctionTransformer</label><div class=\"sk-toggleable__content\"><pre>FunctionTransformer(func=functools.partial(&lt;function time_series_shift at 0x7fa271ed56c0&gt;, n_past=1))</pre></div></div></div></div></div></div></div></div></div></div></div></div></div></div></div><div class=\"sk-item\"><div class=\"sk-estimator sk-toggleable\"><input class=\"sk-toggleable__control sk-hidden--visually\" id=\"sk-estimator-id-48\" type=\"checkbox\" ><label for=\"sk-estimator-id-48\" class=\"sk-toggleable__label sk-toggleable__label-arrow\">FunctionTransformer</label><div class=\"sk-toggleable__content\"><pre>FunctionTransformer(func=functools.partial(&lt;function time_series_imputer at 0x7fa2fb7c8220&gt;, method=&#x27;bfill&#x27;))</pre></div></div></div><div class=\"sk-item\"><div class=\"sk-estimator sk-toggleable\"><input class=\"sk-toggleable__control sk-hidden--visually\" id=\"sk-estimator-id-49\" type=\"checkbox\" ><label for=\"sk-estimator-id-49\" class=\"sk-toggleable__label sk-toggleable__label-arrow\">FunctionTransformer</label><div class=\"sk-toggleable__content\"><pre>FunctionTransformer(func=functools.partial(&lt;function time_series_imputer at 0x7fa2fb7c8220&gt;, method=&#x27;ffill&#x27;))</pre></div></div></div><div class=\"sk-item\"><div class=\"sk-estimator sk-toggleable\"><input class=\"sk-toggleable__control sk-hidden--visually\" id=\"sk-estimator-id-50\" type=\"checkbox\" ><label for=\"sk-estimator-id-50\" class=\"sk-toggleable__label sk-toggleable__label-arrow\">DropRowsTransformer</label><div class=\"sk-toggleable__content\"><pre>DropRowsTransformer(num_rows=5)</pre></div></div></div></div></div><div class=\"sk-item\"><div class=\"sk-estimator sk-toggleable\"><input class=\"sk-toggleable__control sk-hidden--visually\" id=\"sk-estimator-id-51\" type=\"checkbox\" ><label for=\"sk-estimator-id-51\" class=\"sk-toggleable__label sk-toggleable__label-arrow\">MinMaxScaler</label><div class=\"sk-toggleable__content\"><pre>MinMaxScaler()</pre></div></div></div><div class=\"sk-item\"><div class=\"sk-estimator sk-toggleable\"><input class=\"sk-toggleable__control sk-hidden--visually\" id=\"sk-estimator-id-52\" type=\"checkbox\" ><label for=\"sk-estimator-id-52\" class=\"sk-toggleable__label sk-toggleable__label-arrow\">RandomForestRegressor</label><div class=\"sk-toggleable__content\"><pre>RandomForestRegressor()</pre></div></div></div></div></div></div></div>"
      ],
      "text/plain": [
       "Pipeline(memory='cache',\n",
       "         steps=[('pipeline',\n",
       "                 Pipeline(memory='cache',\n",
       "                          steps=[('pipeline',\n",
       "                                  Pipeline(memory='cache',\n",
       "                                           steps=[('functiontransformer-1',\n",
       "                                                   FunctionTransformer(func=functools.partial(<function time_series_imputer at 0x7fa2fb7c8220>, method='bfill'))),\n",
       "                                                  ('functiontransformer-2',\n",
       "                                                   FunctionTransformer(func=functools.partial(<function time_series_imputer at 0x7...\n",
       "                                  FunctionTransformer(func=functools.partial(<function time_series_imputer at 0x7fa2fb7c8220>, method='bfill'))),\n",
       "                                 ('functiontransformer-2',\n",
       "                                  FunctionTransformer(func=functools.partial(<function time_series_imputer at 0x7fa2fb7c8220>, method='ffill'))),\n",
       "                                 ('droprowstransformer',\n",
       "                                  DropRowsTransformer(num_rows=5))],\n",
       "                          verbose=True)),\n",
       "                ('minmaxscaler', MinMaxScaler()),\n",
       "                ('randomforestregressor', RandomForestRegressor())],\n",
       "         verbose=True)"
      ]
     },
     "execution_count": 101,
     "metadata": {},
     "output_type": "execute_result"
    }
   ],
   "source": [
    "def build_regressor_pipeline() -> Pipeline:\n",
    "    \"\"\"\n",
    "    Factory function used to build the final regressor.\n",
    "\n",
    "    One key thing is that the model (e.g., RandomForestRegressor) should always be the last unit within the pipeline.\n",
    "\n",
    "    Otherwise, you can compose the transformations how you wish.\n",
    "    \"\"\"\n",
    "\n",
    "    return make_pipeline(\n",
    "        build_feature_engineering_pipeline(),\n",
    "        MinMaxScaler(),\n",
    "        RandomForestRegressor(n_estimators=100),\n",
    "        memory=\"cache\",\n",
    "        verbose=True\n",
    "    )\n",
    "\n",
    "training_pipeline = build_regressor_pipeline()\n",
    "training_pipeline"
   ]
  },
  {
   "cell_type": "markdown",
   "metadata": {
    "collapsed": false
   },
   "source": [
    "## Target Pipeline"
   ]
  },
  {
   "cell_type": "code",
   "execution_count": 102,
   "metadata": {
    "collapsed": false
   },
   "outputs": [
    {
     "data": {
      "text/html": [
       "<style>#sk-container-id-4 {color: black;}#sk-container-id-4 pre{padding: 0;}#sk-container-id-4 div.sk-toggleable {background-color: white;}#sk-container-id-4 label.sk-toggleable__label {cursor: pointer;display: block;width: 100%;margin-bottom: 0;padding: 0.3em;box-sizing: border-box;text-align: center;}#sk-container-id-4 label.sk-toggleable__label-arrow:before {content: \"▸\";float: left;margin-right: 0.25em;color: #696969;}#sk-container-id-4 label.sk-toggleable__label-arrow:hover:before {color: black;}#sk-container-id-4 div.sk-estimator:hover label.sk-toggleable__label-arrow:before {color: black;}#sk-container-id-4 div.sk-toggleable__content {max-height: 0;max-width: 0;overflow: hidden;text-align: left;background-color: #f0f8ff;}#sk-container-id-4 div.sk-toggleable__content pre {margin: 0.2em;color: black;border-radius: 0.25em;background-color: #f0f8ff;}#sk-container-id-4 input.sk-toggleable__control:checked~div.sk-toggleable__content {max-height: 200px;max-width: 100%;overflow: auto;}#sk-container-id-4 input.sk-toggleable__control:checked~label.sk-toggleable__label-arrow:before {content: \"▾\";}#sk-container-id-4 div.sk-estimator input.sk-toggleable__control:checked~label.sk-toggleable__label {background-color: #d4ebff;}#sk-container-id-4 div.sk-label input.sk-toggleable__control:checked~label.sk-toggleable__label {background-color: #d4ebff;}#sk-container-id-4 input.sk-hidden--visually {border: 0;clip: rect(1px 1px 1px 1px);clip: rect(1px, 1px, 1px, 1px);height: 1px;margin: -1px;overflow: hidden;padding: 0;position: absolute;width: 1px;}#sk-container-id-4 div.sk-estimator {font-family: monospace;background-color: #f0f8ff;border: 1px dotted black;border-radius: 0.25em;box-sizing: border-box;margin-bottom: 0.5em;}#sk-container-id-4 div.sk-estimator:hover {background-color: #d4ebff;}#sk-container-id-4 div.sk-parallel-item::after {content: \"\";width: 100%;border-bottom: 1px solid gray;flex-grow: 1;}#sk-container-id-4 div.sk-label:hover label.sk-toggleable__label {background-color: #d4ebff;}#sk-container-id-4 div.sk-serial::before {content: \"\";position: absolute;border-left: 1px solid gray;box-sizing: border-box;top: 0;bottom: 0;left: 50%;z-index: 0;}#sk-container-id-4 div.sk-serial {display: flex;flex-direction: column;align-items: center;background-color: white;padding-right: 0.2em;padding-left: 0.2em;position: relative;}#sk-container-id-4 div.sk-item {position: relative;z-index: 1;}#sk-container-id-4 div.sk-parallel {display: flex;align-items: stretch;justify-content: center;background-color: white;position: relative;}#sk-container-id-4 div.sk-item::before, #sk-container-id-4 div.sk-parallel-item::before {content: \"\";position: absolute;border-left: 1px solid gray;box-sizing: border-box;top: 0;bottom: 0;left: 50%;z-index: -1;}#sk-container-id-4 div.sk-parallel-item {display: flex;flex-direction: column;z-index: 1;position: relative;background-color: white;}#sk-container-id-4 div.sk-parallel-item:first-child::after {align-self: flex-end;width: 50%;}#sk-container-id-4 div.sk-parallel-item:last-child::after {align-self: flex-start;width: 50%;}#sk-container-id-4 div.sk-parallel-item:only-child::after {width: 0;}#sk-container-id-4 div.sk-dashed-wrapped {border: 1px dashed gray;margin: 0 0.4em 0.5em 0.4em;box-sizing: border-box;padding-bottom: 0.4em;background-color: white;}#sk-container-id-4 div.sk-label label {font-family: monospace;font-weight: bold;display: inline-block;line-height: 1.2em;}#sk-container-id-4 div.sk-label-container {text-align: center;}#sk-container-id-4 div.sk-container {/* jupyter's `normalize.less` sets `[hidden] { display: none; }` but bootstrap.min.css set `[hidden] { display: none !important; }` so we also need the `!important` here to be able to override the default hidden behavior on the sphinx rendered scikit-learn.org. See: https://github.com/scikit-learn/scikit-learn/issues/21755 */display: inline-block !important;position: relative;}#sk-container-id-4 div.sk-text-repr-fallback {display: none;}</style><div id=\"sk-container-id-4\" class=\"sk-top-container\"><div class=\"sk-text-repr-fallback\"><pre>Pipeline(memory=&#x27;cache&#x27;,\n",
       "         steps=[(&#x27;pipeline&#x27;,\n",
       "                 Pipeline(memory=&#x27;cache&#x27;,\n",
       "                          steps=[(&#x27;functiontransformer-1&#x27;,\n",
       "                                  FunctionTransformer(func=functools.partial(&lt;function time_series_imputer at 0x7fa2fb7c8220&gt;, method=&#x27;bfill&#x27;))),\n",
       "                                 (&#x27;functiontransformer-2&#x27;,\n",
       "                                  FunctionTransformer(func=functools.partial(&lt;function time_series_imputer at 0x7fa2fb7c8220&gt;, method=&#x27;ffill&#x27;))),\n",
       "                                 (&#x27;logtransformer&#x27;, LogTransformer()),\n",
       "                                 (&#x27;differencetransformer&#x27;,\n",
       "                                  DifferenceTransformer(num_observed_points=0))],\n",
       "                          verbose=True))],\n",
       "         verbose=True)</pre><b>In a Jupyter environment, please rerun this cell to show the HTML representation or trust the notebook. <br />On GitHub, the HTML representation is unable to render, please try loading this page with nbviewer.org.</b></div><div class=\"sk-container\" hidden><div class=\"sk-item sk-dashed-wrapped\"><div class=\"sk-label-container\"><div class=\"sk-label sk-toggleable\"><input class=\"sk-toggleable__control sk-hidden--visually\" id=\"sk-estimator-id-53\" type=\"checkbox\" ><label for=\"sk-estimator-id-53\" class=\"sk-toggleable__label sk-toggleable__label-arrow\">Pipeline</label><div class=\"sk-toggleable__content\"><pre>Pipeline(memory=&#x27;cache&#x27;,\n",
       "         steps=[(&#x27;pipeline&#x27;,\n",
       "                 Pipeline(memory=&#x27;cache&#x27;,\n",
       "                          steps=[(&#x27;functiontransformer-1&#x27;,\n",
       "                                  FunctionTransformer(func=functools.partial(&lt;function time_series_imputer at 0x7fa2fb7c8220&gt;, method=&#x27;bfill&#x27;))),\n",
       "                                 (&#x27;functiontransformer-2&#x27;,\n",
       "                                  FunctionTransformer(func=functools.partial(&lt;function time_series_imputer at 0x7fa2fb7c8220&gt;, method=&#x27;ffill&#x27;))),\n",
       "                                 (&#x27;logtransformer&#x27;, LogTransformer()),\n",
       "                                 (&#x27;differencetransformer&#x27;,\n",
       "                                  DifferenceTransformer(num_observed_points=0))],\n",
       "                          verbose=True))],\n",
       "         verbose=True)</pre></div></div></div><div class=\"sk-serial\"><div class=\"sk-item\"><div class=\"sk-label-container\"><div class=\"sk-label sk-toggleable\"><input class=\"sk-toggleable__control sk-hidden--visually\" id=\"sk-estimator-id-54\" type=\"checkbox\" ><label for=\"sk-estimator-id-54\" class=\"sk-toggleable__label sk-toggleable__label-arrow\">pipeline: Pipeline</label><div class=\"sk-toggleable__content\"><pre>Pipeline(memory=&#x27;cache&#x27;,\n",
       "         steps=[(&#x27;functiontransformer-1&#x27;,\n",
       "                 FunctionTransformer(func=functools.partial(&lt;function time_series_imputer at 0x7fa2fb7c8220&gt;, method=&#x27;bfill&#x27;))),\n",
       "                (&#x27;functiontransformer-2&#x27;,\n",
       "                 FunctionTransformer(func=functools.partial(&lt;function time_series_imputer at 0x7fa2fb7c8220&gt;, method=&#x27;ffill&#x27;))),\n",
       "                (&#x27;logtransformer&#x27;, LogTransformer()),\n",
       "                (&#x27;differencetransformer&#x27;,\n",
       "                 DifferenceTransformer(num_observed_points=0))],\n",
       "         verbose=True)</pre></div></div></div><div class=\"sk-serial\"><div class=\"sk-item\"><div class=\"sk-estimator sk-toggleable\"><input class=\"sk-toggleable__control sk-hidden--visually\" id=\"sk-estimator-id-55\" type=\"checkbox\" ><label for=\"sk-estimator-id-55\" class=\"sk-toggleable__label sk-toggleable__label-arrow\">FunctionTransformer</label><div class=\"sk-toggleable__content\"><pre>FunctionTransformer(func=functools.partial(&lt;function time_series_imputer at 0x7fa2fb7c8220&gt;, method=&#x27;bfill&#x27;))</pre></div></div></div><div class=\"sk-item\"><div class=\"sk-estimator sk-toggleable\"><input class=\"sk-toggleable__control sk-hidden--visually\" id=\"sk-estimator-id-56\" type=\"checkbox\" ><label for=\"sk-estimator-id-56\" class=\"sk-toggleable__label sk-toggleable__label-arrow\">FunctionTransformer</label><div class=\"sk-toggleable__content\"><pre>FunctionTransformer(func=functools.partial(&lt;function time_series_imputer at 0x7fa2fb7c8220&gt;, method=&#x27;ffill&#x27;))</pre></div></div></div><div class=\"sk-item\"><div class=\"sk-estimator sk-toggleable\"><input class=\"sk-toggleable__control sk-hidden--visually\" id=\"sk-estimator-id-57\" type=\"checkbox\" ><label for=\"sk-estimator-id-57\" class=\"sk-toggleable__label sk-toggleable__label-arrow\">LogTransformer</label><div class=\"sk-toggleable__content\"><pre>LogTransformer()</pre></div></div></div><div class=\"sk-item\"><div class=\"sk-estimator sk-toggleable\"><input class=\"sk-toggleable__control sk-hidden--visually\" id=\"sk-estimator-id-58\" type=\"checkbox\" ><label for=\"sk-estimator-id-58\" class=\"sk-toggleable__label sk-toggleable__label-arrow\">DifferenceTransformer</label><div class=\"sk-toggleable__content\"><pre>DifferenceTransformer(num_observed_points=0)</pre></div></div></div></div></div></div></div></div></div>"
      ],
      "text/plain": [
       "Pipeline(memory='cache',\n",
       "         steps=[('pipeline',\n",
       "                 Pipeline(memory='cache',\n",
       "                          steps=[('functiontransformer-1',\n",
       "                                  FunctionTransformer(func=functools.partial(<function time_series_imputer at 0x7fa2fb7c8220>, method='bfill'))),\n",
       "                                 ('functiontransformer-2',\n",
       "                                  FunctionTransformer(func=functools.partial(<function time_series_imputer at 0x7fa2fb7c8220>, method='ffill'))),\n",
       "                                 ('logtransformer', LogTransformer()),\n",
       "                                 ('differencetransformer',\n",
       "                                  DifferenceTransformer(num_observed_points=0))],\n",
       "                          verbose=True))],\n",
       "         verbose=True)"
      ]
     },
     "execution_count": 102,
     "metadata": {},
     "output_type": "execute_result"
    }
   ],
   "source": [
    "def build_target_pipeline() -> Pipeline:\n",
    "    \"\"\"Factory function used to build the target (e.g., y) pipeline.\"\"\"\n",
    "\n",
    "    return make_pipeline(build_stationarity_pipeline(source=\"target\"), memory=\"cache\", verbose=True)\n",
    "\n",
    "target_pipeline = build_target_pipeline()\n",
    "target_pipeline"
   ]
  },
  {
   "cell_type": "markdown",
   "metadata": {
    "collapsed": false
   },
   "source": [
    "## Global Pipeline (Put Things Together)\n",
    "\n",
    "Here we will show how to use:\n",
    "* [TransformedTargetRegressor](https://scikit-learn.org/stable/modules/generated/sklearn.compose.TransformedTargetRegressor.html)\n",
    "\n",
    "This is extremely useful when performing different operations on the target. In our case, we had to transform the time series to make it stationary.\n",
    "\n",
    "The sweet part about this wrapper is that it calls `fit_transform` while training and calls `inverse_transform` when making predictions. Therefore, this can unify your model into a single structure. In the end, the model will be straightforward to use and deploy. You will just have to call `model.predict(X)`, and the predictions are ready to be used in your application."
   ]
  },
  {
   "cell_type": "code",
   "execution_count": 103,
   "metadata": {
    "collapsed": false
   },
   "outputs": [
    {
     "data": {
      "text/html": [
       "<style>#sk-container-id-5 {color: black;}#sk-container-id-5 pre{padding: 0;}#sk-container-id-5 div.sk-toggleable {background-color: white;}#sk-container-id-5 label.sk-toggleable__label {cursor: pointer;display: block;width: 100%;margin-bottom: 0;padding: 0.3em;box-sizing: border-box;text-align: center;}#sk-container-id-5 label.sk-toggleable__label-arrow:before {content: \"▸\";float: left;margin-right: 0.25em;color: #696969;}#sk-container-id-5 label.sk-toggleable__label-arrow:hover:before {color: black;}#sk-container-id-5 div.sk-estimator:hover label.sk-toggleable__label-arrow:before {color: black;}#sk-container-id-5 div.sk-toggleable__content {max-height: 0;max-width: 0;overflow: hidden;text-align: left;background-color: #f0f8ff;}#sk-container-id-5 div.sk-toggleable__content pre {margin: 0.2em;color: black;border-radius: 0.25em;background-color: #f0f8ff;}#sk-container-id-5 input.sk-toggleable__control:checked~div.sk-toggleable__content {max-height: 200px;max-width: 100%;overflow: auto;}#sk-container-id-5 input.sk-toggleable__control:checked~label.sk-toggleable__label-arrow:before {content: \"▾\";}#sk-container-id-5 div.sk-estimator input.sk-toggleable__control:checked~label.sk-toggleable__label {background-color: #d4ebff;}#sk-container-id-5 div.sk-label input.sk-toggleable__control:checked~label.sk-toggleable__label {background-color: #d4ebff;}#sk-container-id-5 input.sk-hidden--visually {border: 0;clip: rect(1px 1px 1px 1px);clip: rect(1px, 1px, 1px, 1px);height: 1px;margin: -1px;overflow: hidden;padding: 0;position: absolute;width: 1px;}#sk-container-id-5 div.sk-estimator {font-family: monospace;background-color: #f0f8ff;border: 1px dotted black;border-radius: 0.25em;box-sizing: border-box;margin-bottom: 0.5em;}#sk-container-id-5 div.sk-estimator:hover {background-color: #d4ebff;}#sk-container-id-5 div.sk-parallel-item::after {content: \"\";width: 100%;border-bottom: 1px solid gray;flex-grow: 1;}#sk-container-id-5 div.sk-label:hover label.sk-toggleable__label {background-color: #d4ebff;}#sk-container-id-5 div.sk-serial::before {content: \"\";position: absolute;border-left: 1px solid gray;box-sizing: border-box;top: 0;bottom: 0;left: 50%;z-index: 0;}#sk-container-id-5 div.sk-serial {display: flex;flex-direction: column;align-items: center;background-color: white;padding-right: 0.2em;padding-left: 0.2em;position: relative;}#sk-container-id-5 div.sk-item {position: relative;z-index: 1;}#sk-container-id-5 div.sk-parallel {display: flex;align-items: stretch;justify-content: center;background-color: white;position: relative;}#sk-container-id-5 div.sk-item::before, #sk-container-id-5 div.sk-parallel-item::before {content: \"\";position: absolute;border-left: 1px solid gray;box-sizing: border-box;top: 0;bottom: 0;left: 50%;z-index: -1;}#sk-container-id-5 div.sk-parallel-item {display: flex;flex-direction: column;z-index: 1;position: relative;background-color: white;}#sk-container-id-5 div.sk-parallel-item:first-child::after {align-self: flex-end;width: 50%;}#sk-container-id-5 div.sk-parallel-item:last-child::after {align-self: flex-start;width: 50%;}#sk-container-id-5 div.sk-parallel-item:only-child::after {width: 0;}#sk-container-id-5 div.sk-dashed-wrapped {border: 1px dashed gray;margin: 0 0.4em 0.5em 0.4em;box-sizing: border-box;padding-bottom: 0.4em;background-color: white;}#sk-container-id-5 div.sk-label label {font-family: monospace;font-weight: bold;display: inline-block;line-height: 1.2em;}#sk-container-id-5 div.sk-label-container {text-align: center;}#sk-container-id-5 div.sk-container {/* jupyter's `normalize.less` sets `[hidden] { display: none; }` but bootstrap.min.css set `[hidden] { display: none !important; }` so we also need the `!important` here to be able to override the default hidden behavior on the sphinx rendered scikit-learn.org. See: https://github.com/scikit-learn/scikit-learn/issues/21755 */display: inline-block !important;position: relative;}#sk-container-id-5 div.sk-text-repr-fallback {display: none;}</style><div id=\"sk-container-id-5\" class=\"sk-top-container\"><div class=\"sk-text-repr-fallback\"><pre>Pipeline(memory=&#x27;cache&#x27;,\n",
       "         steps=[(&#x27;transformedtargetregressor&#x27;,\n",
       "                 TransformedTargetRegressor(check_inverse=False,\n",
       "                                            regressor=Pipeline(memory=&#x27;cache&#x27;,\n",
       "                                                               steps=[(&#x27;pipeline&#x27;,\n",
       "                                                                       Pipeline(memory=&#x27;cache&#x27;,\n",
       "                                                                                steps=[(&#x27;pipeline&#x27;,\n",
       "                                                                                        Pipeline(memory=&#x27;cache&#x27;,\n",
       "                                                                                                 steps=[(&#x27;functiontransformer-1&#x27;,\n",
       "                                                                                                         FunctionTransformer(func=functools.partial(&lt;function time_series_imputer at 0x7fa2fb7c8220&gt;, m...\n",
       "                                                                                          FunctionTransformer(func=functools.partial(&lt;function time_series_imputer at 0x7fa2fb7c8220&gt;, method=&#x27;bfill&#x27;))),\n",
       "                                                                                         (&#x27;functiontransformer-2&#x27;,\n",
       "                                                                                          FunctionTransformer(func=functools.partial(&lt;function time_series_imputer at 0x7fa2fb7c8220&gt;, method=&#x27;ffill&#x27;))),\n",
       "                                                                                         (&#x27;logtransformer&#x27;,\n",
       "                                                                                          LogTransformer()),\n",
       "                                                                                         (&#x27;differencetransformer&#x27;,\n",
       "                                                                                          DifferenceTransformer(num_observed_points=0))],\n",
       "                                                                                  verbose=True))],\n",
       "                                                                 verbose=True)))],\n",
       "         verbose=True)</pre><b>In a Jupyter environment, please rerun this cell to show the HTML representation or trust the notebook. <br />On GitHub, the HTML representation is unable to render, please try loading this page with nbviewer.org.</b></div><div class=\"sk-container\" hidden><div class=\"sk-item sk-dashed-wrapped\"><div class=\"sk-label-container\"><div class=\"sk-label sk-toggleable\"><input class=\"sk-toggleable__control sk-hidden--visually\" id=\"sk-estimator-id-59\" type=\"checkbox\" ><label for=\"sk-estimator-id-59\" class=\"sk-toggleable__label sk-toggleable__label-arrow\">Pipeline</label><div class=\"sk-toggleable__content\"><pre>Pipeline(memory=&#x27;cache&#x27;,\n",
       "         steps=[(&#x27;transformedtargetregressor&#x27;,\n",
       "                 TransformedTargetRegressor(check_inverse=False,\n",
       "                                            regressor=Pipeline(memory=&#x27;cache&#x27;,\n",
       "                                                               steps=[(&#x27;pipeline&#x27;,\n",
       "                                                                       Pipeline(memory=&#x27;cache&#x27;,\n",
       "                                                                                steps=[(&#x27;pipeline&#x27;,\n",
       "                                                                                        Pipeline(memory=&#x27;cache&#x27;,\n",
       "                                                                                                 steps=[(&#x27;functiontransformer-1&#x27;,\n",
       "                                                                                                         FunctionTransformer(func=functools.partial(&lt;function time_series_imputer at 0x7fa2fb7c8220&gt;, m...\n",
       "                                                                                          FunctionTransformer(func=functools.partial(&lt;function time_series_imputer at 0x7fa2fb7c8220&gt;, method=&#x27;bfill&#x27;))),\n",
       "                                                                                         (&#x27;functiontransformer-2&#x27;,\n",
       "                                                                                          FunctionTransformer(func=functools.partial(&lt;function time_series_imputer at 0x7fa2fb7c8220&gt;, method=&#x27;ffill&#x27;))),\n",
       "                                                                                         (&#x27;logtransformer&#x27;,\n",
       "                                                                                          LogTransformer()),\n",
       "                                                                                         (&#x27;differencetransformer&#x27;,\n",
       "                                                                                          DifferenceTransformer(num_observed_points=0))],\n",
       "                                                                                  verbose=True))],\n",
       "                                                                 verbose=True)))],\n",
       "         verbose=True)</pre></div></div></div><div class=\"sk-serial\"><div class=\"sk-item sk-dashed-wrapped\"><div class=\"sk-label-container\"><div class=\"sk-label sk-toggleable\"><input class=\"sk-toggleable__control sk-hidden--visually\" id=\"sk-estimator-id-60\" type=\"checkbox\" ><label for=\"sk-estimator-id-60\" class=\"sk-toggleable__label sk-toggleable__label-arrow\">transformedtargetregressor: TransformedTargetRegressor</label><div class=\"sk-toggleable__content\"><pre>TransformedTargetRegressor(check_inverse=False,\n",
       "                           regressor=Pipeline(memory=&#x27;cache&#x27;,\n",
       "                                              steps=[(&#x27;pipeline&#x27;,\n",
       "                                                      Pipeline(memory=&#x27;cache&#x27;,\n",
       "                                                               steps=[(&#x27;pipeline&#x27;,\n",
       "                                                                       Pipeline(memory=&#x27;cache&#x27;,\n",
       "                                                                                steps=[(&#x27;functiontransformer-1&#x27;,\n",
       "                                                                                        FunctionTransformer(func=functools.partial(&lt;function time_series_imputer at 0x7fa2fb7c8220&gt;, method=&#x27;bfill&#x27;))),\n",
       "                                                                                       (&#x27;functiontransformer-2&#x27;,\n",
       "                                                                                        FunctionTransformer...\n",
       "                                                                         FunctionTransformer(func=functools.partial(&lt;function time_series_imputer at 0x7fa2fb7c8220&gt;, method=&#x27;bfill&#x27;))),\n",
       "                                                                        (&#x27;functiontransformer-2&#x27;,\n",
       "                                                                         FunctionTransformer(func=functools.partial(&lt;function time_series_imputer at 0x7fa2fb7c8220&gt;, method=&#x27;ffill&#x27;))),\n",
       "                                                                        (&#x27;logtransformer&#x27;,\n",
       "                                                                         LogTransformer()),\n",
       "                                                                        (&#x27;differencetransformer&#x27;,\n",
       "                                                                         DifferenceTransformer(num_observed_points=0))],\n",
       "                                                                 verbose=True))],\n",
       "                                                verbose=True))</pre></div></div></div><div class=\"sk-parallel\"><div class=\"sk-parallel-item\"><div class=\"sk-item\"><div class=\"sk-label-container\"><div class=\"sk-label sk-toggleable\"><input class=\"sk-toggleable__control sk-hidden--visually\" id=\"sk-estimator-id-61\" type=\"checkbox\" ><label for=\"sk-estimator-id-61\" class=\"sk-toggleable__label sk-toggleable__label-arrow\">regressor: Pipeline</label><div class=\"sk-toggleable__content\"><pre>Pipeline(memory=&#x27;cache&#x27;,\n",
       "         steps=[(&#x27;pipeline&#x27;,\n",
       "                 Pipeline(memory=&#x27;cache&#x27;,\n",
       "                          steps=[(&#x27;pipeline&#x27;,\n",
       "                                  Pipeline(memory=&#x27;cache&#x27;,\n",
       "                                           steps=[(&#x27;functiontransformer-1&#x27;,\n",
       "                                                   FunctionTransformer(func=functools.partial(&lt;function time_series_imputer at 0x7fa2fb7c8220&gt;, method=&#x27;bfill&#x27;))),\n",
       "                                                  (&#x27;functiontransformer-2&#x27;,\n",
       "                                                   FunctionTransformer(func=functools.partial(&lt;function time_series_imputer at 0x7...\n",
       "                                  FunctionTransformer(func=functools.partial(&lt;function time_series_imputer at 0x7fa2fb7c8220&gt;, method=&#x27;bfill&#x27;))),\n",
       "                                 (&#x27;functiontransformer-2&#x27;,\n",
       "                                  FunctionTransformer(func=functools.partial(&lt;function time_series_imputer at 0x7fa2fb7c8220&gt;, method=&#x27;ffill&#x27;))),\n",
       "                                 (&#x27;droprowstransformer&#x27;,\n",
       "                                  DropRowsTransformer(num_rows=5))],\n",
       "                          verbose=True)),\n",
       "                (&#x27;minmaxscaler&#x27;, MinMaxScaler()),\n",
       "                (&#x27;randomforestregressor&#x27;, RandomForestRegressor())],\n",
       "         verbose=True)</pre></div></div></div><div class=\"sk-serial\"><div class=\"sk-item\"><div class=\"sk-serial\"><div class=\"sk-item\"><div class=\"sk-label-container\"><div class=\"sk-label sk-toggleable\"><input class=\"sk-toggleable__control sk-hidden--visually\" id=\"sk-estimator-id-62\" type=\"checkbox\" ><label for=\"sk-estimator-id-62\" class=\"sk-toggleable__label sk-toggleable__label-arrow\">pipeline: Pipeline</label><div class=\"sk-toggleable__content\"><pre>Pipeline(memory=&#x27;cache&#x27;,\n",
       "         steps=[(&#x27;pipeline&#x27;,\n",
       "                 Pipeline(memory=&#x27;cache&#x27;,\n",
       "                          steps=[(&#x27;functiontransformer-1&#x27;,\n",
       "                                  FunctionTransformer(func=functools.partial(&lt;function time_series_imputer at 0x7fa2fb7c8220&gt;, method=&#x27;bfill&#x27;))),\n",
       "                                 (&#x27;functiontransformer-2&#x27;,\n",
       "                                  FunctionTransformer(func=functools.partial(&lt;function time_series_imputer at 0x7fa2fb7c8220&gt;, method=&#x27;ffill&#x27;))),\n",
       "                                 (&#x27;logtransfo...\n",
       "                                                  [&#x27;locations&#x27;])])),\n",
       "                (&#x27;functiontransformer-1&#x27;,\n",
       "                 FunctionTransformer(func=functools.partial(&lt;function time_series_imputer at 0x7fa2fb7c8220&gt;, method=&#x27;bfill&#x27;))),\n",
       "                (&#x27;functiontransformer-2&#x27;,\n",
       "                 FunctionTransformer(func=functools.partial(&lt;function time_series_imputer at 0x7fa2fb7c8220&gt;, method=&#x27;ffill&#x27;))),\n",
       "                (&#x27;droprowstransformer&#x27;, DropRowsTransformer(num_rows=5))],\n",
       "         verbose=True)</pre></div></div></div><div class=\"sk-serial\"><div class=\"sk-item\"><div class=\"sk-label-container\"><div class=\"sk-label sk-toggleable\"><input class=\"sk-toggleable__control sk-hidden--visually\" id=\"sk-estimator-id-63\" type=\"checkbox\" ><label for=\"sk-estimator-id-63\" class=\"sk-toggleable__label sk-toggleable__label-arrow\">pipeline: Pipeline</label><div class=\"sk-toggleable__content\"><pre>Pipeline(memory=&#x27;cache&#x27;,\n",
       "         steps=[(&#x27;functiontransformer-1&#x27;,\n",
       "                 FunctionTransformer(func=functools.partial(&lt;function time_series_imputer at 0x7fa2fb7c8220&gt;, method=&#x27;bfill&#x27;))),\n",
       "                (&#x27;functiontransformer-2&#x27;,\n",
       "                 FunctionTransformer(func=functools.partial(&lt;function time_series_imputer at 0x7fa2fb7c8220&gt;, method=&#x27;ffill&#x27;))),\n",
       "                (&#x27;logtransformer&#x27;, LogTransformer()),\n",
       "                (&#x27;differencetransformer&#x27;,\n",
       "                 DifferenceTransformer(num_observed_points=5))],\n",
       "         verbose=True)</pre></div></div></div><div class=\"sk-serial\"><div class=\"sk-item\"><div class=\"sk-estimator sk-toggleable\"><input class=\"sk-toggleable__control sk-hidden--visually\" id=\"sk-estimator-id-64\" type=\"checkbox\" ><label for=\"sk-estimator-id-64\" class=\"sk-toggleable__label sk-toggleable__label-arrow\">FunctionTransformer</label><div class=\"sk-toggleable__content\"><pre>FunctionTransformer(func=functools.partial(&lt;function time_series_imputer at 0x7fa2fb7c8220&gt;, method=&#x27;bfill&#x27;))</pre></div></div></div><div class=\"sk-item\"><div class=\"sk-estimator sk-toggleable\"><input class=\"sk-toggleable__control sk-hidden--visually\" id=\"sk-estimator-id-65\" type=\"checkbox\" ><label for=\"sk-estimator-id-65\" class=\"sk-toggleable__label sk-toggleable__label-arrow\">FunctionTransformer</label><div class=\"sk-toggleable__content\"><pre>FunctionTransformer(func=functools.partial(&lt;function time_series_imputer at 0x7fa2fb7c8220&gt;, method=&#x27;ffill&#x27;))</pre></div></div></div><div class=\"sk-item\"><div class=\"sk-estimator sk-toggleable\"><input class=\"sk-toggleable__control sk-hidden--visually\" id=\"sk-estimator-id-66\" type=\"checkbox\" ><label for=\"sk-estimator-id-66\" class=\"sk-toggleable__label sk-toggleable__label-arrow\">LogTransformer</label><div class=\"sk-toggleable__content\"><pre>LogTransformer()</pre></div></div></div><div class=\"sk-item\"><div class=\"sk-estimator sk-toggleable\"><input class=\"sk-toggleable__control sk-hidden--visually\" id=\"sk-estimator-id-67\" type=\"checkbox\" ><label for=\"sk-estimator-id-67\" class=\"sk-toggleable__label sk-toggleable__label-arrow\">DifferenceTransformer</label><div class=\"sk-toggleable__content\"><pre>DifferenceTransformer(num_observed_points=5)</pre></div></div></div></div></div><div class=\"sk-item sk-dashed-wrapped\"><div class=\"sk-label-container\"><div class=\"sk-label sk-toggleable\"><input class=\"sk-toggleable__control sk-hidden--visually\" id=\"sk-estimator-id-68\" type=\"checkbox\" ><label for=\"sk-estimator-id-68\" class=\"sk-toggleable__label sk-toggleable__label-arrow\">columntransformer: ColumnTransformer</label><div class=\"sk-toggleable__content\"><pre>ColumnTransformer(transformers=[(&#x27;featureunion-1&#x27;,\n",
       "                                 FeatureUnion(transformer_list=[(&#x27;functiontransformer&#x27;,\n",
       "                                                                 FunctionTransformer(func=functools.partial(&lt;function time_series_shift at 0x7fa271ed56c0&gt;, n_past=5))),\n",
       "                                                                (&#x27;pipeline-1&#x27;,\n",
       "                                                                 Pipeline(steps=[(&#x27;functiontransformer-1&#x27;,\n",
       "                                                                                  FunctionTransformer(func=functools.partial(&lt;function rolling_average_transformer at 0x7fa271ed5...\n",
       "                                                                 FunctionTransformer(func=functools.partial(&lt;function time_series_shift at 0x7fa271ed56c0&gt;, n_past=5))),\n",
       "                                                                (&#x27;pipeline&#x27;,\n",
       "                                                                 Pipeline(steps=[(&#x27;functiontransformer-1&#x27;,\n",
       "                                                                                  FunctionTransformer(func=functools.partial(&lt;function rolling_average_transformer at 0x7fa271ed54e0&gt;, window=5))),\n",
       "                                                                                 (&#x27;functiontransformer-2&#x27;,\n",
       "                                                                                  FunctionTransformer(func=functools.partial(&lt;function time_series_shift at 0x7fa271ed56c0&gt;, n_past=1)))]))]),\n",
       "                                 [&#x27;locations&#x27;])])</pre></div></div></div><div class=\"sk-parallel\"><div class=\"sk-parallel-item\"><div class=\"sk-item\"><div class=\"sk-label-container\"><div class=\"sk-label sk-toggleable\"><input class=\"sk-toggleable__control sk-hidden--visually\" id=\"sk-estimator-id-69\" type=\"checkbox\" ><label for=\"sk-estimator-id-69\" class=\"sk-toggleable__label sk-toggleable__label-arrow\">featureunion-1</label><div class=\"sk-toggleable__content\"><pre>[&#x27;mean_yield&#x27;]</pre></div></div></div><div class=\"sk-serial\"><div class=\"sk-item sk-dashed-wrapped\"><div class=\"sk-parallel\"><div class=\"sk-parallel-item\"><div class=\"sk-item\"><div class=\"sk-label-container\"><div class=\"sk-label sk-toggleable\"><label>functiontransformer</label></div></div><div class=\"sk-serial\"><div class=\"sk-item\"><div class=\"sk-estimator sk-toggleable\"><input class=\"sk-toggleable__control sk-hidden--visually\" id=\"sk-estimator-id-70\" type=\"checkbox\" ><label for=\"sk-estimator-id-70\" class=\"sk-toggleable__label sk-toggleable__label-arrow\">FunctionTransformer</label><div class=\"sk-toggleable__content\"><pre>FunctionTransformer(func=functools.partial(&lt;function time_series_shift at 0x7fa271ed56c0&gt;, n_past=5))</pre></div></div></div></div></div></div><div class=\"sk-parallel-item\"><div class=\"sk-item\"><div class=\"sk-label-container\"><div class=\"sk-label sk-toggleable\"><label>pipeline-1</label></div></div><div class=\"sk-serial\"><div class=\"sk-item\"><div class=\"sk-serial\"><div class=\"sk-item\"><div class=\"sk-estimator sk-toggleable\"><input class=\"sk-toggleable__control sk-hidden--visually\" id=\"sk-estimator-id-71\" type=\"checkbox\" ><label for=\"sk-estimator-id-71\" class=\"sk-toggleable__label sk-toggleable__label-arrow\">FunctionTransformer</label><div class=\"sk-toggleable__content\"><pre>FunctionTransformer(func=functools.partial(&lt;function rolling_average_transformer at 0x7fa271ed54e0&gt;, window=5))</pre></div></div></div><div class=\"sk-item\"><div class=\"sk-estimator sk-toggleable\"><input class=\"sk-toggleable__control sk-hidden--visually\" id=\"sk-estimator-id-72\" type=\"checkbox\" ><label for=\"sk-estimator-id-72\" class=\"sk-toggleable__label sk-toggleable__label-arrow\">FunctionTransformer</label><div class=\"sk-toggleable__content\"><pre>FunctionTransformer(func=functools.partial(&lt;function time_series_shift at 0x7fa271ed56c0&gt;, n_past=1))</pre></div></div></div></div></div></div></div></div><div class=\"sk-parallel-item\"><div class=\"sk-item\"><div class=\"sk-label-container\"><div class=\"sk-label sk-toggleable\"><label>pipeline-2</label></div></div><div class=\"sk-serial\"><div class=\"sk-item\"><div class=\"sk-serial\"><div class=\"sk-item\"><div class=\"sk-estimator sk-toggleable\"><input class=\"sk-toggleable__control sk-hidden--visually\" id=\"sk-estimator-id-73\" type=\"checkbox\" ><label for=\"sk-estimator-id-73\" class=\"sk-toggleable__label sk-toggleable__label-arrow\">FunctionTransformer</label><div class=\"sk-toggleable__content\"><pre>FunctionTransformer(func=functools.partial(&lt;function rolling_std_transformer at 0x7fa271ed5940&gt;, window=5))</pre></div></div></div><div class=\"sk-item\"><div class=\"sk-estimator sk-toggleable\"><input class=\"sk-toggleable__control sk-hidden--visually\" id=\"sk-estimator-id-74\" type=\"checkbox\" ><label for=\"sk-estimator-id-74\" class=\"sk-toggleable__label sk-toggleable__label-arrow\">FunctionTransformer</label><div class=\"sk-toggleable__content\"><pre>FunctionTransformer(func=functools.partial(&lt;function time_series_shift at 0x7fa271ed56c0&gt;, n_past=1))</pre></div></div></div></div></div></div></div></div><div class=\"sk-parallel-item\"><div class=\"sk-item\"><div class=\"sk-label-container\"><div class=\"sk-label sk-toggleable\"><label>pipeline-3</label></div></div><div class=\"sk-serial\"><div class=\"sk-item\"><div class=\"sk-serial\"><div class=\"sk-item\"><div class=\"sk-estimator sk-toggleable\"><input class=\"sk-toggleable__control sk-hidden--visually\" id=\"sk-estimator-id-75\" type=\"checkbox\" ><label for=\"sk-estimator-id-75\" class=\"sk-toggleable__label sk-toggleable__label-arrow\">FunctionTransformer</label><div class=\"sk-toggleable__content\"><pre>FunctionTransformer(func=functools.partial(&lt;function rolling_median_transformer at 0x7fa271ed5800&gt;, window=5))</pre></div></div></div><div class=\"sk-item\"><div class=\"sk-estimator sk-toggleable\"><input class=\"sk-toggleable__control sk-hidden--visually\" id=\"sk-estimator-id-76\" type=\"checkbox\" ><label for=\"sk-estimator-id-76\" class=\"sk-toggleable__label sk-toggleable__label-arrow\">FunctionTransformer</label><div class=\"sk-toggleable__content\"><pre>FunctionTransformer(func=functools.partial(&lt;function time_series_shift at 0x7fa271ed56c0&gt;, n_past=1))</pre></div></div></div></div></div></div></div></div></div></div></div></div></div><div class=\"sk-parallel-item\"><div class=\"sk-item\"><div class=\"sk-label-container\"><div class=\"sk-label sk-toggleable\"><input class=\"sk-toggleable__control sk-hidden--visually\" id=\"sk-estimator-id-77\" type=\"checkbox\" ><label for=\"sk-estimator-id-77\" class=\"sk-toggleable__label sk-toggleable__label-arrow\">featureunion-2</label><div class=\"sk-toggleable__content\"><pre>[&#x27;locations&#x27;]</pre></div></div></div><div class=\"sk-serial\"><div class=\"sk-item sk-dashed-wrapped\"><div class=\"sk-parallel\"><div class=\"sk-parallel-item\"><div class=\"sk-item\"><div class=\"sk-label-container\"><div class=\"sk-label sk-toggleable\"><label>functiontransformer</label></div></div><div class=\"sk-serial\"><div class=\"sk-item\"><div class=\"sk-estimator sk-toggleable\"><input class=\"sk-toggleable__control sk-hidden--visually\" id=\"sk-estimator-id-78\" type=\"checkbox\" ><label for=\"sk-estimator-id-78\" class=\"sk-toggleable__label sk-toggleable__label-arrow\">FunctionTransformer</label><div class=\"sk-toggleable__content\"><pre>FunctionTransformer(func=functools.partial(&lt;function time_series_shift at 0x7fa271ed56c0&gt;, n_past=5))</pre></div></div></div></div></div></div><div class=\"sk-parallel-item\"><div class=\"sk-item\"><div class=\"sk-label-container\"><div class=\"sk-label sk-toggleable\"><label>pipeline</label></div></div><div class=\"sk-serial\"><div class=\"sk-item\"><div class=\"sk-serial\"><div class=\"sk-item\"><div class=\"sk-estimator sk-toggleable\"><input class=\"sk-toggleable__control sk-hidden--visually\" id=\"sk-estimator-id-79\" type=\"checkbox\" ><label for=\"sk-estimator-id-79\" class=\"sk-toggleable__label sk-toggleable__label-arrow\">FunctionTransformer</label><div class=\"sk-toggleable__content\"><pre>FunctionTransformer(func=functools.partial(&lt;function rolling_average_transformer at 0x7fa271ed54e0&gt;, window=5))</pre></div></div></div><div class=\"sk-item\"><div class=\"sk-estimator sk-toggleable\"><input class=\"sk-toggleable__control sk-hidden--visually\" id=\"sk-estimator-id-80\" type=\"checkbox\" ><label for=\"sk-estimator-id-80\" class=\"sk-toggleable__label sk-toggleable__label-arrow\">FunctionTransformer</label><div class=\"sk-toggleable__content\"><pre>FunctionTransformer(func=functools.partial(&lt;function time_series_shift at 0x7fa271ed56c0&gt;, n_past=1))</pre></div></div></div></div></div></div></div></div></div></div></div></div></div></div></div><div class=\"sk-item\"><div class=\"sk-estimator sk-toggleable\"><input class=\"sk-toggleable__control sk-hidden--visually\" id=\"sk-estimator-id-81\" type=\"checkbox\" ><label for=\"sk-estimator-id-81\" class=\"sk-toggleable__label sk-toggleable__label-arrow\">FunctionTransformer</label><div class=\"sk-toggleable__content\"><pre>FunctionTransformer(func=functools.partial(&lt;function time_series_imputer at 0x7fa2fb7c8220&gt;, method=&#x27;bfill&#x27;))</pre></div></div></div><div class=\"sk-item\"><div class=\"sk-estimator sk-toggleable\"><input class=\"sk-toggleable__control sk-hidden--visually\" id=\"sk-estimator-id-82\" type=\"checkbox\" ><label for=\"sk-estimator-id-82\" class=\"sk-toggleable__label sk-toggleable__label-arrow\">FunctionTransformer</label><div class=\"sk-toggleable__content\"><pre>FunctionTransformer(func=functools.partial(&lt;function time_series_imputer at 0x7fa2fb7c8220&gt;, method=&#x27;ffill&#x27;))</pre></div></div></div><div class=\"sk-item\"><div class=\"sk-estimator sk-toggleable\"><input class=\"sk-toggleable__control sk-hidden--visually\" id=\"sk-estimator-id-83\" type=\"checkbox\" ><label for=\"sk-estimator-id-83\" class=\"sk-toggleable__label sk-toggleable__label-arrow\">DropRowsTransformer</label><div class=\"sk-toggleable__content\"><pre>DropRowsTransformer(num_rows=5)</pre></div></div></div></div></div><div class=\"sk-item\"><div class=\"sk-estimator sk-toggleable\"><input class=\"sk-toggleable__control sk-hidden--visually\" id=\"sk-estimator-id-84\" type=\"checkbox\" ><label for=\"sk-estimator-id-84\" class=\"sk-toggleable__label sk-toggleable__label-arrow\">MinMaxScaler</label><div class=\"sk-toggleable__content\"><pre>MinMaxScaler()</pre></div></div></div><div class=\"sk-item\"><div class=\"sk-estimator sk-toggleable\"><input class=\"sk-toggleable__control sk-hidden--visually\" id=\"sk-estimator-id-85\" type=\"checkbox\" ><label for=\"sk-estimator-id-85\" class=\"sk-toggleable__label sk-toggleable__label-arrow\">RandomForestRegressor</label><div class=\"sk-toggleable__content\"><pre>RandomForestRegressor()</pre></div></div></div></div></div></div></div></div><div class=\"sk-parallel-item\"><div class=\"sk-item\"><div class=\"sk-label-container\"><div class=\"sk-label sk-toggleable\"><input class=\"sk-toggleable__control sk-hidden--visually\" id=\"sk-estimator-id-86\" type=\"checkbox\" ><label for=\"sk-estimator-id-86\" class=\"sk-toggleable__label sk-toggleable__label-arrow\">transformer: Pipeline</label><div class=\"sk-toggleable__content\"><pre>Pipeline(memory=&#x27;cache&#x27;,\n",
       "         steps=[(&#x27;pipeline&#x27;,\n",
       "                 Pipeline(memory=&#x27;cache&#x27;,\n",
       "                          steps=[(&#x27;functiontransformer-1&#x27;,\n",
       "                                  FunctionTransformer(func=functools.partial(&lt;function time_series_imputer at 0x7fa2fb7c8220&gt;, method=&#x27;bfill&#x27;))),\n",
       "                                 (&#x27;functiontransformer-2&#x27;,\n",
       "                                  FunctionTransformer(func=functools.partial(&lt;function time_series_imputer at 0x7fa2fb7c8220&gt;, method=&#x27;ffill&#x27;))),\n",
       "                                 (&#x27;logtransformer&#x27;, LogTransformer()),\n",
       "                                 (&#x27;differencetransformer&#x27;,\n",
       "                                  DifferenceTransformer(num_observed_points=0))],\n",
       "                          verbose=True))],\n",
       "         verbose=True)</pre></div></div></div><div class=\"sk-serial\"><div class=\"sk-item\"><div class=\"sk-serial\"><div class=\"sk-item\"><div class=\"sk-label-container\"><div class=\"sk-label sk-toggleable\"><input class=\"sk-toggleable__control sk-hidden--visually\" id=\"sk-estimator-id-87\" type=\"checkbox\" ><label for=\"sk-estimator-id-87\" class=\"sk-toggleable__label sk-toggleable__label-arrow\">pipeline: Pipeline</label><div class=\"sk-toggleable__content\"><pre>Pipeline(memory=&#x27;cache&#x27;,\n",
       "         steps=[(&#x27;functiontransformer-1&#x27;,\n",
       "                 FunctionTransformer(func=functools.partial(&lt;function time_series_imputer at 0x7fa2fb7c8220&gt;, method=&#x27;bfill&#x27;))),\n",
       "                (&#x27;functiontransformer-2&#x27;,\n",
       "                 FunctionTransformer(func=functools.partial(&lt;function time_series_imputer at 0x7fa2fb7c8220&gt;, method=&#x27;ffill&#x27;))),\n",
       "                (&#x27;logtransformer&#x27;, LogTransformer()),\n",
       "                (&#x27;differencetransformer&#x27;,\n",
       "                 DifferenceTransformer(num_observed_points=0))],\n",
       "         verbose=True)</pre></div></div></div><div class=\"sk-serial\"><div class=\"sk-item\"><div class=\"sk-estimator sk-toggleable\"><input class=\"sk-toggleable__control sk-hidden--visually\" id=\"sk-estimator-id-88\" type=\"checkbox\" ><label for=\"sk-estimator-id-88\" class=\"sk-toggleable__label sk-toggleable__label-arrow\">FunctionTransformer</label><div class=\"sk-toggleable__content\"><pre>FunctionTransformer(func=functools.partial(&lt;function time_series_imputer at 0x7fa2fb7c8220&gt;, method=&#x27;bfill&#x27;))</pre></div></div></div><div class=\"sk-item\"><div class=\"sk-estimator sk-toggleable\"><input class=\"sk-toggleable__control sk-hidden--visually\" id=\"sk-estimator-id-89\" type=\"checkbox\" ><label for=\"sk-estimator-id-89\" class=\"sk-toggleable__label sk-toggleable__label-arrow\">FunctionTransformer</label><div class=\"sk-toggleable__content\"><pre>FunctionTransformer(func=functools.partial(&lt;function time_series_imputer at 0x7fa2fb7c8220&gt;, method=&#x27;ffill&#x27;))</pre></div></div></div><div class=\"sk-item\"><div class=\"sk-estimator sk-toggleable\"><input class=\"sk-toggleable__control sk-hidden--visually\" id=\"sk-estimator-id-90\" type=\"checkbox\" ><label for=\"sk-estimator-id-90\" class=\"sk-toggleable__label sk-toggleable__label-arrow\">LogTransformer</label><div class=\"sk-toggleable__content\"><pre>LogTransformer()</pre></div></div></div><div class=\"sk-item\"><div class=\"sk-estimator sk-toggleable\"><input class=\"sk-toggleable__control sk-hidden--visually\" id=\"sk-estimator-id-91\" type=\"checkbox\" ><label for=\"sk-estimator-id-91\" class=\"sk-toggleable__label sk-toggleable__label-arrow\">DifferenceTransformer</label><div class=\"sk-toggleable__content\"><pre>DifferenceTransformer(num_observed_points=0)</pre></div></div></div></div></div></div></div></div></div></div></div></div></div></div></div></div>"
      ],
      "text/plain": [
       "Pipeline(memory='cache',\n",
       "         steps=[('transformedtargetregressor',\n",
       "                 TransformedTargetRegressor(check_inverse=False,\n",
       "                                            regressor=Pipeline(memory='cache',\n",
       "                                                               steps=[('pipeline',\n",
       "                                                                       Pipeline(memory='cache',\n",
       "                                                                                steps=[('pipeline',\n",
       "                                                                                        Pipeline(memory='cache',\n",
       "                                                                                                 steps=[('functiontransformer-1',\n",
       "                                                                                                         FunctionTransformer(func=functools.partial(<function time_series_imputer at 0x7fa2fb7c8220>, m...\n",
       "                                                                                          FunctionTransformer(func=functools.partial(<function time_series_imputer at 0x7fa2fb7c8220>, method='bfill'))),\n",
       "                                                                                         ('functiontransformer-2',\n",
       "                                                                                          FunctionTransformer(func=functools.partial(<function time_series_imputer at 0x7fa2fb7c8220>, method='ffill'))),\n",
       "                                                                                         ('logtransformer',\n",
       "                                                                                          LogTransformer()),\n",
       "                                                                                         ('differencetransformer',\n",
       "                                                                                          DifferenceTransformer(num_observed_points=0))],\n",
       "                                                                                  verbose=True))],\n",
       "                                                                 verbose=True)))],\n",
       "         verbose=True)"
      ]
     },
     "execution_count": 103,
     "metadata": {},
     "output_type": "execute_result"
    }
   ],
   "source": [
    "def build_global_pipeline() -> Pipeline:\n",
    "    \"\"\"Factory function used to build the final pipeline.\"\"\"\n",
    "\n",
    "    return make_pipeline(\n",
    "        TransformedTargetRegressor(\n",
    "            regressor=build_regressor_pipeline(),\n",
    "            transformer=build_target_pipeline(),\n",
    "            check_inverse=False\n",
    "        ),\n",
    "        memory=\"cache\",\n",
    "        verbose=True\n",
    "    )\n",
    "\n",
    "pipeline = build_global_pipeline()\n",
    "pipeline"
   ]
  },
  {
   "cell_type": "code",
   "execution_count": 104,
   "metadata": {
    "collapsed": false
   },
   "outputs": [
    {
     "data": {
      "text/plain": [
       "{'transformedtargetregressor': TransformedTargetRegressor(check_inverse=False,\n",
       "                            regressor=Pipeline(memory='cache',\n",
       "                                               steps=[('pipeline',\n",
       "                                                       Pipeline(memory='cache',\n",
       "                                                                steps=[('pipeline',\n",
       "                                                                        Pipeline(memory='cache',\n",
       "                                                                                 steps=[('functiontransformer-1',\n",
       "                                                                                         FunctionTransformer(func=functools.partial(<function time_series_imputer at 0x7fa2fb7c8220>, method='bfill'))),\n",
       "                                                                                        ('functiontransformer-2',\n",
       "                                                                                         FunctionTransformer...\n",
       "                                                                          FunctionTransformer(func=functools.partial(<function time_series_imputer at 0x7fa2fb7c8220>, method='bfill'))),\n",
       "                                                                         ('functiontransformer-2',\n",
       "                                                                          FunctionTransformer(func=functools.partial(<function time_series_imputer at 0x7fa2fb7c8220>, method='ffill'))),\n",
       "                                                                         ('logtransformer',\n",
       "                                                                          LogTransformer()),\n",
       "                                                                         ('differencetransformer',\n",
       "                                                                          DifferenceTransformer(num_observed_points=0))],\n",
       "                                                                  verbose=True))],\n",
       "                                                 verbose=True))}"
      ]
     },
     "execution_count": 104,
     "metadata": {},
     "output_type": "execute_result"
    }
   ],
   "source": [
    "pipeline.named_steps"
   ]
  },
  {
   "cell_type": "markdown",
   "metadata": {
    "collapsed": false
   },
   "source": [
    "## Train"
   ]
  },
  {
   "cell_type": "markdown",
   "metadata": {
    "collapsed": false
   },
   "source": [
    "Now the fitting/training step is a one-liner."
   ]
  },
  {
   "cell_type": "code",
   "execution_count": 105,
   "metadata": {
    "collapsed": false
   },
   "outputs": [
    {
     "name": "stderr",
     "output_type": "stream",
     "text": [
      "DEBUG:sklearn-pipelines:time_series_imputer (transform): (27, 1)\n",
      "/tmp/ipykernel_15604/3468867238.py:123: FutureWarning: DataFrame.fillna with 'method' is deprecated and will raise in a future version. Use obj.ffill() or obj.bfill() instead.\n",
      "  return X.fillna(method=method, axis=0)\n",
      "DEBUG:sklearn-pipelines:time_series_imputer (transform): (27, 1)\n",
      "DEBUG:sklearn-pipelines:LogTransformer X (fit): (27, 1)\n",
      "DEBUG:sklearn-pipelines:LogTransformer (transform): (27, 1)\n",
      "DEBUG:sklearn-pipelines:DifferenceTransformer X (fit): (27, 1)\n",
      "DEBUG:sklearn-pipelines:time_series_imputer (transform): (27, 1)\n",
      "/tmp/ipykernel_15604/3468867238.py:123: FutureWarning: DataFrame.fillna with 'method' is deprecated and will raise in a future version. Use obj.ffill() or obj.bfill() instead.\n",
      "  return X.fillna(method=method, axis=0)\n",
      "DEBUG:sklearn-pipelines:time_series_imputer (transform): (27, 1)\n",
      "DEBUG:sklearn-pipelines:LogTransformer (transform): (27, 1)\n",
      "DEBUG:sklearn-pipelines:DifferenceTransformer (transform): (26, 1)\n"
     ]
    },
    {
     "name": "stdout",
     "output_type": "stream",
     "text": [
      "[Pipeline]  (step 1 of 4) Processing functiontransformer-1, total=   0.0s\n",
      "[Pipeline]  (step 2 of 4) Processing functiontransformer-2, total=   0.0s\n",
      "[Pipeline] .... (step 3 of 4) Processing logtransformer, total=   0.0s\n",
      "[Pipeline]  (step 4 of 4) Processing differencetransformer, total=   0.0s\n",
      "[Pipeline] .......... (step 1 of 1) Processing pipeline, total=   0.3s\n"
     ]
    },
    {
     "name": "stderr",
     "output_type": "stream",
     "text": [
      "DEBUG:sklearn-pipelines:time_series_imputer (transform): (32, 2)\n",
      "DEBUG:sklearn-pipelines:time_series_imputer (transform): (32, 2)\n",
      "/tmp/ipykernel_15604/3468867238.py:123: FutureWarning: DataFrame.fillna with 'method' is deprecated and will raise in a future version. Use obj.ffill() or obj.bfill() instead.\n",
      "  return X.fillna(method=method, axis=0)\n",
      "DEBUG:sklearn-pipelines:LogTransformer X (fit): (32, 2)\n",
      "DEBUG:sklearn-pipelines:LogTransformer y (fit): (26,)\n",
      "DEBUG:sklearn-pipelines:LogTransformer (transform): (32, 2)\n",
      "DEBUG:sklearn-pipelines:DifferenceTransformer X (fit): (32, 2)\n",
      "DEBUG:sklearn-pipelines:DifferenceTransformer y (fit): (26,)\n",
      "DEBUG:sklearn-pipelines:DifferenceTransformer (transform): (31, 2)\n"
     ]
    },
    {
     "name": "stdout",
     "output_type": "stream",
     "text": [
      "[Pipeline]  (step 1 of 4) Processing functiontransformer-1, total=   0.0s\n",
      "[Pipeline]  (step 2 of 4) Processing functiontransformer-2, total=   0.0s\n",
      "[Pipeline] .... (step 3 of 4) Processing logtransformer, total=   0.0s\n",
      "[Pipeline]  (step 4 of 4) Processing differencetransformer, total=   0.0s\n",
      "[Pipeline] .......... (step 1 of 5) Processing pipeline, total=   0.2s\n"
     ]
    },
    {
     "name": "stderr",
     "output_type": "stream",
     "text": [
      "DEBUG:sklearn-pipelines:time_series_shift (transform): (31, 5)\n",
      "DEBUG:sklearn-pipelines:rolling_average_transformer (transform): (31, 1)\n",
      "DEBUG:sklearn-pipelines:time_series_shift (transform): (31, 1)\n",
      "DEBUG:sklearn-pipelines:rolling_std_transformer (transform): (31, 1)\n",
      "DEBUG:sklearn-pipelines:time_series_shift (transform): (31, 1)\n",
      "DEBUG:sklearn-pipelines:rolling_median_transformer (transform): (31, 1)\n",
      "DEBUG:sklearn-pipelines:time_series_shift (transform): (31, 1)\n",
      "DEBUG:sklearn-pipelines:time_series_shift (transform): (31, 5)\n",
      "DEBUG:sklearn-pipelines:rolling_average_transformer (transform): (31, 1)\n",
      "DEBUG:sklearn-pipelines:time_series_shift (transform): (31, 1)\n",
      "DEBUG:sklearn-pipelines:time_series_imputer (transform): (31, 14)\n",
      "/tmp/ipykernel_15604/3468867238.py:123: FutureWarning: DataFrame.fillna with 'method' is deprecated and will raise in a future version. Use obj.ffill() or obj.bfill() instead.\n",
      "  return X.fillna(method=method, axis=0)\n",
      "DEBUG:sklearn-pipelines:time_series_imputer (transform): (31, 14)\n",
      "DEBUG:sklearn-pipelines:DropRowsTransformer X (fit): (31, 14)\n",
      "DEBUG:sklearn-pipelines:DropRowsTransformer y (fit): (26,)\n",
      "DEBUG:sklearn-pipelines:DropRowsTransformer (transform): (26, 14)\n"
     ]
    },
    {
     "name": "stdout",
     "output_type": "stream",
     "text": [
      "[Pipeline] . (step 2 of 5) Processing columntransformer, total=   0.0s\n",
      "[Pipeline]  (step 3 of 5) Processing functiontransformer-1, total=   0.0s\n",
      "[Pipeline]  (step 4 of 5) Processing functiontransformer-2, total=   0.0s\n",
      "[Pipeline]  (step 5 of 5) Processing droprowstransformer, total=   0.0s\n",
      "[Pipeline] .......... (step 1 of 3) Processing pipeline, total=   0.5s\n",
      "[Pipeline] ...... (step 2 of 3) Processing minmaxscaler, total=   0.0s\n",
      "[Pipeline]  (step 3 of 3) Processing randomforestregressor, total=   0.1s\n",
      "[Pipeline]  (step 1 of 1) Processing transformedtargetregressor, total=   1.2s\n"
     ]
    }
   ],
   "source": [
    "pipeline.fit(X=X_train.copy(), y=y_train.copy());"
   ]
  },
  {
   "cell_type": "markdown",
   "metadata": {
    "collapsed": false
   },
   "source": [
    "## Make Predictions"
   ]
  },
  {
   "cell_type": "markdown",
   "metadata": {
    "collapsed": false
   },
   "source": [
    "The sweet part, is that also, the prediction step is a one liner.\n",
    "\n",
    "As stated above, using `TransformedTargetRegressor` the predictions are already transformed back to their initial scale when calling `predict`. Therefore, the model/pipeline is highly compact and easy to deploy in various scenarios: batch, API, streaming, embedded, etc.\n",
    "\n",
    "Another helpful feature is that now, you can quickly use a `GridSearch` (or other technique) on your features and model. You can quickly experiment with various features with only a few lines of code."
   ]
  },
  {
   "cell_type": "code",
   "execution_count": 106,
   "metadata": {
    "collapsed": false
   },
   "outputs": [
    {
     "name": "stderr",
     "output_type": "stream",
     "text": [
      "DEBUG:sklearn-pipelines:time_series_imputer (transform): (10, 2)\n",
      "/tmp/ipykernel_15604/3468867238.py:123: FutureWarning: DataFrame.fillna with 'method' is deprecated and will raise in a future version. Use obj.ffill() or obj.bfill() instead.\n",
      "  return X.fillna(method=method, axis=0)\n",
      "DEBUG:sklearn-pipelines:time_series_imputer (transform): (10, 2)\n",
      "DEBUG:sklearn-pipelines:LogTransformer (transform): (10, 2)\n",
      "DEBUG:sklearn-pipelines:DifferenceTransformer (transform): (9, 2)\n",
      "DEBUG:sklearn-pipelines:time_series_shift (transform): (9, 5)\n",
      "DEBUG:sklearn-pipelines:rolling_average_transformer (transform): (9, 1)\n",
      "DEBUG:sklearn-pipelines:time_series_shift (transform): (9, 1)\n",
      "DEBUG:sklearn-pipelines:rolling_std_transformer (transform): (9, 1)\n",
      "DEBUG:sklearn-pipelines:time_series_shift (transform): (9, 1)\n",
      "DEBUG:sklearn-pipelines:rolling_median_transformer (transform): (9, 1)\n",
      "DEBUG:sklearn-pipelines:time_series_shift (transform): (9, 1)\n",
      "DEBUG:sklearn-pipelines:time_series_shift (transform): (9, 5)\n",
      "DEBUG:sklearn-pipelines:rolling_average_transformer (transform): (9, 1)\n",
      "DEBUG:sklearn-pipelines:time_series_shift (transform): (9, 1)\n",
      "DEBUG:sklearn-pipelines:time_series_imputer (transform): (9, 14)\n",
      "/tmp/ipykernel_15604/3468867238.py:123: FutureWarning: DataFrame.fillna with 'method' is deprecated and will raise in a future version. Use obj.ffill() or obj.bfill() instead.\n",
      "  return X.fillna(method=method, axis=0)\n",
      "DEBUG:sklearn-pipelines:time_series_imputer (transform): (9, 14)\n",
      "DEBUG:sklearn-pipelines:DropRowsTransformer (transform): (4, 14)\n",
      "DEBUG:sklearn-pipelines:DifferenceTransformer (inverse_transform): (5, 1)\n",
      "DEBUG:sklearn-pipelines:LogTransformer (inverse_transform): (5, 1)\n"
     ]
    }
   ],
   "source": [
    "y_pred = pipeline.predict(X_test.copy())"
   ]
  },
  {
   "cell_type": "code",
   "execution_count": 107,
   "metadata": {
    "collapsed": false
   },
   "outputs": [
    {
     "data": {
      "text/plain": [
       "26    4.026584\n",
       "0     4.088741\n",
       "1     4.040883\n",
       "2     4.093186\n",
       "3     4.311492\n",
       "Name: 0, dtype: float64"
      ]
     },
     "execution_count": 107,
     "metadata": {},
     "output_type": "execute_result"
    }
   ],
   "source": [
    "y_pred"
   ]
  },
  {
   "cell_type": "code",
   "execution_count": 108,
   "metadata": {
    "collapsed": false
   },
   "outputs": [
    {
     "data": {
      "text/plain": [
       "2012    4.026584\n",
       "2013    4.190502\n",
       "2014    4.151844\n",
       "2015    3.911601\n",
       "2016    4.293674\n",
       "Name: mean_yield, dtype: float32"
      ]
     },
     "execution_count": 108,
     "metadata": {},
     "output_type": "execute_result"
    }
   ],
   "source": [
    "y_test"
   ]
  },
  {
   "cell_type": "markdown",
   "metadata": {
    "collapsed": false
   },
   "source": [
    "## Test"
   ]
  },
  {
   "cell_type": "code",
   "execution_count": 113,
   "metadata": {
    "collapsed": false
   },
   "outputs": [],
   "source": [
    "def evaluate(y_test, y_pred):\n",
    "    y_test = y_test.iloc[-SIZE_TEST_SPLIT:]\n",
    "    y_pred = y_pred.iloc[-SIZE_TEST_SPLIT:]\n",
    "\n",
    "    logger.info(f\"RMSE: {mean_squared_error(y_test, y_pred, squared=False):.6f}\")\n",
    "    logger.info(f\"MAPE: {mean_absolute_percentage_error(y_test, y_pred):.6f}\")"
   ]
  },
  {
   "cell_type": "code",
   "execution_count": 114,
   "metadata": {
    "collapsed": false
   },
   "outputs": [
    {
     "name": "stderr",
     "output_type": "stream",
     "text": [
      "INFO:sklearn-pipelines:RMSE: 0.118277\n",
      "INFO:sklearn-pipelines:MAPE: 0.025395\n"
     ]
    }
   ],
   "source": [
    "evaluate(y_test, y_pred)"
   ]
  },
  {
   "cell_type": "markdown",
   "metadata": {
    "collapsed": false
   },
   "source": [
    "For the sweet of the art, let's evaluate our model.\n",
    "\n",
    "We can observe that it is doing decent work using a simple model and without any fine-tuning at all. An RMSE of ~0.13 on a scale of ~4.0 is pretty good.\n",
    "\n",
    "But this notebook was about leveraging Sklearn Pipelines, not building a good model."
   ]
  },
  {
   "cell_type": "markdown",
   "metadata": {
    "collapsed": false
   },
   "source": [
    "# Conclusion\n",
    "\n",
    "Using a concrete example, we showed how powerful it is to leverage Sklearn Pipelines and their entire stack of features: TransformerMixin , BaseEstimator, FunctionTransformer, ColumnTransformer,FeatureUnion, TransformedTargetRegressor.\n",
    "\n",
    "We can use this approach to:\n",
    "* Easily reuse the transformation and compose them in various scenarios.\n",
    "* Write clean and scalable code.\n",
    "* Quickly cache intermediate checkpoints across the pipeline.\n",
    "* Directly deploy the model as a simple function without further preprocessing/postprocessing steps\n",
    "* Quickly perform hyper-parameter tunning on both the feature pipeline and the model itself.\n",
    "\n",
    "##### What other hidden gems do you know about Sklearn Pipelines?"
   ]
  },
  {
   "cell_type": "markdown",
   "metadata": {
    "collapsed": false
   },
   "source": []
  }
 ],
 "metadata": {
  "kernelspec": {
   "display_name": ".venv",
   "language": "python",
   "name": "python3"
  },
  "language_info": {
   "codemirror_mode": {
    "name": "ipython",
    "version": 3
   },
   "file_extension": ".py",
   "mimetype": "text/x-python",
   "name": "python",
   "nbconvert_exporter": "python",
   "pygments_lexer": "ipython3",
   "version": "3.11.7"
  }
 },
 "nbformat": 4,
 "nbformat_minor": 0
}

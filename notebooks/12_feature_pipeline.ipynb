{
 "cells": [
  {
   "cell_type": "code",
   "execution_count": 1,
   "metadata": {},
   "outputs": [],
   "source": [
    "%load_ext autoreload\n",
    "%autoreload 2"
   ]
  },
  {
   "cell_type": "code",
   "execution_count": 2,
   "metadata": {},
   "outputs": [],
   "source": [
    "import src.config as config"
   ]
  },
  {
   "cell_type": "code",
   "execution_count": 19,
   "metadata": {},
   "outputs": [
    {
     "name": "stdout",
     "output_type": "stream",
     "text": [
      "current_date=Timestamp('2024-01-04 18:00:00')\n",
      "fetch_data_from=Timestamp('2023-11-01 00:00:00')\n"
     ]
    }
   ],
   "source": [
    "from datetime import datetime, timedelta\n",
    "\n",
    "import pandas as pd\n",
    "\n",
    "current_date = pd.to_datetime(datetime.utcnow()).floor('H')\n",
    "print(f'{current_date=}')\n",
    "\n",
    "# we fetch raw data for the last 90 days, to add redundancy to our data pipeline\n",
    "fetch_data_to = current_date\n",
    "fetch_data_from = (current_date - timedelta(days=60))\n",
    "# Default to first of the month\n",
    "fetch_data_from = pd.Timestamp(year=fetch_data_from.year, month=fetch_data_from.month, day=1)\n",
    "print(f'{fetch_data_from=}')"
   ]
  },
  {
   "cell_type": "code",
   "execution_count": 22,
   "metadata": {},
   "outputs": [],
   "source": [
    "from src.data import load_raw_data\n",
    "\n",
    "def fetch_batch_raw_data(from_date: datetime, to_date: datetime) -> pd.DataFrame:\n",
    "    \"\"\"\n",
    "    Simulate production data by sampling historical data from 52 weeks ago (i.e. 1 year)\n",
    "    Modified version of the fetch_batch_raw_data\n",
    "    \"\"\"\n",
    "    \n",
    "    # fetching data for all concerned months using load_raw_data\n",
    "    dates_to_fetch = pd.date_range(\n",
    "        start=from_date, \n",
    "        end=to_date, \n",
    "        freq='MS'\n",
    "    )\n",
    "    \n",
    "    rides = pd.DataFrame()\n",
    "    for date in dates_to_fetch:\n",
    "        date_ = date - pd.offsets.DateOffset(years=1)\n",
    "        rides_date = load_raw_data(year=date_.year, months=date_.month)\n",
    "        rides = pd.concat([rides, rides_date])\n",
    "\n",
    "\n",
    "    # shift the data to pretend this is recent data \n",
    "    rides['pickup_datetime'] += pd.offsets.DateOffset(years=1)\n",
    "\n",
    "    rides = rides[rides['pickup_datetime'] >= from_date]\n",
    "    rides = rides[rides['pickup_datetime'] <= to_date]    # include to date as we want it to convert to features and target\n",
    "\n",
    "    rides.sort_values(by=['pickup_location_id', 'pickup_datetime'], inplace=True)\n",
    "\n",
    "    return rides"
   ]
  },
  {
   "cell_type": "code",
   "execution_count": 5,
   "metadata": {},
   "outputs": [],
   "source": [
    "# from src.data import load_raw_data\n",
    "\n",
    "# def fetch_batch_raw_data(from_date: datetime, to_date: datetime) -> pd.DataFrame:\n",
    "#     \"\"\"\n",
    "#     Simulate production data by sampling historical data from 52 weeks ago (i.e. 1 year)\n",
    "#     \"\"\"\n",
    "#     from_date_ = from_date - timedelta(days=7*52)\n",
    "#     to_date_ = to_date - timedelta(days=7*52)\n",
    "#     print(f'{from_date=}, {to_date_=}')\n",
    "\n",
    "#     # download 2 files from website\n",
    "#     rides = load_raw_data(year=from_date_.year, months=from_date_.month)\n",
    "#     rides = rides[rides.pickup_datetime >= from_date_]\n",
    "#     rides_2 = load_raw_data(year=to_date_.year, months=to_date_.month)\n",
    "#     rides_2 = rides_2[rides_2.pickup_datetime < to_date_]\n",
    "\n",
    "#     rides = pd.concat([rides, rides_2])\n",
    "\n",
    "#     # shift the data to pretend this is recent data\n",
    "#     rides['pickup_datetime'] += timedelta(days=7*52)\n",
    "\n",
    "#     rides.sort_values(by=['pickup_location_id', 'pickup_datetime'], inplace=True)\n",
    "\n",
    "#     return rides"
   ]
  },
  {
   "cell_type": "code",
   "execution_count": 24,
   "metadata": {},
   "outputs": [
    {
     "name": "stdout",
     "output_type": "stream",
     "text": [
      "File 2022-11 was already in local storage\n",
      "File 2022-12 was already in local storage\n",
      "File 2023-01 was already in local storage\n"
     ]
    }
   ],
   "source": [
    "rides = fetch_batch_raw_data(from_date=fetch_data_from, to_date=fetch_data_to)"
   ]
  },
  {
   "cell_type": "code",
   "execution_count": 25,
   "metadata": {},
   "outputs": [
    {
     "name": "stderr",
     "output_type": "stream",
     "text": [
      "100%|██████████| 262/262 [00:00<00:00, 368.48it/s]\n"
     ]
    }
   ],
   "source": [
    "from src.data import transform_raw_data_into_ts_data\n",
    "ts_data = transform_raw_data_into_ts_data(rides)"
   ]
  },
  {
   "cell_type": "code",
   "execution_count": 26,
   "metadata": {},
   "outputs": [
    {
     "data": {
      "text/html": [
       "<div>\n",
       "<style scoped>\n",
       "    .dataframe tbody tr th:only-of-type {\n",
       "        vertical-align: middle;\n",
       "    }\n",
       "\n",
       "    .dataframe tbody tr th {\n",
       "        vertical-align: top;\n",
       "    }\n",
       "\n",
       "    .dataframe thead th {\n",
       "        text-align: right;\n",
       "    }\n",
       "</style>\n",
       "<table border=\"1\" class=\"dataframe\">\n",
       "  <thead>\n",
       "    <tr style=\"text-align: right;\">\n",
       "      <th></th>\n",
       "      <th>pickup_hour</th>\n",
       "      <th>rides</th>\n",
       "      <th>pickup_location_id</th>\n",
       "      <th>pickup_ts</th>\n",
       "    </tr>\n",
       "  </thead>\n",
       "  <tbody>\n",
       "    <tr>\n",
       "      <th>0</th>\n",
       "      <td>2023-11-01 00:00:00</td>\n",
       "      <td>0</td>\n",
       "      <td>1</td>\n",
       "      <td>1698796800000</td>\n",
       "    </tr>\n",
       "    <tr>\n",
       "      <th>1</th>\n",
       "      <td>2023-11-01 01:00:00</td>\n",
       "      <td>0</td>\n",
       "      <td>1</td>\n",
       "      <td>1698800400000</td>\n",
       "    </tr>\n",
       "    <tr>\n",
       "      <th>2</th>\n",
       "      <td>2023-11-01 02:00:00</td>\n",
       "      <td>0</td>\n",
       "      <td>1</td>\n",
       "      <td>1698804000000</td>\n",
       "    </tr>\n",
       "    <tr>\n",
       "      <th>3</th>\n",
       "      <td>2023-11-01 03:00:00</td>\n",
       "      <td>0</td>\n",
       "      <td>1</td>\n",
       "      <td>1698807600000</td>\n",
       "    </tr>\n",
       "    <tr>\n",
       "      <th>4</th>\n",
       "      <td>2023-11-01 04:00:00</td>\n",
       "      <td>0</td>\n",
       "      <td>1</td>\n",
       "      <td>1698811200000</td>\n",
       "    </tr>\n",
       "    <tr>\n",
       "      <th>...</th>\n",
       "      <td>...</td>\n",
       "      <td>...</td>\n",
       "      <td>...</td>\n",
       "      <td>...</td>\n",
       "    </tr>\n",
       "    <tr>\n",
       "      <th>407405</th>\n",
       "      <td>2024-01-04 14:00:00</td>\n",
       "      <td>5</td>\n",
       "      <td>265</td>\n",
       "      <td>1704376800000</td>\n",
       "    </tr>\n",
       "    <tr>\n",
       "      <th>407406</th>\n",
       "      <td>2024-01-04 15:00:00</td>\n",
       "      <td>5</td>\n",
       "      <td>265</td>\n",
       "      <td>1704380400000</td>\n",
       "    </tr>\n",
       "    <tr>\n",
       "      <th>407407</th>\n",
       "      <td>2024-01-04 16:00:00</td>\n",
       "      <td>1</td>\n",
       "      <td>265</td>\n",
       "      <td>1704384000000</td>\n",
       "    </tr>\n",
       "    <tr>\n",
       "      <th>407408</th>\n",
       "      <td>2024-01-04 17:00:00</td>\n",
       "      <td>1</td>\n",
       "      <td>265</td>\n",
       "      <td>1704387600000</td>\n",
       "    </tr>\n",
       "    <tr>\n",
       "      <th>407409</th>\n",
       "      <td>2024-01-04 18:00:00</td>\n",
       "      <td>0</td>\n",
       "      <td>265</td>\n",
       "      <td>1704391200000</td>\n",
       "    </tr>\n",
       "  </tbody>\n",
       "</table>\n",
       "<p>407410 rows × 4 columns</p>\n",
       "</div>"
      ],
      "text/plain": [
       "               pickup_hour  rides  pickup_location_id      pickup_ts\n",
       "0      2023-11-01 00:00:00      0                   1  1698796800000\n",
       "1      2023-11-01 01:00:00      0                   1  1698800400000\n",
       "2      2023-11-01 02:00:00      0                   1  1698804000000\n",
       "3      2023-11-01 03:00:00      0                   1  1698807600000\n",
       "4      2023-11-01 04:00:00      0                   1  1698811200000\n",
       "...                    ...    ...                 ...            ...\n",
       "407405 2024-01-04 14:00:00      5                 265  1704376800000\n",
       "407406 2024-01-04 15:00:00      5                 265  1704380400000\n",
       "407407 2024-01-04 16:00:00      1                 265  1704384000000\n",
       "407408 2024-01-04 17:00:00      1                 265  1704387600000\n",
       "407409 2024-01-04 18:00:00      0                 265  1704391200000\n",
       "\n",
       "[407410 rows x 4 columns]"
      ]
     },
     "execution_count": 26,
     "metadata": {},
     "output_type": "execute_result"
    }
   ],
   "source": [
    "ts_data"
   ]
  },
  {
   "cell_type": "code",
   "execution_count": 29,
   "metadata": {},
   "outputs": [
    {
     "name": "stdout",
     "output_type": "stream",
     "text": [
      "len(ts_data.loc[ts_data.pickup_location_id == 199, :])=1555\n"
     ]
    }
   ],
   "source": [
    "print(f'{len(ts_data.loc[ts_data.pickup_location_id == 199, :])=}')"
   ]
  },
  {
   "cell_type": "code",
   "execution_count": 9,
   "metadata": {},
   "outputs": [],
   "source": [
    "# # string to datetime\n",
    "# ts_data['pickup_hour'] = pd.to_datetime(ts_data['pickup_hour'], utc=True)\n",
    "\n",
    "# # add column with Unix epoch milliseconds\n",
    "# ts_data['pickup_ts'] = ts_data['pickup_hour'].astype(int) // 10**6"
   ]
  },
  {
   "cell_type": "code",
   "execution_count": 10,
   "metadata": {},
   "outputs": [
    {
     "name": "stdout",
     "output_type": "stream",
     "text": [
      "Connected. Call `.close()` to terminate connection gracefully.\n",
      "\n",
      "Logged in to project, explore it here https://c.app.hopsworks.ai:443/p/305300\n",
      "Connected. Call `.close()` to terminate connection gracefully.\n"
     ]
    }
   ],
   "source": [
    "import hopsworks\n",
    "\n",
    "# connect to the project\n",
    "project = hopsworks.login(\n",
    "    project=config.HOPSWORKS_PROJECT_NAME,\n",
    "    api_key_value=config.HOPSWORKS_API_KEY\n",
    ")\n",
    "\n",
    "# connect to the feature store\n",
    "feature_store = project.get_feature_store()\n",
    "\n",
    "# connect to the feature group\n",
    "feature_group = feature_store.get_or_create_feature_group(\n",
    "    name=config.FEATURE_GROUP_NAME,\n",
    "    version=config.FEATURE_GROUP_VERSION,\n",
    "    description=\"Time-series data at hourly frequency\",\n",
    "    primary_key = ['pickup_location_id', 'pickup_ts'],\n",
    "    event_time='pickup_ts',\n",
    ")"
   ]
  },
  {
   "cell_type": "code",
   "execution_count": 11,
   "metadata": {},
   "outputs": [
    {
     "data": {
      "application/vnd.jupyter.widget-view+json": {
       "model_id": "2bac4629df084df492d73472b78b02f6",
       "version_major": 2,
       "version_minor": 0
      },
      "text/plain": [
       "Uploading Dataframe: 0.00% |          | Rows 0/377280 | Elapsed Time: 00:00 | Remaining Time: ?"
      ]
     },
     "metadata": {},
     "output_type": "display_data"
    },
    {
     "name": "stdout",
     "output_type": "stream",
     "text": [
      "Launching job: time_series_hourly_feature_group_1_offline_fg_materialization\n",
      "Job started successfully, you can follow the progress at \n",
      "https://c.app.hopsworks.ai/p/305300/jobs/named/time_series_hourly_feature_group_1_offline_fg_materialization/executions\n"
     ]
    },
    {
     "data": {
      "text/plain": [
       "(<hsfs.core.job.Job at 0x7fbb935ea8d0>, None)"
      ]
     },
     "execution_count": 11,
     "metadata": {},
     "output_type": "execute_result"
    }
   ],
   "source": [
    "feature_group.insert(ts_data, write_options={\"wait_for_job\": False})"
   ]
  },
  {
   "cell_type": "code",
   "execution_count": 12,
   "metadata": {},
   "outputs": [
    {
     "name": "stdout",
     "output_type": "stream",
     "text": [
      "Connected. Call `.close()` to terminate connection gracefully.\n",
      "Connection closed.\n"
     ]
    }
   ],
   "source": [
    "# hopsworks.connection().close()"
   ]
  },
  {
   "cell_type": "code",
   "execution_count": null,
   "metadata": {},
   "outputs": [],
   "source": []
  }
 ],
 "metadata": {
  "kernelspec": {
   "display_name": ".venv",
   "language": "python",
   "name": "python3"
  },
  "language_info": {
   "codemirror_mode": {
    "name": "ipython",
    "version": 3
   },
   "file_extension": ".py",
   "mimetype": "text/x-python",
   "name": "python",
   "nbconvert_exporter": "python",
   "pygments_lexer": "ipython3",
   "version": "3.11.7"
  }
 },
 "nbformat": 4,
 "nbformat_minor": 2
}

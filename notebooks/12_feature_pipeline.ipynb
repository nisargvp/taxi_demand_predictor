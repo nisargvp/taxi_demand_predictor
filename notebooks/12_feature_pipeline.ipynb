{
 "cells": [
  {
   "cell_type": "code",
   "execution_count": 1,
   "metadata": {},
   "outputs": [],
   "source": [
    "import src.config as config"
   ]
  },
  {
   "cell_type": "code",
   "execution_count": 2,
   "metadata": {},
   "outputs": [
    {
     "name": "stdout",
     "output_type": "stream",
     "text": [
      "current_date=Timestamp('2023-12-30 20:00:00')\n"
     ]
    }
   ],
   "source": [
    "from datetime import datetime, timedelta\n",
    "\n",
    "import pandas as pd\n",
    "\n",
    "current_date = pd.to_datetime(datetime.utcnow()).floor('H')\n",
    "print(f'{current_date=}')\n",
    "\n",
    "# we fetch raw data for the last 90 days, to add redundancy to our data pipeline\n",
    "fetch_data_to = current_date\n",
    "fetch_data_from = current_date - timedelta(days=60)"
   ]
  },
  {
   "cell_type": "code",
   "execution_count": 3,
   "metadata": {},
   "outputs": [],
   "source": [
    "from src.data import load_raw_data\n",
    "\n",
    "def fetch_batch_raw_data(from_date: datetime, to_date: datetime) -> pd.DataFrame:\n",
    "    \"\"\"\n",
    "    Simulate production data by sampling historical data from 52 weeks ago (i.e. 1 year)\n",
    "    Modified version of the fetch_batch_raw_data\n",
    "    \"\"\"\n",
    "    \n",
    "    # fetching data for all concerned months using load_raw_data\n",
    "    dates_to_fetch = pd.date_range(\n",
    "        start=from_date, \n",
    "        end=to_date + pd.offsets.DateOffset(months=1), \n",
    "        freq='M'\n",
    "    )\n",
    "    \n",
    "    rides = pd.DataFrame()\n",
    "    for date in dates_to_fetch:\n",
    "        date_ = date - pd.offsets.DateOffset(years=1)\n",
    "        rides_date = load_raw_data(year=date_.year, months=date_.month)\n",
    "        rides = pd.concat([rides, rides_date])\n",
    "\n",
    "\n",
    "    # shift the data to pretend this is recent data \n",
    "    rides['pickup_datetime'] += pd.offsets.DateOffset(years=1)\n",
    "\n",
    "    rides = rides[rides['pickup_datetime'] >= from_date]\n",
    "    rides = rides[rides['pickup_datetime'] < to_date]\n",
    "\n",
    "    rides.sort_values(by=['pickup_location_id', 'pickup_datetime'], inplace=True)\n",
    "\n",
    "    return rides"
   ]
  },
  {
   "cell_type": "code",
   "execution_count": 4,
   "metadata": {},
   "outputs": [],
   "source": [
    "# from src.data import load_raw_data\n",
    "\n",
    "# def fetch_batch_raw_data(from_date: datetime, to_date: datetime) -> pd.DataFrame:\n",
    "#     \"\"\"\n",
    "#     Simulate production data by sampling historical data from 52 weeks ago (i.e. 1 year)\n",
    "#     \"\"\"\n",
    "#     from_date_ = from_date - timedelta(days=7*52)\n",
    "#     to_date_ = to_date - timedelta(days=7*52)\n",
    "#     print(f'{from_date=}, {to_date_=}')\n",
    "\n",
    "#     # download 2 files from website\n",
    "#     rides = load_raw_data(year=from_date_.year, months=from_date_.month)\n",
    "#     rides = rides[rides.pickup_datetime >= from_date_]\n",
    "#     rides_2 = load_raw_data(year=to_date_.year, months=to_date_.month)\n",
    "#     rides_2 = rides_2[rides_2.pickup_datetime < to_date_]\n",
    "\n",
    "#     rides = pd.concat([rides, rides_2])\n",
    "\n",
    "#     # shift the data to pretend this is recent data\n",
    "#     rides['pickup_datetime'] += timedelta(days=7*52)\n",
    "\n",
    "#     rides.sort_values(by=['pickup_location_id', 'pickup_datetime'], inplace=True)\n",
    "\n",
    "#     return rides"
   ]
  },
  {
   "cell_type": "code",
   "execution_count": 5,
   "metadata": {},
   "outputs": [
    {
     "name": "stdout",
     "output_type": "stream",
     "text": [
      "File 2022-10 was already in local storage\n",
      "File 2022-11 was already in local storage\n",
      "File 2022-12 was already in local storage\n"
     ]
    }
   ],
   "source": [
    "rides = fetch_batch_raw_data(from_date=fetch_data_from, to_date=fetch_data_to)"
   ]
  },
  {
   "cell_type": "code",
   "execution_count": 6,
   "metadata": {},
   "outputs": [
    {
     "name": "stderr",
     "output_type": "stream",
     "text": [
      "100%|██████████| 262/262 [00:00<00:00, 418.46it/s]\n"
     ]
    }
   ],
   "source": [
    "from src.data import transform_raw_data_into_ts_data\n",
    "ts_data = transform_raw_data_into_ts_data(rides)"
   ]
  },
  {
   "cell_type": "code",
   "execution_count": 19,
   "metadata": {},
   "outputs": [
    {
     "data": {
      "text/html": [
       "<div>\n",
       "<style scoped>\n",
       "    .dataframe tbody tr th:only-of-type {\n",
       "        vertical-align: middle;\n",
       "    }\n",
       "\n",
       "    .dataframe tbody tr th {\n",
       "        vertical-align: top;\n",
       "    }\n",
       "\n",
       "    .dataframe thead th {\n",
       "        text-align: right;\n",
       "    }\n",
       "</style>\n",
       "<table border=\"1\" class=\"dataframe\">\n",
       "  <thead>\n",
       "    <tr style=\"text-align: right;\">\n",
       "      <th></th>\n",
       "      <th>pickup_hour</th>\n",
       "      <th>rides</th>\n",
       "      <th>pickup_location_id</th>\n",
       "      <th>pickup_ts</th>\n",
       "    </tr>\n",
       "  </thead>\n",
       "  <tbody>\n",
       "    <tr>\n",
       "      <th>0</th>\n",
       "      <td>2023-10-31 20:00:00</td>\n",
       "      <td>0</td>\n",
       "      <td>1</td>\n",
       "      <td>1698782400000</td>\n",
       "    </tr>\n",
       "    <tr>\n",
       "      <th>1</th>\n",
       "      <td>2023-10-31 21:00:00</td>\n",
       "      <td>0</td>\n",
       "      <td>1</td>\n",
       "      <td>1698786000000</td>\n",
       "    </tr>\n",
       "    <tr>\n",
       "      <th>2</th>\n",
       "      <td>2023-10-31 22:00:00</td>\n",
       "      <td>0</td>\n",
       "      <td>1</td>\n",
       "      <td>1698789600000</td>\n",
       "    </tr>\n",
       "    <tr>\n",
       "      <th>3</th>\n",
       "      <td>2023-10-31 23:00:00</td>\n",
       "      <td>0</td>\n",
       "      <td>1</td>\n",
       "      <td>1698793200000</td>\n",
       "    </tr>\n",
       "    <tr>\n",
       "      <th>4</th>\n",
       "      <td>2023-11-01 00:00:00</td>\n",
       "      <td>0</td>\n",
       "      <td>1</td>\n",
       "      <td>1698796800000</td>\n",
       "    </tr>\n",
       "    <tr>\n",
       "      <th>...</th>\n",
       "      <td>...</td>\n",
       "      <td>...</td>\n",
       "      <td>...</td>\n",
       "      <td>...</td>\n",
       "    </tr>\n",
       "    <tr>\n",
       "      <th>377275</th>\n",
       "      <td>2023-12-30 15:00:00</td>\n",
       "      <td>2</td>\n",
       "      <td>265</td>\n",
       "      <td>1703948400000</td>\n",
       "    </tr>\n",
       "    <tr>\n",
       "      <th>377276</th>\n",
       "      <td>2023-12-30 16:00:00</td>\n",
       "      <td>12</td>\n",
       "      <td>265</td>\n",
       "      <td>1703952000000</td>\n",
       "    </tr>\n",
       "    <tr>\n",
       "      <th>377277</th>\n",
       "      <td>2023-12-30 17:00:00</td>\n",
       "      <td>6</td>\n",
       "      <td>265</td>\n",
       "      <td>1703955600000</td>\n",
       "    </tr>\n",
       "    <tr>\n",
       "      <th>377278</th>\n",
       "      <td>2023-12-30 18:00:00</td>\n",
       "      <td>4</td>\n",
       "      <td>265</td>\n",
       "      <td>1703959200000</td>\n",
       "    </tr>\n",
       "    <tr>\n",
       "      <th>377279</th>\n",
       "      <td>2023-12-30 19:00:00</td>\n",
       "      <td>2</td>\n",
       "      <td>265</td>\n",
       "      <td>1703962800000</td>\n",
       "    </tr>\n",
       "  </tbody>\n",
       "</table>\n",
       "<p>377280 rows × 4 columns</p>\n",
       "</div>"
      ],
      "text/plain": [
       "               pickup_hour  rides  pickup_location_id      pickup_ts\n",
       "0      2023-10-31 20:00:00      0                   1  1698782400000\n",
       "1      2023-10-31 21:00:00      0                   1  1698786000000\n",
       "2      2023-10-31 22:00:00      0                   1  1698789600000\n",
       "3      2023-10-31 23:00:00      0                   1  1698793200000\n",
       "4      2023-11-01 00:00:00      0                   1  1698796800000\n",
       "...                    ...    ...                 ...            ...\n",
       "377275 2023-12-30 15:00:00      2                 265  1703948400000\n",
       "377276 2023-12-30 16:00:00     12                 265  1703952000000\n",
       "377277 2023-12-30 17:00:00      6                 265  1703955600000\n",
       "377278 2023-12-30 18:00:00      4                 265  1703959200000\n",
       "377279 2023-12-30 19:00:00      2                 265  1703962800000\n",
       "\n",
       "[377280 rows x 4 columns]"
      ]
     },
     "execution_count": 19,
     "metadata": {},
     "output_type": "execute_result"
    }
   ],
   "source": [
    "ts_data"
   ]
  },
  {
   "cell_type": "code",
   "execution_count": 17,
   "metadata": {},
   "outputs": [
    {
     "name": "stdout",
     "output_type": "stream",
     "text": [
      "unique pickup_hour: 1440\n",
      "unique pickup_ts: 1440\n"
     ]
    }
   ],
   "source": [
    "print(f'unique pickup_hour: {ts_data.pickup_hour.nunique()}')\n",
    "print(f'unique pickup_ts: {ts_data.pickup_ts.nunique()}')"
   ]
  },
  {
   "cell_type": "code",
   "execution_count": 8,
   "metadata": {},
   "outputs": [],
   "source": [
    "# # string to datetime\n",
    "# ts_data['pickup_hour'] = pd.to_datetime(ts_data['pickup_hour'], utc=True)\n",
    "\n",
    "# # add column with Unix epoch milliseconds\n",
    "# ts_data['pickup_ts'] = ts_data['pickup_hour'].astype(int) // 10**6"
   ]
  },
  {
   "cell_type": "code",
   "execution_count": 20,
   "metadata": {},
   "outputs": [
    {
     "name": "stdout",
     "output_type": "stream",
     "text": [
      "Connection closed.\n",
      "Connected. Call `.close()` to terminate connection gracefully.\n",
      "\n",
      "Logged in to project, explore it here https://c.app.hopsworks.ai:443/p/305300\n",
      "Connected. Call `.close()` to terminate connection gracefully.\n"
     ]
    }
   ],
   "source": [
    "import hopsworks\n",
    "\n",
    "# connect to the project\n",
    "project = hopsworks.login(\n",
    "    project=config.HOPSWORKS_PROJECT_NAME,\n",
    "    api_key_value=config.HOPSWORKS_API_KEY\n",
    ")\n",
    "\n",
    "# connect to the feature store\n",
    "feature_store = project.get_feature_store()\n",
    "\n",
    "# connect to the feature group\n",
    "feature_group = feature_store.get_or_create_feature_group(\n",
    "    name=config.FEATURE_GROUP_NAME,\n",
    "    version=config.FEATURE_GROUP_VERSION,\n",
    "    description=\"Time-series data at hourly frequency\",\n",
    "    primary_key = ['pickup_location_id', 'pickup_ts'],\n",
    "    event_time='pickup_ts',\n",
    ")"
   ]
  },
  {
   "cell_type": "code",
   "execution_count": 10,
   "metadata": {},
   "outputs": [],
   "source": [
    "# hopsworks.connection().close()"
   ]
  },
  {
   "cell_type": "code",
   "execution_count": 21,
   "metadata": {},
   "outputs": [
    {
     "data": {
      "application/vnd.jupyter.widget-view+json": {
       "model_id": "fb8b2c7acefc40d692b6bd566c6534e2",
       "version_major": 2,
       "version_minor": 0
      },
      "text/plain": [
       "Uploading Dataframe: 0.00% |          | Rows 0/377280 | Elapsed Time: 00:00 | Remaining Time: ?"
      ]
     },
     "metadata": {},
     "output_type": "display_data"
    },
    {
     "name": "stdout",
     "output_type": "stream",
     "text": [
      "Launching job: time_series_hourly_feature_group_2_offline_fg_materialization\n",
      "Job started successfully, you can follow the progress at \n",
      "https://c.app.hopsworks.ai/p/305300/jobs/named/time_series_hourly_feature_group_2_offline_fg_materialization/executions\n"
     ]
    },
    {
     "data": {
      "text/plain": [
       "(<hsfs.core.job.Job at 0x7f2a13467cd0>, None)"
      ]
     },
     "execution_count": 21,
     "metadata": {},
     "output_type": "execute_result"
    }
   ],
   "source": [
    "feature_group.insert(ts_data, write_options={\"wait_for_job\": False})"
   ]
  },
  {
   "cell_type": "code",
   "execution_count": null,
   "metadata": {},
   "outputs": [],
   "source": []
  }
 ],
 "metadata": {
  "kernelspec": {
   "display_name": ".venv",
   "language": "python",
   "name": "python3"
  },
  "language_info": {
   "codemirror_mode": {
    "name": "ipython",
    "version": 3
   },
   "file_extension": ".py",
   "mimetype": "text/x-python",
   "name": "python",
   "nbconvert_exporter": "python",
   "pygments_lexer": "ipython3",
   "version": "3.11.7"
  }
 },
 "nbformat": 4,
 "nbformat_minor": 2
}
